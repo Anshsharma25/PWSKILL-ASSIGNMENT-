{
 "cells": [
  {
   "cell_type": "markdown",
   "id": "7f9c16ce-d012-4489-bc80-66daac13de6f",
   "metadata": {},
   "source": [
    "Constructor question:"
   ]
  },
  {
   "cell_type": "markdown",
   "id": "87b54597-3f74-4d70-8194-d5272b26e5b7",
   "metadata": {},
   "source": [
    "1. What is a constructor in Python? Explain its purpose and usage."
   ]
  },
  {
   "cell_type": "raw",
   "id": "b5411cc6-1b53-4521-9212-e1c0f8bcd701",
   "metadata": {},
   "source": [
    "A constructor is a special method in python that is called when a object is created \n",
    "it is used to initialize the attributes of an object.\n",
    "The purpose of a constructor is to initialize the object’s attributes to some default values when it is created.\n",
    "There are two types of constructors in Python: default constructor and parameterized constructor. A default constructor \n",
    "is a simple constructor that does not accept any arguments. Its definition has only one argument, which is a reference to the instance being constructed. \n",
    "A parameterized constructor, on the other hand, takes one or more arguments and initializes the attributes of the object with the values passed as arguments\n",
    "\n",
    "class MyClass:\n",
    "    def __init__(self):\n",
    "        self.my_attribute = 0 # this is example of default \n",
    "        \n",
    "class MyClass:\n",
    "    def __init__(self, my_attribute):\n",
    "        self.my_attribute = my_attribute # it is a example of parameterized"
   ]
  },
  {
   "cell_type": "markdown",
   "id": "f05a640a-f365-46f3-86d9-a310d6a93d5e",
   "metadata": {},
   "source": [
    "2.Differentiate between a parameterless constructor and a parameterized constructor in Python."
   ]
  },
  {
   "cell_type": "raw",
   "id": "37bd70e1-6a25-4d85-b8ba-d3d554933541",
   "metadata": {},
   "source": [
    "In Python, a parameterless constructor is also known as a default constructor. It is a constructor that does not accept any arguments. \n",
    "Its definition has only one argument, which is a reference to the instance being constructed \n",
    "\n",
    "On the other hand, a parameterized constructor is a constructor that takes one or more arguments and initializes the attributes of the object with the values passed as arguments."
   ]
  },
  {
   "cell_type": "markdown",
   "id": "6a6a091b-d231-40bd-9fbe-b885b53152a6",
   "metadata": {},
   "source": [
    "3. How do you define a constructor in a Python class? Provide an example."
   ]
  },
  {
   "cell_type": "code",
   "execution_count": 1,
   "id": "4f5fcacf-60f3-4b84-a67d-ee97d41913cb",
   "metadata": {
    "tags": []
   },
   "outputs": [],
   "source": [
    "#To define a constructor in a Python class, you need to define a method called __init__() in the class. \n",
    "class MyClass:\n",
    "    def __init__(self, arg1, arg2):\n",
    "        self.attribute1 = arg1\n",
    "        self.attribute2 = arg2\n"
   ]
  },
  {
   "cell_type": "markdown",
   "id": "f4ac4ce4-ad37-44e0-91d6-048b904f5d66",
   "metadata": {},
   "source": [
    "4. Explain the `__init__` method in Python and its role in constructors."
   ]
  },
  {
   "cell_type": "raw",
   "id": "2301033c-238d-4857-acdd-f89363a9a218",
   "metadata": {},
   "source": [
    "The __init__ method is a special method in Python that is called when an object is created. It is used to initialize the attributes of an object and is always called when an object is created.\n",
    "class MyClass:\n",
    "    def __init__(self, my_attribute):\n",
    "        self.my_attribute = my_attribute\n"
   ]
  },
  {
   "cell_type": "markdown",
   "id": "3afe8150-155a-4a5a-98ee-49b9fc4d4345",
   "metadata": {},
   "source": [
    "5. In a class named `Person`, create a constructor that initializes the `name` and `age` attributes. Provide an\n",
    "example of creating an object of this class."
   ]
  },
  {
   "cell_type": "code",
   "execution_count": 2,
   "id": "2981aa87-2a20-4d53-ad7c-5bb2d437e3ec",
   "metadata": {
    "tags": []
   },
   "outputs": [],
   "source": [
    "class person:\n",
    "    def __inti__(self , name, age):\n",
    "        self.name = name \n",
    "        self.age = age"
   ]
  },
  {
   "cell_type": "markdown",
   "id": "1836479d-594b-4130-b33c-a64d2176eabf",
   "metadata": {
    "tags": []
   },
   "source": [
    "6. How can you call a constructor explicitly in Python? Give an example.\n"
   ]
  },
  {
   "cell_type": "code",
   "execution_count": 10,
   "id": "d09cf1a9-0c82-418c-8261-1d6321ae4945",
   "metadata": {
    "tags": []
   },
   "outputs": [],
   "source": [
    "class many:\n",
    "    def __init__(self , name , age):\n",
    "        self.name = name \n",
    "        self.age = age "
   ]
  },
  {
   "cell_type": "code",
   "execution_count": 11,
   "id": "613d3979-3bf8-4990-a82c-55f997dfafe4",
   "metadata": {
    "tags": []
   },
   "outputs": [],
   "source": [
    "new_obj = many(\"ansh\" , 34)"
   ]
  },
  {
   "cell_type": "code",
   "execution_count": 12,
   "id": "619deadc-b73b-42fe-a2b1-81ef14f0796b",
   "metadata": {
    "tags": []
   },
   "outputs": [],
   "source": [
    "many.__init__(new_obj , \"ashu\" , 67)"
   ]
  },
  {
   "cell_type": "code",
   "execution_count": 15,
   "id": "bc390e6f-4d6c-4953-9cfb-30129fc0e533",
   "metadata": {
    "tags": []
   },
   "outputs": [
    {
     "data": {
      "text/plain": [
       "67"
      ]
     },
     "execution_count": 15,
     "metadata": {},
     "output_type": "execute_result"
    }
   ],
   "source": [
    "new_obj.age"
   ]
  },
  {
   "cell_type": "markdown",
   "id": "05493b50-bc4b-44b9-ac11-4ba59bf5ec2a",
   "metadata": {},
   "source": [
    "7. What is the significance of the `self` parameter in Python constructors? Explain with an example."
   ]
  },
  {
   "cell_type": "raw",
   "id": "297bd906-14a3-4fde-b88d-b042fec41f93",
   "metadata": {},
   "source": [
    "The self parameter in Python constructors is a reference to the instance of the class itself. It is the first parameter of instance methods in Python. When you call a method on an instance, self is automatically passed as the first argument to the method, allowing you to access and modify the object’s attributes."
   ]
  },
  {
   "cell_type": "markdown",
   "id": "c3f4cbe6-a63e-44ec-b4a0-becf8985d758",
   "metadata": {},
   "source": [
    "8. Discuss the concept of default constructors in Python. When are they used?"
   ]
  },
  {
   "cell_type": "raw",
   "id": "6a5eaf7e-77ff-46bd-9b7a-d4fd01c4b3de",
   "metadata": {},
   "source": [
    "In Python, a default constructor is a simple constructor that does not accept any arguments. Its definition has only one argument, which is a reference to the instance being constructed 1. Default constructors are used when you want to create an object with default values for its attributes."
   ]
  },
  {
   "cell_type": "markdown",
   "id": "37c555f6-3c07-44ba-b422-58ebecd39ce9",
   "metadata": {},
   "source": [
    "9. Create a Python class called `Rectangle` with a constructor that initializes the `width` and `height`\n",
    "attributes. Provide a method to calculate the area of the rectangle."
   ]
  },
  {
   "cell_type": "code",
   "execution_count": 19,
   "id": "e46738cd-d2ba-48e7-beb4-11c14d85cadd",
   "metadata": {
    "tags": []
   },
   "outputs": [],
   "source": [
    "class Rectangle:\n",
    "    def __init__(self , width , height):\n",
    "        self.width = width\n",
    "        self.height = height \n",
    "        \n",
    "    def Area_of_rectangle(self):\n",
    "        return self.width * self.height"
   ]
  },
  {
   "cell_type": "code",
   "execution_count": 25,
   "id": "6bd3cef9-95cd-479d-a89b-601da93a2f7a",
   "metadata": {
    "tags": []
   },
   "outputs": [
    {
     "name": "stdout",
     "output_type": "stream",
     "text": [
      "20\n"
     ]
    }
   ],
   "source": [
    "rect = Rectangle(4,5)\n",
    "area = rect.Area_of_rectangle()\n",
    "print(area)"
   ]
  },
  {
   "cell_type": "markdown",
   "id": "3b52aa40-cfa7-4526-9bbf-3280f2251735",
   "metadata": {},
   "source": [
    "10. How can you have multiple constructors in a Python class? Explain with an example."
   ]
  },
  {
   "cell_type": "code",
   "execution_count": 26,
   "id": "8c67dbb6-54dd-4896-b82d-4f766d0b2d99",
   "metadata": {
    "tags": []
   },
   "outputs": [],
   "source": [
    "class Rectangle:\n",
    "    def __init__(self , width , height):\n",
    "        self.width = width\n",
    "        self.height = height"
   ]
  },
  {
   "cell_type": "markdown",
   "id": "3a91f21b-0ae0-439a-81a7-5ff5f5b872e0",
   "metadata": {},
   "source": [
    "11. What is method overloading, and how is it related to constructors in Python?"
   ]
  },
  {
   "cell_type": "raw",
   "id": "fe8423c7-ee47-4390-abb5-f0b81e13ff6d",
   "metadata": {},
   "source": [
    "Method overloading refers to the ability of a class to define multiple methods with the same name but different parameters. In Python, however, method overloading is not supported in the traditional sense as it is in some other programming languages like Java or C++. In Python, if you define multiple methods with the same name in a class, the last one defined will override the previous ones."
   ]
  },
  {
   "cell_type": "markdown",
   "id": "1b487d8b-59c9-475c-963f-7dead8c1fc51",
   "metadata": {},
   "source": [
    "12. Explain the use of the `super()` function in Python constructors. Provide an example."
   ]
  },
  {
   "cell_type": "raw",
   "id": "1738eaf3-5786-4ee5-9827-132a4da125d8",
   "metadata": {},
   "source": [
    "The super() function is typically used in constructors to call the constructor of the parent class and initialize the inherited attributes. This is useful when you want to add new attributes to the subclass while still retaining the attributes of the parent class\n",
    "\n",
    "class person:\n",
    "     def __init__(self, name, age):\n",
    "        self.name = name\n",
    "        self.age = age\n",
    "class employee(person):\n",
    "     def __init__(self, name, age, employee_id):\n",
    "        super().init_(name, age)\n",
    "        self.employee = employee"
   ]
  },
  {
   "cell_type": "markdown",
   "id": "1e42cb6c-fad8-45bc-8391-7f8d9d705e8f",
   "metadata": {},
   "source": [
    "13. Create a class called `Book` with a constructor that initializes the `title`, `author`, and `published_year` attributes. Provide a method to display book details."
   ]
  },
  {
   "cell_type": "code",
   "execution_count": 27,
   "id": "643382ff-8f36-41bd-924e-99bf3d9604c7",
   "metadata": {
    "tags": []
   },
   "outputs": [],
   "source": [
    "class Book:\n",
    "    def __init__(self , title , author, published_year):\n",
    "        self.title = title \n",
    "        self.author = author \n",
    "        self.published_year = published_year\n",
    "        return "
   ]
  },
  {
   "cell_type": "code",
   "execution_count": 28,
   "id": "3308f947-c16e-49ae-a550-fc6a9b17b0b1",
   "metadata": {
    "tags": []
   },
   "outputs": [],
   "source": [
    "dis = Book(\"Python \", \"sudhanshu \", 2023)"
   ]
  },
  {
   "cell_type": "code",
   "execution_count": 29,
   "id": "db97efa4-0deb-4d1c-9a44-5ff6a55ed693",
   "metadata": {
    "tags": []
   },
   "outputs": [
    {
     "data": {
      "text/plain": [
       "'Python '"
      ]
     },
     "execution_count": 29,
     "metadata": {},
     "output_type": "execute_result"
    }
   ],
   "source": [
    "dis.title"
   ]
  },
  {
   "cell_type": "markdown",
   "id": "578d74fd-999a-4fd8-ab8c-9917084eb995",
   "metadata": {},
   "source": [
    "14. Discuss the differences between constructors and regular methods in Python classes."
   ]
  },
  {
   "cell_type": "raw",
   "id": "247ea563-d76f-4032-bb40-855d989349d2",
   "metadata": {},
   "source": [
    "In Python, a constructor is a special method that is called when an object is created. It is used to initialize the attributes of an object and is always called when an object is created 1. The purpose of a constructor is to initialize the object’s attributes to some default values when it is created. This is useful because it ensures that the object is in a valid state when it is created, and it saves you from having to manually set the attributes of the object after it is created.\n",
    "\n",
    "On the other hand, a regular method is a method that operates on an existing class instance. It takes self as its first parameter, which is a reference to the instance of the class itself, and can be used to access and modify the object’s attributes."
   ]
  },
  {
   "cell_type": "markdown",
   "id": "b3a14b1b-3978-4b3c-a1f1-ac326886a9e7",
   "metadata": {},
   "source": [
    "15. Explain the role of the `self` parameter in instance variable initialization within a constructor."
   ]
  },
  {
   "cell_type": "raw",
   "id": "a81c244d-b594-4a3e-99a7-7d0f556d8d1b",
   "metadata": {},
   "source": [
    "In Python, the self parameter is used to refer to the instance of the class that is being created. It is the first parameter of every class method, including the constructor, which is called __init__. By convention, this parameter is always named self. The self parameter allows you to access and set the attributes of the instance being created."
   ]
  },
  {
   "cell_type": "markdown",
   "id": "60edaa70-db00-4502-bc81-9ded925ba1a5",
   "metadata": {},
   "source": [
    "16. How do you prevent a class from having multiple instances by using constructors in Python? Provide an example."
   ]
  },
  {
   "cell_type": "raw",
   "id": "0d0d6cce-2718-4fc3-9ad7-68342a836f52",
   "metadata": {},
   "source": [
    "To prevent a class from having multiple instances, you can use the Singleton pattern. The Singleton pattern is a design pattern that restricts the instantiation of a class to one object 1. In Python, you can implement the Singleton pattern by overriding the __new__ method of the class. The __new__ method is called before the __init__ method and is responsible for creating and returning a new instance of the class.\n",
    "class Singleton:\n",
    "    _instance = None\n",
    "\n",
    "    def __new__(cls):\n",
    "        if cls._instance is None:\n",
    "            cls._instance = super().__new__(cls)\n",
    "        return cls._instance\n"
   ]
  },
  {
   "cell_type": "markdown",
   "id": "c8593fd9-3673-4aa2-84e7-6259a6a921aa",
   "metadata": {},
   "source": [
    "17. Create a Python class called `Student` with a constructor that takes a list of subjects as a parameter and initializes the `subjects` attribute."
   ]
  },
  {
   "cell_type": "code",
   "execution_count": 30,
   "id": "7fe45faf-ac3e-4d23-9f31-e3bfa6c081b0",
   "metadata": {
    "tags": []
   },
   "outputs": [],
   "source": [
    "class student:\n",
    "    def __init__(self, subjects):\n",
    "        self.subjects = subjects\n",
    "        "
   ]
  },
  {
   "cell_type": "code",
   "execution_count": 31,
   "id": "4a71d425-ee3c-49ef-8817-5b95d89393d8",
   "metadata": {
    "tags": []
   },
   "outputs": [],
   "source": [
    "s = student([\"DAA\",\"DSA\", \"computer vision\"])"
   ]
  },
  {
   "cell_type": "code",
   "execution_count": 32,
   "id": "1fcf9030-d05e-4a6a-8352-b3231d8472d1",
   "metadata": {
    "tags": []
   },
   "outputs": [
    {
     "data": {
      "text/plain": [
       "['DAA', 'DSA', 'computer vision']"
      ]
     },
     "execution_count": 32,
     "metadata": {},
     "output_type": "execute_result"
    }
   ],
   "source": [
    "s.subjects"
   ]
  },
  {
   "cell_type": "markdown",
   "id": "528ec901-4abf-408e-9b4f-50c3bbd5969f",
   "metadata": {},
   "source": [
    "18. What is the purpose of the `__del__` method in Python classes, and how does it relate to constructors?"
   ]
  },
  {
   "cell_type": "raw",
   "id": "7c15b80e-1d2a-4466-a50b-8f93df8a9d9a",
   "metadata": {},
   "source": [
    "The __del__ method is a special method in Python classes that is called when an object is about to be destroyed by the garbage collector. It is used to perform any cleanup actions that may be necessary before the object is destroyed\n",
    "class MyClass:\n",
    "    def __init__(self):\n",
    "        print(\"Object created\")\n",
    "\n",
    "    def __del__(self):\n",
    "        print(\"Object destroyed\")\n"
   ]
  },
  {
   "cell_type": "markdown",
   "id": "e935808b-b861-44aa-9e67-85b7efe13688",
   "metadata": {},
   "source": [
    "19. Explain the use of constructor chaining in Python. Provide a practical example."
   ]
  },
  {
   "cell_type": "raw",
   "id": "7cb40697-a494-4c2f-acbf-46b7cc708f9a",
   "metadata": {},
   "source": [
    "Constructor chaining is the process of calling one constructor from another constructor. It is useful when you want to invoke multiple constructors by initializing only one instance\n",
    "class Parent:\n",
    "    def __init__(self, name):\n",
    "        self.name = name\n",
    "\n",
    "class Child(Parent):\n",
    "    def __init__(self, name, age):\n",
    "        super().__init__(name)\n",
    "        self.age = age\n"
   ]
  },
  {
   "cell_type": "markdown",
   "id": "4982254f-8af4-4a7d-a329-a64b0c46ccbd",
   "metadata": {
    "tags": []
   },
   "source": [
    "20. Create a Python class called `Car` with a default constructor that initializes the `make` and `model`\n",
    "attributes. Provide a method to display car information."
   ]
  },
  {
   "cell_type": "code",
   "execution_count": 34,
   "id": "de3a2f0f-62e8-4484-97b9-ff54f6244168",
   "metadata": {
    "tags": []
   },
   "outputs": [],
   "source": [
    "class Car:\n",
    "    def __init__(self , make , model ):\n",
    "        self.make = make \n",
    "        self.model = model \n",
    "        return "
   ]
  },
  {
   "cell_type": "code",
   "execution_count": 36,
   "id": "9ddfd23c-6d60-4a83-a753-b799ee74ce00",
   "metadata": {
    "tags": []
   },
   "outputs": [
    {
     "data": {
      "text/plain": [
       "2022"
      ]
     },
     "execution_count": 36,
     "metadata": {},
     "output_type": "execute_result"
    }
   ],
   "source": [
    "BMW = Car(\"steel\" , 2022)\n",
    "BMW.model"
   ]
  },
  {
   "cell_type": "markdown",
   "id": "1cce4708-73b3-4c14-af31-47f75ea7a21f",
   "metadata": {},
   "source": [
    "Inheritance question:"
   ]
  },
  {
   "cell_type": "markdown",
   "id": "c01d3d67-cfe0-4c46-ae6e-8db48ece7716",
   "metadata": {},
   "source": [
    "What is inheritance in Python? Explain its significance in object-oriented programming."
   ]
  },
  {
   "cell_type": "raw",
   "id": "701d77d9-8bf0-414a-a21a-49aedb0a96d8",
   "metadata": {},
   "source": [
    "Inheritance is a fundamental concept in object-oriented programming that allows you to create a new class by deriving properties and methods from an existing class. The new class is called the subclass or derived class, and the existing class is called the superclass or base class "
   ]
  },
  {
   "cell_type": "markdown",
   "id": "0d37e853-7f96-4a4e-a5d9-bb249c99deda",
   "metadata": {},
   "source": [
    "2. Differentiate between single inheritance and multiple inheritance in Python. Provide examples for each."
   ]
  },
  {
   "cell_type": "raw",
   "id": "fc550abc-beda-45e0-896d-aac84cc3987b",
   "metadata": {},
   "source": [
    "Single inheritance is a type of inheritance in which a derived class inherits from a single base class. In other words, the derived class has only one parent class. \n",
    "Multiple inheritance is a type of inheritance in which a derived class inherits from multiple base classes. In other words, the derived class has multiple parent classes. \n",
    "class A:\n",
    "    def method(self):\n",
    "        print(\"Method of A called.\")\n",
    "\n",
    "class B:\n",
    "    def method(self):\n",
    "        print(\"Method of B called.\")\n",
    "\n",
    "class C(A, B):\n",
    "    pass\n",
    "\n",
    "c = C()\n",
    "c.method()  # Method of A called.\n"
   ]
  },
  {
   "cell_type": "markdown",
   "id": "691ea2a4-c8fc-440c-a970-290fa5f4994d",
   "metadata": {},
   "source": [
    "3. Create a Python class called `Vehicle` with attributes `color` and `speed`. Then, create a child class called\n",
    "`Car` that inherits from `Vehicle` and adds a `brand` attribute. Provide an example of creating a `Car` object."
   ]
  },
  {
   "cell_type": "code",
   "execution_count": 39,
   "id": "de40b30b-3e6e-4a69-b304-9068a8103afc",
   "metadata": {
    "tags": []
   },
   "outputs": [
    {
     "name": "stdout",
     "output_type": "stream",
     "text": [
      "red\n",
      "50\n",
      "BMW\n"
     ]
    }
   ],
   "source": [
    "class Vehicle:\n",
    "    def __init__(self , color , speed):\n",
    "        self.color = color \n",
    "        self.speed = speed\n",
    "    \n",
    "class car(Vehicle):\n",
    "    def __init__(self , color , speed, brand):\n",
    "        super().__init__(color ,speed)\n",
    "        self.brand = brand  \n",
    "        \n",
    "c = car('red' , 50 , 'BMW')\n",
    "print(c.color)\n",
    "print(c.speed)\n",
    "print(c.brand)"
   ]
  },
  {
   "cell_type": "markdown",
   "id": "5da247d7-30af-4fb4-980e-842d62a7c89f",
   "metadata": {
    "tags": []
   },
   "source": [
    "\n",
    "4. Explain the concept of method overriding in inheritance. Provide a practical example."
   ]
  },
  {
   "cell_type": "raw",
   "id": "75bb5cde-bac7-48f4-8d47-9c6031f1ff8a",
   "metadata": {},
   "source": [
    " Method overriding is a feature of inheritance in object-oriented programming that allows a subclass to provide a different \n",
    "    implementation of a method that is already defined in its superclass\n",
    "    \n",
    "class Animal:\n",
    "    def speak(self):\n",
    "        print(\"I am an animal.\")\n",
    "\n",
    "class Dog(Animal):\n",
    "    def speak(self):\n",
    "        print(\"I am a dog.\")\n",
    "\n",
    "d = Dog()\n",
    "d.speak()  # I am a dog.\n"
   ]
  },
  {
   "cell_type": "markdown",
   "id": "a7c8e230-5835-4f9e-98f2-51df5b909029",
   "metadata": {},
   "source": [
    "5. How can you access the methods and attributes of a parent class from a child class in Python? Give an\n",
    "example."
   ]
  },
  {
   "cell_type": "raw",
   "id": "f5079bce-498a-4e0e-b5c9-19f0ef703039",
   "metadata": {},
   "source": [
    "In Python, you can access the methods and attributes of a parent class from a child class using the super() function. The super() function returns a temporary object of the superclass, which allows you to call its methods and access its attributes"
   ]
  },
  {
   "cell_type": "markdown",
   "id": "cf01a435-c891-4ee7-a8b0-ccecb10aa57d",
   "metadata": {},
   "source": [
    "6. Discuss the use of the `super()` function in Python inheritance. When and why is it used? Provide an\n",
    "example."
   ]
  },
  {
   "cell_type": "raw",
   "id": "79c17023-4848-4b5b-8abe-4e11619db7d7",
   "metadata": {},
   "source": [
    "The super() function is used in Python inheritance to refer to the parent class or superclass. It allows you to call methods defined in the superclass from the subclass, enabling you to extend and customize the functionality inherited from the parent class 12.\n",
    "\n",
    "The super() function is typically used when you want to override a method in the subclass but still want to use the implementation of the method in the superclass. "
   ]
  },
  {
   "cell_type": "markdown",
   "id": "5ea63c29-43f6-494b-ae11-243a2a1c2101",
   "metadata": {},
   "source": [
    "7. Create a Python class called `Animal` with a method `speak()`. Then, create child classes `Dog` and `Cat`"
   ]
  },
  {
   "cell_type": "code",
   "execution_count": 40,
   "id": "efd15596-aab4-4504-ab02-061f837ef49a",
   "metadata": {
    "tags": []
   },
   "outputs": [
    {
     "name": "stdout",
     "output_type": "stream",
     "text": [
      "I am a dog.\n"
     ]
    }
   ],
   "source": [
    "class Animal:\n",
    "    def speak(self):\n",
    "        print(\"I am an animal.\")\n",
    "\n",
    "class Dog(Animal):\n",
    "    def speak(self):\n",
    "        print(\"I am a dog.\")\n",
    "\n",
    "class cat(Animal):\n",
    "    def speak(self):\n",
    "        print(\"I am a cat.\")\n",
    "d = Dog()\n",
    "d.speak()  # I am a dog.\n"
   ]
  },
  {
   "cell_type": "markdown",
   "id": "c9261420-2d15-432e-8915-536c6a4161c4",
   "metadata": {},
   "source": [
    "8. Explain the role of the `isinstance()` function in Python and how it relates to inheritance."
   ]
  },
  {
   "cell_type": "raw",
   "id": "29127983-631a-4a24-b15c-b46da2e0380e",
   "metadata": {},
   "source": [
    "The isinstance() function in Python is used to check if an object is an instance of a particular class or a subclass of that class. It returns True if the object is an instance of the class or a subclass, and False otherwise "
   ]
  },
  {
   "cell_type": "markdown",
   "id": "224337fe-f4ad-40d9-b956-4f7fe44fab18",
   "metadata": {},
   "source": [
    "9. What is the purpose of the `issubclass()` function in Python? Provide an example."
   ]
  },
  {
   "cell_type": "raw",
   "id": "7f1762f0-2ec9-4c84-a954-b6b6ca70e35a",
   "metadata": {},
   "source": [
    "The issubclass() function in Python is used to check if a class is a subclass of another class. It returns True if the first class is a subclass of the second class, or if they are the same class. Otherwise, it returns False\n",
    "\n",
    "class Animal:\n",
    "    pass\n",
    "\n",
    "class Dog(Animal):\n",
    "    pass\n",
    "\n",
    "print(issubclass(Dog, Animal))  # True\n",
    "print(issubclass(Animal, Dog))  # False\n"
   ]
  },
  {
   "cell_type": "markdown",
   "id": "53af8d7e-f76f-41cc-98d9-dde4dd76b82c",
   "metadata": {},
   "source": [
    "10. Discuss the concept of constructor inheritance in Python. How are constructors inherited in child classes?"
   ]
  },
  {
   "cell_type": "raw",
   "id": "0f945b2a-3601-4e92-9638-1d5e3060239c",
   "metadata": {},
   "source": [
    "In Python, constructors are inherited by child classes in the same way that other methods are inherited. When a child class is created, it automatically inherits all the methods and attributes of its parent class, including the constructor"
   ]
  },
  {
   "cell_type": "markdown",
   "id": "18956d7e-dfff-49ba-9471-cb2990e065a9",
   "metadata": {},
   "source": [
    "11. Create a Python class called `Shape` with a method `area()` that calculates the area of a shape. Then, create child classes `Circle` and `Rectangle` that inherit from `Shape` and implement the `area()` method\n",
    "accordingly. Provide an example."
   ]
  },
  {
   "cell_type": "code",
   "execution_count": 41,
   "id": "77ed7692-3ed2-48af-92ff-c068d43a9e10",
   "metadata": {
    "tags": []
   },
   "outputs": [],
   "source": [
    "import math\n",
    "\n",
    "class Shape:\n",
    "    def area(self):\n",
    "        pass\n",
    "\n",
    "class Circle(Shape):\n",
    "    def __init__(self, radius):\n",
    "        self.radius = radius\n",
    "\n",
    "    def area(self):\n",
    "        return math.pi * self.radius ** 2\n",
    "\n",
    "class Rectangle(Shape):\n",
    "    def __init__(self, length, width):\n",
    "        self.length = length\n",
    "        self.width = width\n",
    "\n",
    "    def area(self):\n",
    "        return self.length * self.width\n"
   ]
  },
  {
   "cell_type": "code",
   "execution_count": 42,
   "id": "c03a0ce9-557c-4a23-b230-8d369d468be9",
   "metadata": {
    "tags": []
   },
   "outputs": [
    {
     "name": "stdout",
     "output_type": "stream",
     "text": [
      "78.53981633974483\n",
      "12\n"
     ]
    }
   ],
   "source": [
    "c = Circle(5)\n",
    "print(c.area())  # 78.53981633974483\n",
    "\n",
    "r = Rectangle(3, 4)\n",
    "print(r.area())  # 12\n"
   ]
  },
  {
   "cell_type": "markdown",
   "id": "7bc33f96-4d2d-4439-940b-e096f2f0a7fe",
   "metadata": {},
   "source": [
    "12. Explain the use of abstract base classes (ABCs) in Python and how they relate to inheritance. Provide an\n",
    "example using the `abc` module."
   ]
  },
  {
   "cell_type": "raw",
   "id": "fce32871-80e0-4f4d-961e-9f8264241195",
   "metadata": {},
   "source": [
    "Abstract Base Classes (ABCs) are classes that cannot be instantiated and are designed to be subclassed by other classes. They define a set of methods and properties that a subclass must implement, but do not provide an implementation themselves. ABCs are used to define a common interface for a group of related classes, and to ensure that all classes that implement the interface have the same set of methods and properties .\n",
    "\n",
    "In Python, the abc module provides the infrastructure for defining abstract base classes. The ABC class in the abc module is used as a base class for creating abstract classes. To define an abstract method, you can use the @abstractmethod decorator. Any class that inherits from an abstract class must implement all the abstract methods defined in the abstract class .\n",
    "\n",
    "Here’s an example of how to use the abc module to define an abstract base class:\n",
    "import abc\n",
    "class Shape(metaclass=abc.ABCMeta):\n",
    "    @abc.abstractmethod\n",
    "    def area(self):\n",
    "        pass\n",
    "class Circle(Shape):\n",
    "    def __init__(self, radius):\n",
    "        self.radius = radius\n",
    "    def area(self):\n",
    "        return math.pi * self.radius ** 2\n",
    "class Rectangle(Shape):\n",
    "    def __init__(self, length, width):\n",
    "        self.length = length\n",
    "        self.width = width\n",
    "\n",
    "    def area(self):\n",
    "        return self.length * self.width\n",
    "        \n",
    "In this example, the Shape class is an abstract base class that defines an abstract method called area(). The Circle and Rectangle classes inherit from Shape and implement the area() method accordingly. The Circle class takes a radius parameter in its constructor and calculates the area of a circle using the formula π * r^2. The Rectangle class takes length and width parameters in its constructor and calculates the area of a rectangle using the formula length * width.\n",
    "\n",
    "When you create an instance of the Circle or Rectangle class, you can call the area() method to get the area of the shape:\n",
    "c = Circle(5)\n",
    "print(c.area()) \n",
    "\n",
    "r = Rectangle(3, 4)\n",
    "print(r.area()) "
   ]
  },
  {
   "cell_type": "markdown",
   "id": "8f177b55-0f43-4532-a1af-3ad2d99caa5a",
   "metadata": {},
   "source": [
    "13. How can you prevent a child class from modifying certain attributes or methods inherited from a parent\n",
    "class in Python?"
   ]
  },
  {
   "cell_type": "raw",
   "id": "62bd78d5-eae8-4334-81c9-f8a81d2b0a53",
   "metadata": {},
   "source": [
    "In Python, you can prevent a child class from modifying certain attributes or methods inherited from a parent class by using name mangling. Name mangling is a technique that allows you to change the name of an attribute or method by adding a double underscore prefix to the name.\n",
    "\n",
    "When you add a double underscore prefix to an attribute or method name, Python automatically changes the name to _classname__attribute or _classname__method. This makes it difficult for a child class to modify the attribute or method, as the name has been changed"
   ]
  },
  {
   "cell_type": "markdown",
   "id": "718af4c8-5fa6-410a-bdf3-12575c413932",
   "metadata": {},
   "source": [
    "14. Create a Python class called `Employee` with attributes `name` and `salary`. Then, create a child class\n",
    "`Manager` that inherits from `Employee` and adds an attribute `department`. Provide an example."
   ]
  },
  {
   "cell_type": "code",
   "execution_count": 43,
   "id": "30b2836c-5803-4c97-9fc5-9bcb26e65ca4",
   "metadata": {
    "tags": []
   },
   "outputs": [],
   "source": [
    "class Employee:\n",
    "    def __init__(self, name , salary ):\n",
    "        self.name = name \n",
    "        self.salary = salary\n",
    "        \n",
    "class Manager(Employee):\n",
    "    def __init__(self, name , salary , department):\n",
    "        super().__init__(name , salary)\n",
    "        self.department = department "
   ]
  },
  {
   "cell_type": "code",
   "execution_count": 44,
   "id": "5823e96e-1a43-40da-8de9-b9f36463a7c6",
   "metadata": {
    "tags": []
   },
   "outputs": [
    {
     "data": {
      "text/plain": [
       "'CSE'"
      ]
     },
     "execution_count": 44,
     "metadata": {},
     "output_type": "execute_result"
    }
   ],
   "source": [
    "Ansh = Manager(\"ASHU\" , 200000 , \"CSE\")\n",
    "Ansh.department"
   ]
  },
  {
   "cell_type": "markdown",
   "id": "bc297b56-885f-42ed-9814-fee2860ce649",
   "metadata": {},
   "source": [
    "15. Discuss the concept of method overloading in Python inheritance. How does it differ from method\n",
    "overriding?"
   ]
  },
  {
   "cell_type": "raw",
   "id": "ee6566c7-fdeb-4750-9b68-731c730e593d",
   "metadata": {},
   "source": [
    "Method overriding is a feature of inheritance in object-oriented programming that allows a subclass to provide a different implementation of a method that is already defined in its superclass. When a method is overridden in a subclass, the subclass version of the method is called instead of the superclass version when the method is invoked on an instance of the subclass\n",
    "\n",
    "The main difference between method overloading and method overriding is that method overloading is used to define multiple methods with the same name but different parameters, while method overriding is used to provide a different implementation of a method that is already defined in a superclass."
   ]
  },
  {
   "cell_type": "markdown",
   "id": "93f00618-b7b8-4262-bbf6-e46d4d10f615",
   "metadata": {},
   "source": [
    "16. Explain the purpose of the `__init__()` method in Python inheritance and how it is utilized in child classes."
   ]
  },
  {
   "cell_type": "raw",
   "id": "175f2cf6-d481-4321-893c-52b591c7f22c",
   "metadata": {},
   "source": [
    "In Python, the __init__() method is a special method that is called when an object is created from a class. It is used to initialize the attributes of the object and perform any other setup that is required. The __init__() method is automatically called when an object is created, so you don’t need to call it explicitly "
   ]
  },
  {
   "cell_type": "markdown",
   "id": "93b7bb82-08f1-4c61-b8c2-715ab963d441",
   "metadata": {},
   "source": [
    "17. Create a Python class called `Bird` with a method `fly()`. Then, create child classes `Eagle` and `Sparrow` that inherit from `Bird` and implement the `fly()` method differently. Provide an example of using these\n",
    "classes."
   ]
  },
  {
   "cell_type": "code",
   "execution_count": 45,
   "id": "92e3a8ff-0760-4275-826c-fe7beccb7e96",
   "metadata": {
    "tags": []
   },
   "outputs": [
    {
     "name": "stdout",
     "output_type": "stream",
     "text": [
      "Eagle is soaring high.\n",
      "Sparrow is flapping its wings.\n"
     ]
    }
   ],
   "source": [
    " class Bird:\n",
    "    def fly(self):\n",
    "        pass\n",
    "\n",
    "class Eagle(Bird):\n",
    "    def fly(self):\n",
    "        print(\"Eagle is soaring high.\")\n",
    "\n",
    "class Sparrow(Bird):\n",
    "    def fly(self):\n",
    "        print(\"Sparrow is flapping its wings.\")\n",
    "\n",
    "e = Eagle()\n",
    "e.fly()  # Eagle is soaring high.\n",
    "\n",
    "s = Sparrow()\n",
    "s.fly()  # Sparrow is flapping its wings.\n"
   ]
  },
  {
   "cell_type": "markdown",
   "id": "f879c2db-e695-426a-9e46-09c97029f354",
   "metadata": {},
   "source": [
    "18. What is the \"diamond problem\" in multiple inheritance, and how does Python address it?"
   ]
  },
  {
   "cell_type": "raw",
   "id": "96f323b2-085e-45f7-8808-46cb581faa96",
   "metadata": {},
   "source": [
    "The “diamond problem” is an ambiguity that arises when two classes inherit from a common superclass, and a subclass inherits from both of these classes. This creates a diamond-shaped inheritance hierarchy, which can lead to conflicts when the subclass tries to access methods or attributes that are defined in both parent classes "
   ]
  },
  {
   "cell_type": "markdown",
   "id": "5a7d28cb-6c48-43fc-914d-e3505d4574b8",
   "metadata": {},
   "source": [
    "19. Discuss the concept of \"is-a\" and \"has-a\" relationships in inheritance, and provide examples of each."
   ]
  },
  {
   "cell_type": "raw",
   "id": "01f5130b-7ba1-4079-b4a5-d06a02950f75",
   "metadata": {},
   "source": [
    "In object-oriented programming, inheritance is a mechanism that allows a new class to be derived from an existing class. The new class is called the subclass or derived class, and the existing class is called the superclass or base class. There are two types of relationships that can exist between classes in inheritance: is-a and has-a .\n",
    "\n",
    "An is-a relationship is a relationship between two classes where one class is a subclass of the other class. This means that the subclass is a type of the superclass. For example, a Dog class can be a subclass of an Animal class, because a dog is a type of animal ."
   ]
  },
  {
   "cell_type": "markdown",
   "id": "c9efb0e6-b40f-4a39-9343-1f3ac33f9727",
   "metadata": {},
   "source": [
    "20. Create a Python class hierarchy for a university system. Start with a base class `Person` and create child\n",
    "classes `Student` and `Professor`, each with their own attributes and methods. Provide an example of using\n",
    "these classes in a university context."
   ]
  },
  {
   "cell_type": "code",
   "execution_count": 46,
   "id": "57da23b6-c8d7-42fb-a92e-5b5d45411056",
   "metadata": {
    "tags": []
   },
   "outputs": [
    {
     "name": "stdout",
     "output_type": "stream",
     "text": [
      "Alice registered for CS101.\n",
      "Bob graded Homework 1 with a A-.\n"
     ]
    }
   ],
   "source": [
    "class Person:\n",
    "    def __init__(self, name, age, department):\n",
    "        self.name = name\n",
    "        self.age = age\n",
    "        self.department = department\n",
    "\n",
    "class Student(Person):\n",
    "    def __init__(self, name, age, department, student_id, gpa):\n",
    "        super().__init__(name, age, department)\n",
    "        self.student_id = student_id\n",
    "        self.gpa = gpa\n",
    "\n",
    "    def register_for_course(self, course):\n",
    "        print(f\"{self.name} registered for {course}.\")\n",
    "\n",
    "class Professor(Person):\n",
    "    def __init__(self, name, age, department, position):\n",
    "        super().__init__(name, age, department)\n",
    "        self.position = position\n",
    "\n",
    "    def grade_assignment(self, assignment, grade):\n",
    "        print(f\"{self.name} graded {assignment} with a {grade}.\")\n",
    "\n",
    "s = Student(\"Alice\", 20, \"Computer Science\", \"12345\", 3.5)\n",
    "s.register_for_course(\"CS101\")\n",
    "\n",
    "p = Professor(\"Bob\", 45, \"Computer Science\", \"Associate Professor\")\n",
    "p.grade_assignment(\"Homework 1\", \"A-\")\n"
   ]
  },
  {
   "cell_type": "markdown",
   "id": "5a38dbf6-c912-4634-9283-55c8ba222a58",
   "metadata": {
    "tags": []
   },
   "source": [
    "Encapsulation:"
   ]
  },
  {
   "cell_type": "markdown",
   "id": "9482f08f-197c-40a0-b6e0-34b3cb9361c6",
   "metadata": {},
   "source": [
    "1. Explain the concept of encapsulation in Python. What is its role in object-oriented programming?"
   ]
  },
  {
   "cell_type": "raw",
   "id": "8a78fe49-25a7-4ee8-97df-fff30f861fc1",
   "metadata": {},
   "source": [
    "Encapsulation is a fundamental concept in object-oriented programming (OOP) that describes the idea of wrapping data and the methods that work on data within one unit. This puts restrictions on accessing variables and methods directly and can prevent the accidental modification of data. To prevent accidental change, an object’s variable can only be changed by an object’s method. Those types of variables are known as private variables . A class is an example of encapsulation as it encapsulates all the data that is member functions, variables, etc. The goal of information hiding is to ensure that an object’s state is always valid by controlling access to attributes that are hidden from the outside world"
   ]
  },
  {
   "cell_type": "markdown",
   "id": "b76c2cee-38e2-476a-8d57-52090a3e81c6",
   "metadata": {},
   "source": [
    "2.Describe the key principles of encapsulation, including access control and data hiding."
   ]
  },
  {
   "cell_type": "raw",
   "id": "0b5d36bf-318c-47b5-93f3-c7d80cd1bdf2",
   "metadata": {},
   "source": [
    "Python uses naming conventions to indicate the visibility of a member. By convention, a name prefixed with an underscore (e.g., _variable) should be treated as a non-public part of the API.\n",
    "\n",
    "Encapsulation and data hiding can be achieved by providing public methods (getters and setters) to access or modify the private attributes."
   ]
  },
  {
   "cell_type": "markdown",
   "id": "6e70d77f-529f-4ac0-a3a6-8e8fe0eb6367",
   "metadata": {},
   "source": [
    "3. How can you achieve encapsulation in Python classes? Provide an example."
   ]
  },
  {
   "cell_type": "code",
   "execution_count": 1,
   "id": "f40b0783-a450-40cb-bad6-8370aceb34f9",
   "metadata": {
    "tags": []
   },
   "outputs": [
    {
     "name": "stdout",
     "output_type": "stream",
     "text": [
      "Toyota\n",
      "Corolla\n"
     ]
    }
   ],
   "source": [
    "class Car:\n",
    "    def __init__(self, make, model):\n",
    "        self._make = make  # Convention for protected attribute\n",
    "        self._model = model\n",
    "\n",
    "    def get_make(self):\n",
    "        return self._make\n",
    "\n",
    "    def set_make(self, make):\n",
    "        self._make = make\n",
    "\n",
    "    def get_model(self):\n",
    "        return self._model\n",
    "\n",
    "    def set_model(self, model):\n",
    "        self._model = model\n",
    "\n",
    "# Example usage\n",
    "my_car = Car(\"Toyota\", \"Camry\")\n",
    "print(my_car.get_make())  # Accessing a protected attribute\n",
    "my_car.set_model(\"Corolla\")  # Modifying a protected attribute\n",
    "print(my_car.get_model())\n"
   ]
  },
  {
   "cell_type": "markdown",
   "id": "d6b3bb7e-6e8d-49ce-90d6-22bcf09a878e",
   "metadata": {},
   "source": [
    "4. Discuss the difference between public, private, and protected access modifiers in Python."
   ]
  },
  {
   "cell_type": "raw",
   "id": "eccf90c9-8a8a-4b9b-84dd-12706e5a8f1c",
   "metadata": {},
   "source": [
    "Public (variable or method): Accessible from anywhere, both inside and outside the class.\n",
    "\n",
    "Private (__variable or __method): Accessible only within the class. Name mangling is applied to make it harder to access from outside.\n",
    "\n",
    "Protected (_variable or _method): Accessible within the class and its subclasses."
   ]
  },
  {
   "cell_type": "markdown",
   "id": "a265f910-bd97-4cca-b6f5-335d6b3e9f68",
   "metadata": {},
   "source": [
    "5. Create a Python class called `Person` with a private attribute `__name`. Provide methods to get and set the\n",
    "name attribute."
   ]
  },
  {
   "cell_type": "code",
   "execution_count": 2,
   "id": "71743ee6-0b67-4d66-baa0-285cd8cf5d64",
   "metadata": {
    "tags": []
   },
   "outputs": [
    {
     "name": "stdout",
     "output_type": "stream",
     "text": [
      "John\n",
      "Jane\n"
     ]
    }
   ],
   "source": [
    "class Person:\n",
    "    def __init__(self, name):\n",
    "        self.__name = name  # Private attribute\n",
    "\n",
    "    def get_name(self):\n",
    "        return self.__name\n",
    "\n",
    "    def set_name(self, name):\n",
    "        self.__name = name\n",
    "\n",
    "# Example usage\n",
    "person = Person(\"John\")\n",
    "print(person.get_name())\n",
    "person.set_name(\"Jane\")\n",
    "print(person.get_name())\n"
   ]
  },
  {
   "cell_type": "markdown",
   "id": "915f0445-81b3-43b9-b22a-ebb886525d79",
   "metadata": {},
   "source": [
    "6. Explain the purpose of getter and setter methods in encapsulation. Provide examples."
   ]
  },
  {
   "cell_type": "raw",
   "id": "91cc0a51-f0df-4bea-8ef9-86b21727b5e3",
   "metadata": {
    "tags": []
   },
   "source": [
    "Getter and setter methods provide controlled access to the attributes of a class, allowing for validation, modification, or additional logic when getting or setting values."
   ]
  },
  {
   "cell_type": "markdown",
   "id": "bdfdfa3a-f6f2-4bd0-bd8a-6bd15a22db8e",
   "metadata": {},
   "source": [
    "7. What is name mangling in Python, and how does it affect encapsulation?"
   ]
  },
  {
   "cell_type": "code",
   "execution_count": 4,
   "id": "47aced15-c400-4720-8737-5a75788584bb",
   "metadata": {
    "tags": []
   },
   "outputs": [
    {
     "name": "stdout",
     "output_type": "stream",
     "text": [
      "42\n"
     ]
    }
   ],
   "source": [
    "class MyClass:\n",
    "    def __init__(self):\n",
    "        self.__private_variable = 42\n",
    "\n",
    "obj = MyClass()\n",
    "# Accessing a private attribute using name mangling\n",
    "print(obj._MyClass__private_variable)\n"
   ]
  },
  {
   "cell_type": "markdown",
   "id": "0b00aa3c-7054-4af7-8f8e-cbe28cd9dd67",
   "metadata": {},
   "source": [
    "8. Create a Python class called `BankAccount` with private attributes for the account balance (`__balance`)"
   ]
  },
  {
   "cell_type": "code",
   "execution_count": 5,
   "id": "4961eb96-7f18-42b4-bb71-4f878b1b883d",
   "metadata": {
    "tags": []
   },
   "outputs": [],
   "source": [
    "class BankAccount:\n",
    "    def __init__(self, balance=0, account_number=None):\n",
    "        self.__balance = balance\n",
    "        self.__account_number = account_number\n",
    "\n",
    "    def deposit(self, amount):\n",
    "        self.__balance += amount\n",
    "\n",
    "    def withdraw(self, amount):\n",
    "        if amount <= self.__balance:\n",
    "            self.__balance -= amount\n",
    "        else:\n",
    "            print(\"Insufficient funds\")\n",
    "\n",
    "# Example usage\n",
    "account = BankAccount(1000, \"123456\")\n",
    "account.deposit(500)\n",
    "account.withdraw(200)\n"
   ]
  },
  {
   "cell_type": "markdown",
   "id": "82ba4c89-8b24-4282-a2be-56f385514318",
   "metadata": {},
   "source": [
    "9. Discuss the advantages of encapsulation in terms of code maintainability and security."
   ]
  },
  {
   "cell_type": "raw",
   "id": "ed29384d-736f-4870-8c02-284e7ded1f9d",
   "metadata": {},
   "source": [
    "Code Maintainability: Encapsulation promotes modular code, making it easier to maintain and update. Changes to the internal implementation of a class do not affect external code as long as the public interface remains unchanged.\n",
    "\n",
    "Security: By hiding the internal details of a class, encapsulation prevents unauthorized access and modification of data. It allows controlled access through well-defined interfaces, enhancing security."
   ]
  },
  {
   "cell_type": "markdown",
   "id": "6334d562-83f2-435c-b664-31f3e6d252ad",
   "metadata": {},
   "source": [
    "10. How can you access private attributes in Python? Provide an example demonstrating the use of name\n",
    "mangling."
   ]
  },
  {
   "cell_type": "code",
   "execution_count": 6,
   "id": "38a29544-c902-44ea-8c06-f9c652acc6c1",
   "metadata": {
    "tags": []
   },
   "outputs": [
    {
     "name": "stdout",
     "output_type": "stream",
     "text": [
      "I am private\n"
     ]
    }
   ],
   "source": [
    "class Example:\n",
    "    def __init__(self):\n",
    "        self.__private_attribute = \"I am private\"\n",
    "\n",
    "obj = Example()\n",
    "# Accessing a private attribute using name mangling\n",
    "print(obj._Example__private_attribute)\n"
   ]
  },
  {
   "cell_type": "markdown",
   "id": "5cc7a013-b10d-4e87-a39a-241df8f2a9b7",
   "metadata": {},
   "source": [
    "11. Create a Python class hierarchy for a school system, including classes for students, teachers, and courses,\n",
    "and implement encapsulation principles to protect sensitive information."
   ]
  },
  {
   "cell_type": "code",
   "execution_count": 7,
   "id": "7ce54bdb-9543-430c-84a5-58c91332782d",
   "metadata": {
    "tags": []
   },
   "outputs": [],
   "source": [
    "class Person:\n",
    "    def __init__(self, name, age):\n",
    "        self.__name = name\n",
    "        self.__age = age\n",
    "\n",
    "    def get_name(self):\n",
    "        return self.__name\n",
    "\n",
    "    def get_age(self):\n",
    "        return self.__age\n",
    "\n",
    "\n",
    "class Student(Person):\n",
    "    def __init__(self, name, age, student_id):\n",
    "        super().__init__(name, age)\n",
    "        self.__student_id = student_id\n",
    "\n",
    "    def get_student_id(self):\n",
    "        return self.__student_id\n",
    "\n",
    "\n",
    "class Teacher(Person):\n",
    "    def __init__(self, name, age, employee_id):\n",
    "        super().__init__(name, age)\n",
    "        self.__employee_id = employee_id\n",
    "\n",
    "    def get_employee_id(self):\n",
    "        return self.__employee_id\n",
    "\n",
    "\n",
    "class Course:\n",
    "    def __init__(self, course_name, course_code):\n",
    "        self.__course_name = course_name\n",
    "        self.__course_code = course_code\n",
    "\n",
    "    def get_course_name(self):\n",
    "        return self.__course_name\n",
    "\n",
    "    def get_course_code(self):\n",
    "        return self.__course_code\n"
   ]
  },
  {
   "cell_type": "markdown",
   "id": "6b3ca7c4-be22-495e-839d-f9edc479283a",
   "metadata": {},
   "source": [
    "12. Explain the concept of property decorators in Python and how they relate to encapsulation."
   ]
  },
  {
   "cell_type": "raw",
   "id": "9c99381f-56dc-4c40-932e-a9ac3459ada6",
   "metadata": {},
   "source": [
    "Property decorators in Python provide a way to encapsulate attributes by allowing the definition of getter, setter, and deleter methods. They help control access to attributes."
   ]
  },
  {
   "cell_type": "markdown",
   "id": "9d3c48a9-fe98-43c1-91d8-517d6988a89a",
   "metadata": {},
   "source": [
    "13. What is data hiding, and why is it important in encapsulation? Provide examples."
   ]
  },
  {
   "cell_type": "raw",
   "id": "546ff8e1-c61c-4b2a-ba95-c0d1ed3241ee",
   "metadata": {},
   "source": [
    "Data hiding involves restricting access to certain parts of an object and only exposing what is necessary. It is important in encapsulation to prevent unauthorized access and modification."
   ]
  },
  {
   "cell_type": "markdown",
   "id": "bc410bc8-8a55-4b03-b5ef-e13c9df56700",
   "metadata": {
    "tags": []
   },
   "source": [
    "14. Create a Python class called `Employee` with private attributes for salary (`__salary`) and employee ID (`__employee_id`). Provide a method to calculate yearly bonuses."
   ]
  },
  {
   "cell_type": "code",
   "execution_count": 9,
   "id": "d77fba9e-6ef3-4533-90fd-a2af574a8896",
   "metadata": {
    "tags": []
   },
   "outputs": [],
   "source": [
    "class Employee:\n",
    "    def __init__(self, salary, employee_id):\n",
    "        self.__salary = salary\n",
    "        self.__employee_id = employee_id\n",
    "\n",
    "    def calculate_bonus(self):\n",
    "        return 0.1 * self.__salary\n"
   ]
  },
  {
   "cell_type": "markdown",
   "id": "d1993134-896d-48a9-8dce-256065dc5058",
   "metadata": {},
   "source": [
    "15. Discuss the use of accessors and mutators in encapsulation. How do they help maintain control over\n",
    "attribute access?"
   ]
  },
  {
   "cell_type": "raw",
   "id": "4f0efdb5-6ca1-4ebe-896e-ea447a9f8c9a",
   "metadata": {},
   "source": [
    "Accessors (getters) provide access to the value of private attributes, while mutators (setters) allow modification with controlled validation. They help maintain control over attribute access."
   ]
  },
  {
   "cell_type": "markdown",
   "id": "dc5c93dc-0529-4487-9f46-97b286e1bd1b",
   "metadata": {},
   "source": [
    "16. What are the potential drawbacks or disadvantages of using encapsulation in Python?"
   ]
  },
  {
   "cell_type": "raw",
   "id": "7fca8adb-49db-4281-8cab-0638a8a78108",
   "metadata": {},
   "source": [
    "Overhead: The use of getters and setters may introduce additional code and potentially impact performance.\n",
    "\n",
    "Complexity: Overuse of encapsulation can make the code more complex and harder to understand.\n",
    "\n",
    "Flexibility: Python's philosophy emphasizes trust in the programmer, so enforcing strict encapsulation can limit flexibility."
   ]
  },
  {
   "cell_type": "markdown",
   "id": "474c9151-8113-49cb-aab7-c33dda9bb99d",
   "metadata": {},
   "source": [
    "17. Create a Python class for a library system that encapsulates book information, including titles, authors,\n",
    "and availability status."
   ]
  },
  {
   "cell_type": "code",
   "execution_count": 10,
   "id": "a7189f26-7bd2-4e1c-b912-1e4ab707eb99",
   "metadata": {
    "tags": []
   },
   "outputs": [],
   "source": [
    "class Book:\n",
    "    def __init__(self, title, author, availability=True):\n",
    "        self.__title = title\n",
    "        self.__author = author\n",
    "        self.__availability = availability\n",
    "\n",
    "    def get_title(self):\n",
    "        return self.__title\n",
    "\n",
    "    def get_author(self):\n",
    "        return self.__author\n",
    "\n",
    "    def is_available(self):\n",
    "        return self.__availability\n",
    "\n",
    "    def check_out(self):\n",
    "        if self.__availability:\n",
    "            self.__availability = False\n",
    "            print(\"Book checked out successfully.\")\n",
    "        else:\n",
    "            print(\"Book not available for checkout.\")\n"
   ]
  },
  {
   "cell_type": "markdown",
   "id": "956d7738-384a-463a-b2df-a9e2d34fd132",
   "metadata": {},
   "source": [
    "18. Explain how encapsulation enhances code reusability and modularity in Python programs."
   ]
  },
  {
   "cell_type": "raw",
   "id": "dd0a26a2-6d4f-4b67-b02d-a3d84ef16dbe",
   "metadata": {},
   "source": [
    "Encapsulation enhances code reusability by promoting modular design. Classes with well-defined interfaces can be reused in different parts of a program or in different programs altogether."
   ]
  },
  {
   "cell_type": "markdown",
   "id": "3fbb6f73-0711-4419-ad4a-7aeb6863e9c3",
   "metadata": {},
   "source": [
    "19. Describe the concept of information hiding in encapsulation. Why is it essential in software development?"
   ]
  },
  {
   "cell_type": "raw",
   "id": "accad304-4e27-4a91-b4cf-bc343da62e3b",
   "metadata": {},
   "source": [
    "Information hiding in encapsulation involves concealing the internal details of an object and exposing only what is necessary. It is essential in software development to reduce complexity and to protect the integrity of the data and implementation."
   ]
  },
  {
   "cell_type": "markdown",
   "id": "867e20cd-5f40-47e2-8462-e9e70d709fac",
   "metadata": {},
   "source": [
    "20. Create a Python class called `Customer` with private attributes for customer details like name, address,\n",
    "and contact information. Implement encapsulation to ensure data integrity and security."
   ]
  },
  {
   "cell_type": "code",
   "execution_count": 11,
   "id": "510dec44-15b2-429d-8f73-7a1751181f54",
   "metadata": {
    "tags": []
   },
   "outputs": [],
   "source": [
    "class Customer:\n",
    "    def __init__(self, name, address, contact_info):\n",
    "        self.__name = name\n",
    "        self.__address = address\n",
    "        self.__contact_info = contact_info\n",
    "\n",
    "    def get_name(self):\n",
    "        return self.__name\n",
    "\n",
    "    def get_address(self):\n",
    "        return self.__address\n",
    "\n",
    "    def get_contact_info(self):\n",
    "        return self.__contact_info\n"
   ]
  },
  {
   "cell_type": "markdown",
   "id": "f26af511-5bad-4084-acc1-22ce59f78c51",
   "metadata": {},
   "source": [
    "Polymorphism:"
   ]
  },
  {
   "cell_type": "markdown",
   "id": "ae0a3359-5b1f-4afb-b792-e8c791c1a39d",
   "metadata": {},
   "source": [
    "1. What is polymorphism in Python? Explain how it is related to object-oriented programming."
   ]
  },
  {
   "cell_type": "raw",
   "id": "dcc1eef4-85d4-4611-bb62-d58abb86ee78",
   "metadata": {},
   "source": [
    "Polymorphism is a fundamental concept in object-oriented programming (OOP) that allows objects of different types to be treated as objects of a common type. It enables a single interface to represent different types of objects, providing flexibility and extensibility in code design."
   ]
  },
  {
   "cell_type": "markdown",
   "id": "42ed1331-653e-49a7-8ae3-bebf52ff52bc",
   "metadata": {},
   "source": [
    "2. Describe the difference between compile-time polymorphism and runtime polymorphism in Python."
   ]
  },
  {
   "cell_type": "raw",
   "id": "724d5e57-9704-4dfb-973b-59b769073285",
   "metadata": {},
   "source": [
    "Occurs at compile time.\n",
    "Examples include function overloading and operator overloading.\n",
    "Resolved during compile-time based on the type or number of arguments.\n",
    "Runtime Polymorphism (Dynamic Binding):\n",
    "\n",
    "Occurs at runtime.\n",
    "Achieved through method overriding.\n",
    "Resolved during runtime based on the actual type of the object."
   ]
  },
  {
   "cell_type": "markdown",
   "id": "a6c37d35-878e-4238-b83e-e855318fd085",
   "metadata": {},
   "source": [
    "3. Create a Python class hierarchy for shapes (e.g., circle, square, triangle) and demonstrate polymorphism\n",
    "through a common method, such as `calculate_area()`."
   ]
  },
  {
   "cell_type": "code",
   "execution_count": 12,
   "id": "d2f3fd7d-b9f4-40b5-8834-50071a19bfd8",
   "metadata": {
    "tags": []
   },
   "outputs": [],
   "source": [
    "class Shape:\n",
    "    def calculate_area(self):\n",
    "        pass\n",
    "\n",
    "class Circle(Shape):\n",
    "    def __init__(self, radius):\n",
    "        self.radius = radius\n",
    "\n",
    "    def calculate_area(self):\n",
    "        return 3.14 * self.radius * self.radius\n",
    "\n",
    "class Square(Shape):\n",
    "    def __init__(self, side_length):\n",
    "        self.side_length = side_length\n",
    "\n",
    "    def calculate_area(self):\n",
    "        return self.side_length * self.side_length\n",
    "\n",
    "class Triangle(Shape):\n",
    "    def __init__(self, base, height):\n",
    "        self.base = base\n",
    "        self.height = height\n",
    "\n",
    "    def calculate_area(self):\n",
    "        return 0.5 * self.base * self.height\n",
    "\n",
    "# Polymorphic method\n",
    "def print_area(shape):\n",
    "    print(f\"Area: {shape.calculate_area()}\")\n",
    "\n",
    "# Example usage\n",
    "circle = Circle(5)\n",
    "square = Square(4)\n"
   ]
  },
  {
   "cell_type": "code",
   "execution_count": 13,
   "id": "972a6f71-aa37-4b59-bcf6-4378f7f2af5f",
   "metadata": {
    "tags": []
   },
   "outputs": [],
   "source": [
    "class Shape:\n",
    "    def calculate_area(self):\n",
    "        pass\n",
    "\n",
    "class Circle(Shape):\n",
    "    def __init__(self, radius):\n",
    "        self.radius = radius\n",
    "\n",
    "    def calculate_area(self):\n",
    "        return 3.14 * self.radius * self.radius\n",
    "\n",
    "class Square(Shape):\n",
    "    def __init__(self, side_length):\n",
    "        self.side_length = side_length\n",
    "\n",
    "    def calculate_area(self):\n",
    "        return self.side_length * self.side_length\n",
    "\n",
    "class Triangle(Shape):\n",
    "    def __init__(self, base, height):\n",
    "        self.base = base\n",
    "        self.height = height\n",
    "\n",
    "    def calculate_area(self):\n",
    "        return 0.5 * self.base * self.height\n",
    "\n",
    "# Polymorphic method\n",
    "def print_area(shape):\n",
    "    print(f\"Area: {shape.calculate_area()}\")"
   ]
  },
  {
   "cell_type": "code",
   "execution_count": 14,
   "id": "a9d36f1f-d7b4-4be3-a581-ef8469a577a4",
   "metadata": {
    "tags": []
   },
   "outputs": [],
   "source": [
    "circle = Circle(5)\n",
    "square = Square(4)"
   ]
  },
  {
   "cell_type": "markdown",
   "id": "5f751efb-ffcd-448a-a2fd-2e2f582c86bd",
   "metadata": {},
   "source": [
    "4. Explain the concept of method overriding in polymorphism. Provide an example."
   ]
  },
  {
   "cell_type": "code",
   "execution_count": 15,
   "id": "47ac1c89-3b09-4733-a23d-33b77998982b",
   "metadata": {
    "tags": []
   },
   "outputs": [
    {
     "name": "stdout",
     "output_type": "stream",
     "text": [
      "Woof!\n",
      "Meow!\n",
      "Tweet!\n"
     ]
    }
   ],
   "source": [
    "class Animal:\n",
    "    def speak(self):\n",
    "        pass\n",
    "\n",
    "class Dog(Animal):\n",
    "    def speak(self):\n",
    "        return \"Woof!\"\n",
    "\n",
    "class Cat(Animal):\n",
    "    def speak(self):\n",
    "        return \"Meow!\"\n",
    "\n",
    "class Bird(Animal):\n",
    "    def speak(self):\n",
    "        return \"Tweet!\"\n",
    "\n",
    "# Example usage\n",
    "dog = Dog()\n",
    "cat = Cat()\n",
    "bird = Bird()\n",
    "\n",
    "print(dog.speak())  \n",
    "print(cat.speak())  \n",
    "print(bird.speak()) \n"
   ]
  },
  {
   "cell_type": "markdown",
   "id": "355f665a-205e-45bc-b446-ac9ff937c87c",
   "metadata": {},
   "source": [
    "5. How is polymorphism different from method overloading in Python? Provide examples for both."
   ]
  },
  {
   "cell_type": "raw",
   "id": "4f32047c-410f-4a5f-9969-16aec8cb14ab",
   "metadata": {},
   "source": [
    "Polymorphism: Refers to the ability of a single function or method to work with objects of different types.\n",
    "\n",
    "Method Overloading: Involves defining multiple methods with the same name but different parameters within the same class."
   ]
  },
  {
   "cell_type": "markdown",
   "id": "84af1d22-8bcd-42fa-a0bc-aa72c08911dd",
   "metadata": {},
   "source": [
    "6. Create a Python class called `Animal` with a method `speak()`. Then, create child classes like `Dog`, `Cat`, and `Bird`, each with their own `speak()` method. Demonstrate polymorphism by calling the `speak()` method\n",
    "on objects of different subclasses."
   ]
  },
  {
   "cell_type": "code",
   "execution_count": 16,
   "id": "884b1683-ec97-49dc-89fd-b9c90da72dd2",
   "metadata": {
    "tags": []
   },
   "outputs": [
    {
     "name": "stdout",
     "output_type": "stream",
     "text": [
      "Woof!\n",
      "Meow!\n",
      "Tweet!\n"
     ]
    }
   ],
   "source": [
    "class Animal:\n",
    "    def speak(self):\n",
    "        pass\n",
    "\n",
    "class Dog(Animal):\n",
    "    def speak(self):\n",
    "        return \"Woof!\"\n",
    "\n",
    "class Cat(Animal):\n",
    "    def speak(self):\n",
    "        return \"Meow!\"\n",
    "\n",
    "class Bird(Animal):\n",
    "    def speak(self):\n",
    "        return \"Tweet!\"\n",
    "\n",
    "# Example usage\n",
    "def animal_sound(animal):\n",
    "    print(animal.speak())\n",
    "\n",
    "dog = Dog()\n",
    "cat = Cat()\n",
    "bird = Bird()\n",
    "\n",
    "animal_sound(dog)  # Outputs: Woof!\n",
    "animal_sound(cat)  # Outputs: Meow!\n",
    "animal_sound(bird)  # Outputs: Tweet!\n"
   ]
  },
  {
   "cell_type": "markdown",
   "id": "7d27c4b5-4601-4b80-8a10-b9612351fa58",
   "metadata": {},
   "source": [
    "7. Discuss the use of abstract methods and classes in achieving polymorphism in Python. Provide an example\n",
    "using the `abc` module."
   ]
  },
  {
   "cell_type": "code",
   "execution_count": 17,
   "id": "601062a7-6950-4aa8-b4d9-16adbe9e7ce8",
   "metadata": {
    "tags": []
   },
   "outputs": [],
   "source": [
    "from abc import ABC, abstractmethod\n",
    "\n",
    "class Shape(ABC):\n",
    "    @abstractmethod\n",
    "    def calculate_area(self):\n",
    "        pass\n",
    "\n",
    "class Circle(Shape):\n",
    "    def __init__(self, radius):\n",
    "        self.radius = radius\n",
    "\n",
    "    def calculate_area(self):\n",
    "        return 3.14 * self.radius * self.radius\n"
   ]
  },
  {
   "cell_type": "markdown",
   "id": "2ec7711a-30f7-436b-9922-b2390b90c41c",
   "metadata": {
    "tags": []
   },
   "source": [
    "8. Create a Python class hierarchy for a vehicle system (e.g., car, bicycle, boat) and"
   ]
  },
  {
   "cell_type": "code",
   "execution_count": 21,
   "id": "0ab9828b-77e5-4bae-a8fc-37e6399d5ea8",
   "metadata": {
    "tags": []
   },
   "outputs": [],
   "source": [
    "class Vehicle:\n",
    "    def start(self):\n",
    "        pass\n",
    "\n",
    "class Car(Vehicle):\n",
    "    def start(self):\n",
    "        return \"Car started\"\n",
    "\n",
    "class Bicycle(Vehicle):\n",
    "    def start(self):\n",
    "        return \"Bicycle started\"\n",
    "\n",
    "class Boat(Vehicle):\n",
    "    def start(self):\n",
    "        return \"Boat started\"\n"
   ]
  },
  {
   "cell_type": "code",
   "execution_count": 25,
   "id": "ad202808-ab40-4848-b8ad-91ca7f319809",
   "metadata": {
    "tags": []
   },
   "outputs": [
    {
     "data": {
      "text/plain": [
       "<bound method Boat.start of <__main__.Boat object at 0x0000021F26EACC10>>"
      ]
     },
     "execution_count": 25,
     "metadata": {},
     "output_type": "execute_result"
    }
   ],
   "source": [
    "c = Boat()\n",
    "c.start"
   ]
  },
  {
   "cell_type": "markdown",
   "id": "a142c28b-fa56-4fb8-acc4-3a7fc219f96c",
   "metadata": {},
   "source": [
    "9. Explain the significance of the `isinstance()` and `issubclass()` functions in Python polymorphism."
   ]
  },
  {
   "cell_type": "raw",
   "id": "977b77b7-d9b8-4127-88bc-cd2d5e1df2f7",
   "metadata": {},
   "source": [
    "isinstance(): Checks if an object is an instance of a particular class or a tuple of classes.\n",
    "\n",
    "issubclass(): Checks if a class is a subclass of a particular class or a tuple of classes."
   ]
  },
  {
   "cell_type": "markdown",
   "id": "eb017df5-2009-46d7-9ae7-66c1d81d584d",
   "metadata": {},
   "source": [
    "10. What is the role of the `@abstractmethod` decorator in achieving polymorphism in Python? Provide an\n",
    "example."
   ]
  },
  {
   "cell_type": "code",
   "execution_count": 26,
   "id": "8534e749-09ce-4494-a8b7-b1ce4c229c86",
   "metadata": {
    "tags": []
   },
   "outputs": [],
   "source": [
    "from abc import ABC, abstractmethod\n",
    "\n",
    "class Example(ABC):\n",
    "    @abstractmethod\n",
    "    def method(self):\n",
    "        pass\n"
   ]
  },
  {
   "cell_type": "markdown",
   "id": "55701f83-7798-4521-b975-43ad2dc07dcb",
   "metadata": {},
   "source": [
    "11. Create a Python class called `Shape` with a polymorphic method `area()` that calculates the area of different shapes (e.g., circle, rectangle, triangle)."
   ]
  },
  {
   "cell_type": "code",
   "execution_count": 27,
   "id": "44ae3960-49e8-4361-a9a4-37214fb569ef",
   "metadata": {
    "tags": []
   },
   "outputs": [],
   "source": [
    "class Shape:\n",
    "    def area(self):\n",
    "        pass\n",
    "\n",
    "class Circle(Shape):\n",
    "    def __init__(self, radius):\n",
    "        self.radius = radius\n",
    "\n",
    "    def area(self):\n",
    "        return 3.14 * self.radius * self.radius\n",
    "\n",
    "class Rectangle(Shape):\n",
    "    def __init__(self, length, width):\n",
    "        self.length = length\n",
    "        self.width = width\n",
    "\n",
    "    def area(self):\n",
    "        return self.length * self.width\n"
   ]
  },
  {
   "cell_type": "code",
   "execution_count": 28,
   "id": "be676866-8aad-41bf-b98f-3be295ccb7bd",
   "metadata": {
    "tags": []
   },
   "outputs": [
    {
     "data": {
      "text/plain": [
       "28.259999999999998"
      ]
     },
     "execution_count": 28,
     "metadata": {},
     "output_type": "execute_result"
    }
   ],
   "source": [
    "c = Circle(3)\n",
    "c.area()"
   ]
  },
  {
   "cell_type": "markdown",
   "id": "51f78c20-d840-42f2-bcca-3ea6f16a9cb2",
   "metadata": {},
   "source": [
    "12. Discuss the benefits of polymorphism in terms of code reusability and flexibility in Python programs."
   ]
  },
  {
   "cell_type": "raw",
   "id": "c87f93d4-03a9-43ba-aad5-2165e81d6a0d",
   "metadata": {},
   "source": [
    "Code Reusability: Allows the use of a common interface across different classes, promoting reuse of code.\n",
    "\n",
    "Flexibility: Enables the addition of new classes or methods without modifying existing code, enhancing flexibility."
   ]
  },
  {
   "cell_type": "markdown",
   "id": "58959b09-ba9d-41c7-8160-8f17fd52bb37",
   "metadata": {},
   "source": [
    "13. Explain the use of the `super()` function in Python polymorphism. How does it help call methods of parent\n",
    "classes?"
   ]
  },
  {
   "cell_type": "raw",
   "id": "71eb421b-4248-456f-8bf3-1beed0456338",
   "metadata": {},
   "source": [
    "The super() function is used to call methods of a parent class. It is commonly used in overridden methods to invoke the method of the superclass.\n",
    "\n"
   ]
  },
  {
   "cell_type": "markdown",
   "id": "7cca3702-5385-4b13-9b62-32367a6a1805",
   "metadata": {},
   "source": [
    "14. Create a Python class hierarchy for a banking system with various account types (e.g., savings, checking, credit card) and demonstrate polymorphism by implementing a common `withdraw()` method."
   ]
  },
  {
   "cell_type": "code",
   "execution_count": 29,
   "id": "1c8046e8-8c3b-4a9f-89c0-b04c7e36a731",
   "metadata": {
    "tags": []
   },
   "outputs": [],
   "source": [
    "class Account:\n",
    "    def withdraw(self, amount):\n",
    "        pass\n",
    "\n",
    "class SavingsAccount(Account):\n",
    "    def withdraw(self, amount):\n",
    "        # Specific logic for withdrawing from savings account\n",
    "        pass\n",
    "\n",
    "class CheckingAccount(Account):\n",
    "    def withdraw(self, amount):\n",
    "        # Specific logic for withdrawing from checking account\n",
    "        pass\n",
    "\n",
    "class CreditCardAccount(Account):\n",
    "    def withdraw(self, amount):\n",
    "        # Specific logic for withdrawing from credit card account\n",
    "        pass\n"
   ]
  },
  {
   "cell_type": "markdown",
   "id": "07dd41cc-19e6-4cec-952d-47a184702527",
   "metadata": {},
   "source": [
    "15. Describe the concept of operator overloading in Python and how it relates to polymorphism. Provide\n",
    "examples using operators like `+` and `*`."
   ]
  },
  {
   "cell_type": "raw",
   "id": "93c14420-0cd0-43e1-8cc9-9774666e0d86",
   "metadata": {},
   "source": [
    "Operator Overloading in Python allows the same operator to have different meanings based on the context of its use. This concept is closely related to polymorphism as it enables objects of different types to respond to the same operator in a way that is contextually meaningful."
   ]
  },
  {
   "cell_type": "markdown",
   "id": "9c9ba15d-1692-46f9-92d5-c1c7c18004d5",
   "metadata": {},
   "source": [
    "16. What is dynamic polymorphism, and how is it achieved in Python?"
   ]
  },
  {
   "cell_type": "raw",
   "id": "0a5b4807-2126-4710-a9b9-bc6cfef3cb52",
   "metadata": {},
   "source": [
    "Dynamic Polymorphism refers to the ability of a method to do different things based on the object it is acting upon. In Python, it is achieved through method overriding, allowing a subclass to provide a specific implementation for a method defined in its superclass."
   ]
  },
  {
   "cell_type": "markdown",
   "id": "fcb9029c-ff09-44a0-bcd1-2f161053d94d",
   "metadata": {},
   "source": [
    "17. Create a Python class hierarchy for employees in a company (e.g., manager, developer, designer) and"
   ]
  },
  {
   "cell_type": "code",
   "execution_count": 31,
   "id": "7e12ec18-6450-41a9-b8d0-693a08adf22f",
   "metadata": {
    "tags": []
   },
   "outputs": [],
   "source": [
    "class Employee:\n",
    "    def __init__(self, name, position):\n",
    "        self.name = name\n",
    "        self.position = position\n",
    "\n",
    "    def calculate_salary(self):\n",
    "        pass\n",
    "\n",
    "class Manager(Employee):\n",
    "    def calculate_salary(self):\n",
    "        return 80000  # Specific calculation for manager salary\n",
    "\n",
    "class Developer(Employee):\n",
    "    def calculate_salary(self):\n",
    "        return 60000  # Specific calculation for developer salary\n",
    "\n",
    "class Designer(Employee):\n",
    "    def calculate_salary(self):\n",
    "        return 70000  # Specific calculation for designer salary\n"
   ]
  },
  {
   "cell_type": "markdown",
   "id": "cfbc585e-6f1e-4ea0-ace1-60bd5e0e602e",
   "metadata": {},
   "source": [
    "18. Discuss the concept of function pointers and how they can be used to achieve polymorphism in Python."
   ]
  },
  {
   "cell_type": "raw",
   "id": "0bb61507-2230-46c9-8ba0-1481c37ea6c3",
   "metadata": {},
   "source": [
    "In Python, the concept of function pointers is not as explicit as in languages like C++. However, you can achieve similar behavior using higher-order functions (functions that take other functions as arguments)."
   ]
  },
  {
   "cell_type": "markdown",
   "id": "b34d0ca4-b8bf-4889-9e8a-0a0ac2a946fc",
   "metadata": {},
   "source": [
    "19. Explain the role of interfaces and abstract classes in polymorphism, drawing comparisons between them."
   ]
  },
  {
   "cell_type": "raw",
   "id": "0f20d7d5-0f9f-4484-af4a-3bf657593d51",
   "metadata": {},
   "source": [
    "Interfaces:\n",
    "\n",
    "In Python, interfaces are not explicitly defined, but they can be simulated using abstract classes with only abstract methods.\n",
    "Interfaces define a contract that classes must adhere to but do not provide any implementation.\n",
    "Abstract Classes:\n",
    "\n",
    "Abstract classes can have both abstract and concrete methods.\n",
    "They may provide a partial implementation, allowing subclasses to override specific methods."
   ]
  },
  {
   "cell_type": "markdown",
   "id": "ff9c5750-579f-4e86-80dd-6cdaeaefdd9a",
   "metadata": {},
   "source": [
    "20. Create a Python class for a zoo simulation, demonstrating polymorphism with different animal types (e.g., mammals, birds, reptiles) and their behavior (e.g., eating, sleeping, making sounds)."
   ]
  },
  {
   "cell_type": "code",
   "execution_count": 32,
   "id": "a94045df-e3f8-43de-a82b-61d21b51de86",
   "metadata": {
    "tags": []
   },
   "outputs": [
    {
     "name": "stdout",
     "output_type": "stream",
     "text": [
      "Roar!\n",
      "Ooh ooh ah ah!\n",
      "Eek eek!\n"
     ]
    }
   ],
   "source": [
    "class Animal:\n",
    "    def speak(self):\n",
    "        pass\n",
    "\n",
    "class Lion(Animal):\n",
    "    def speak(self):\n",
    "        return \"Roar!\"\n",
    "\n",
    "class Monkey(Animal):\n",
    "    def speak(self):\n",
    "        return \"Ooh ooh ah ah!\"\n",
    "\n",
    "class Penguin(Animal):\n",
    "    def speak(self):\n",
    "        return \"Eek eek!\"\n",
    "\n",
    "# Example usage\n",
    "def animal_sound(animal):\n",
    "    print(animal.speak())\n",
    "\n",
    "lion = Lion()\n",
    "monkey = Monkey()\n",
    "penguin = Penguin()\n",
    "\n",
    "animal_sound(lion)  # Outputs: Roar!\n",
    "animal_sound(monkey)  # Outputs: Ooh ooh ah ah!\n",
    "animal_sound(penguin)  # Outputs: Eek eek!\n"
   ]
  },
  {
   "cell_type": "code",
   "execution_count": null,
   "id": "5ff2cd4b-4dd4-4008-b15b-174861380e9a",
   "metadata": {},
   "outputs": [],
   "source": []
  }
 ],
 "metadata": {
  "kernelspec": {
   "display_name": "Python 3 (ipykernel)",
   "language": "python",
   "name": "python3"
  },
  "language_info": {
   "codemirror_mode": {
    "name": "ipython",
    "version": 3
   },
   "file_extension": ".py",
   "mimetype": "text/x-python",
   "name": "python",
   "nbconvert_exporter": "python",
   "pygments_lexer": "ipython3",
   "version": "3.11.3"
  }
 },
 "nbformat": 4,
 "nbformat_minor": 5
}
