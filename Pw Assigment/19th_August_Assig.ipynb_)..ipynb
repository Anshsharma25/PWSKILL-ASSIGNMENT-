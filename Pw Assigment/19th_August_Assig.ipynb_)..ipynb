{
 "cells": [
  {
   "cell_type": "code",
   "execution_count": 1,
   "id": "edcf1f17-e8a2-486c-96f9-e8374054b938",
   "metadata": {},
   "outputs": [
    {
     "name": "stdout",
     "output_type": "stream",
     "text": [
      "After swapping:\n",
      "x = 203\n",
      "y = 102\n"
     ]
    }
   ],
   "source": [
    "# Question 1st\n",
    "x = 102\n",
    "y = 203\n",
    "\n",
    "x, y = y, x\n",
    "\n",
    "print(\"After swapping:\")\n",
    "print(\"x =\", x)\n",
    "print(\"y =\", y)\n",
    "\n"
   ]
  },
  {
   "cell_type": "code",
   "execution_count": 2,
   "id": "bb3a8a63-c612-4a91-8e45-b143e670336c",
   "metadata": {},
   "outputs": [
    {
     "name": "stdin",
     "output_type": "stream",
     "text": [
      "Enter the value of length : 6\n",
      "Enter the value of breath : 7\n"
     ]
    },
    {
     "name": "stdout",
     "output_type": "stream",
     "text": [
      "area_of_rectangle =  42\n"
     ]
    }
   ],
   "source": [
    "#Question 2\n",
    "l = int(input(\"Enter the value of length :\"))\n",
    "b = int(input(\"Enter the value of breath :\"))\n",
    "\n",
    "area_of_rectangle = l*b\n",
    "\n",
    "print(\"area_of_rectangle = \", area_of_rectangle)"
   ]
  },
  {
   "cell_type": "code",
   "execution_count": 3,
   "id": "711a35dd-01a2-46e7-949c-23e1242d6976",
   "metadata": {},
   "outputs": [
    {
     "name": "stdin",
     "output_type": "stream",
     "text": [
      "42 \n"
     ]
    },
    {
     "data": {
      "text/plain": [
       "''"
      ]
     },
     "execution_count": 3,
     "metadata": {},
     "output_type": "execute_result"
    }
   ],
   "source": [
    "input(l*b)"
   ]
  },
  {
   "cell_type": "code",
   "execution_count": 4,
   "id": "730958c4-bec3-4f61-8263-eaf967a9f565",
   "metadata": {},
   "outputs": [
    {
     "name": "stdin",
     "output_type": "stream",
     "text": [
      "Enter the celsius degree : 23\n"
     ]
    },
    {
     "name": "stdout",
     "output_type": "stream",
     "text": [
      "Celsius_to_Fehrenhiet  73.4\n"
     ]
    }
   ],
   "source": [
    "#Questions 3\n",
    "c = float(input(\"Enter the celsius degree :\"))\n",
    "\n",
    "\n",
    "Celsius_to_Fehrenhiet = (c*9/5 + 32)\n",
    "print(\"Celsius_to_Fehrenhiet \", Celsius_to_Fehrenhiet )\n"
   ]
  },
  {
   "cell_type": "markdown",
   "id": "2b64dd49-ee30-45cd-8329-edbd354af594",
   "metadata": {},
   "source": [
    "String Based question"
   ]
  },
  {
   "cell_type": "code",
   "execution_count": 5,
   "id": "8bf9b7d9-67be-49b1-9fcf-044c61f0ee8b",
   "metadata": {},
   "outputs": [
    {
     "name": "stdin",
     "output_type": "stream",
     "text": [
      "Enter the valid string : Hey this is ansh\n"
     ]
    }
   ],
   "source": [
    "#Question 1\n",
    "String = input(\"Enter the valid string :\")"
   ]
  },
  {
   "cell_type": "code",
   "execution_count": 6,
   "id": "843ce69d-b36b-46fc-b5ec-4aca7f95644e",
   "metadata": {},
   "outputs": [
    {
     "data": {
      "text/plain": [
       "16"
      ]
     },
     "execution_count": 6,
     "metadata": {},
     "output_type": "execute_result"
    }
   ],
   "source": [
    "len(String)"
   ]
  },
  {
   "cell_type": "code",
   "execution_count": 7,
   "id": "d1e1abc2-ad7f-47e8-93ba-4829f693e00a",
   "metadata": {},
   "outputs": [
    {
     "name": "stdin",
     "output_type": "stream",
     "text": [
      "Enter the sentences : i will be their for you\n"
     ]
    },
    {
     "name": "stdout",
     "output_type": "stream",
     "text": [
      "Number of vowel 8\n"
     ]
    }
   ],
   "source": [
    "sentence = input(\"Enter the sentences :\")\n",
    "vowel_count = sentence.lower().count(\"a\") + sentence.lower().count(\"e\") + sentence.lower().count(\"i\") + sentence.lower().count(\"o\") + sentence.lower().count(\"u\")\n",
    "print(\"Number of vowel\" , vowel_count)"
   ]
  },
  {
   "cell_type": "code",
   "execution_count": 8,
   "id": "e4a5cb0a-10ed-41ae-aa37-505717b824c3",
   "metadata": {},
   "outputs": [
    {
     "name": "stdin",
     "output_type": "stream",
     "text": [
      "Enter the sentences : i will be their for you\n"
     ]
    },
    {
     "name": "stdout",
     "output_type": "stream",
     "text": [
      "String: uoy rof rieht eb lliw i\n"
     ]
    }
   ],
   "source": [
    "#Question 3 \n",
    "sentence = input(\"Enter the sentences :\")\n",
    "reverse = sentence[::-1]\n",
    "print(\"String:\",reverse)\n"
   ]
  },
  {
   "cell_type": "code",
   "execution_count": null,
   "id": "f1d19d73-a33f-4028-b9c4-fc7b24530285",
   "metadata": {},
   "outputs": [],
   "source": [
    "#Question 4\n",
    "user_input = input(\"Enter a string: \")\n",
    "user_input = user_input.lower()  # Convert to lowercase for case-insensitivity\n",
    "\n",
    "is_palindrome = all(user_input[i] == user_input[len(user_input) - i - 1] for i in range(len(user_input) // 2))\n",
    "\n",
    "result = \"palindrome\" if is_palindrome else \"not a palindrome\"\n",
    "print(f\"The input string is {result}.\")\n",
    "\n",
    "\n"
   ]
  },
  {
   "cell_type": "code",
   "execution_count": null,
   "id": "6a396a60-6092-426f-9094-37abeaa1cb77",
   "metadata": {},
   "outputs": [],
   "source": [
    "#question 5\n",
    "user_input = input(\"Enter a string: \")\n",
    "modified_string = user_input.replace(\" \", \"\")\n",
    "print(\"modified_strin\",modified_string)"
   ]
  },
  {
   "cell_type": "code",
   "execution_count": null,
   "id": "7519856a-1f92-46b7-b2e5-a668a76edb84",
   "metadata": {},
   "outputs": [],
   "source": []
  }
 ],
 "metadata": {
  "kernelspec": {
   "display_name": "Python 3 (ipykernel)",
   "language": "python",
   "name": "python3"
  },
  "language_info": {
   "codemirror_mode": {
    "name": "ipython",
    "version": 3
   },
   "file_extension": ".py",
   "mimetype": "text/x-python",
   "name": "python",
   "nbconvert_exporter": "python",
   "pygments_lexer": "ipython3",
   "version": "3.10.8"
  }
 },
 "nbformat": 4,
 "nbformat_minor": 5
}
