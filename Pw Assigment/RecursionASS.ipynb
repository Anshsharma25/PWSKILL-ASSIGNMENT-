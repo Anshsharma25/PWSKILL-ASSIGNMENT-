{
 "cells": [
  {
   "cell_type": "raw",
   "id": "209a54a6-8ae9-4c48-abcf-60965f8555e0",
   "metadata": {
    "tags": []
   },
   "source": [
    "#question 1.\n",
    "public class TowerOfHanoi {\n",
    "\n",
    "    public static void main(String[] args) {\n",
    "        int numDisks = 3;\n",
    "        char source = 'A';\n",
    "        char auxiliary = 'B';\n",
    "        char destination = 'C';\n",
    "        moveDisks(numDisks, source, auxiliary, destination);\n",
    "    }\n",
    "\n",
    "    public static void moveDisks(int n, char source, char auxiliary, char destination) {\n",
    "        if (n == 1) {\n",
    "            System.out.println(\"Move disk 1 from \" + source + \" to \" + destination);\n",
    "            return;\n",
    "        }\n",
    "        moveDisks(n - 1, source, destination, auxiliary);\n",
    "        System.out.println(\"Move disk \" + n + \" from \" + source + \" to \" + destination);\n",
    "        moveDisks(n - 1, auxiliary, source, destination);\n",
    "    }\n",
    "}\n"
   ]
  },
  {
   "cell_type": "code",
   "execution_count": 3,
   "id": "474850b4-7605-4146-910c-ab6ac3237ced",
   "metadata": {
    "tags": []
   },
   "outputs": [
    {
     "name": "stdout",
     "output_type": "stream",
     "text": [
      "Output for Example 1: 3\n",
      "Output for Example 2: 5\n"
     ]
    }
   ],
   "source": [
    "#Question 2 \n",
    "def minDistance(word1: str, word2: str) -> int:\n",
    "    m, n = len(word1), len(word2)\n",
    "    dp = [[0] * (n + 1) for _ in range(m + 1)]\n",
    "\n",
    "    for i in range(m + 1):\n",
    "        for j in range(n + 1):\n",
    "            if i == 0:\n",
    "                dp[i][j] = j\n",
    "            elif j == 0:\n",
    "                dp[i][j] = i\n",
    "            elif word1[i - 1] == word2[j - 1]:\n",
    "                dp[i][j] = dp[i - 1][j - 1]\n",
    "            else:\n",
    "                dp[i][j] = 1 + min(dp[i - 1][j - 1], dp[i][j - 1], dp[i - 1][j])\n",
    "\n",
    "    return dp[m][n]\n",
    "\n",
    "# Example usage:\n",
    "word1 = \"horse\"\n",
    "word2 = \"ros\"\n",
    "print(\"Output for Example 1:\", minDistance(word1, word2)) # Output: 3\n",
    "\n",
    "word1 = \"intention\"\n",
    "word2 = \"execution\"\n",
    "print(\"Output for Example 2:\", minDistance(word1, word2)) # Output: 5\n"
   ]
  },
  {
   "cell_type": "code",
   "execution_count": 4,
   "id": "f923aa9d-77f4-4284-a9cc-f0b34579bbd1",
   "metadata": {
    "tags": []
   },
   "outputs": [
    {
     "name": "stdout",
     "output_type": "stream",
     "text": [
      "Max value of the array: 22\n"
     ]
    }
   ],
   "source": [
    "#question 3 \n",
    "def find_max(arr):\n",
    "    if len(arr) == 1:\n",
    "        return arr[0]\n",
    "    else:\n",
    "        max_value = arr[0]\n",
    "        rest_max = find_max(arr[1:])\n",
    "        if rest_max > max_value:\n",
    "            max_value = rest_max\n",
    "        return max_value\n",
    "\n",
    "# Example usage:\n",
    "arr = [13, 1, -3, 22, 5]\n",
    "print(\"Max value of the array:\", find_max(arr)) \n"
   ]
  },
  {
   "cell_type": "code",
   "execution_count": 5,
   "id": "98ba9c77-9ab5-42b7-a349-f780bd897e13",
   "metadata": {
    "tags": []
   },
   "outputs": [
    {
     "name": "stdout",
     "output_type": "stream",
     "text": [
      "Sum of the values of the array: 120\n"
     ]
    }
   ],
   "source": [
    "#Q.4 Find the sum of the values of the array [92, 23, 15, -20, 10].\n",
    "def array_sum(arr):\n",
    "    total = 0\n",
    "    for i in arr:\n",
    "        total += i\n",
    "    return total\n",
    "\n",
    "# Example usage:\n",
    "arr = [92, 23, 15, -20, 10]\n",
    "print(\"Sum of the values of the array:\", array_sum(arr))  # Output: 120\n"
   ]
  },
  {
   "cell_type": "code",
   "execution_count": 6,
   "id": "43de622f-6dca-44e4-89dc-4f88f4fbd146",
   "metadata": {
    "tags": []
   },
   "outputs": [
    {
     "name": "stdout",
     "output_type": "stream",
     "text": [
      "Output for Input 1: Yes\n",
      "Output for Input 2: No\n"
     ]
    }
   ],
   "source": [
    "#5\n",
    "def is_armstrong(num):\n",
    "    # Convert the number to a string to count the digits\n",
    "    num_str = str(num)\n",
    "    num_digits = len(num_str)\n",
    "    \n",
    "    # Calculate the sum of each digit raised to the power of the total digits\n",
    "    armstrong_sum = sum(int(digit) ** num_digits for digit in num_str)\n",
    "    \n",
    "    # Check if the sum is equal to the original number\n",
    "    if armstrong_sum == num:\n",
    "        return \"Yes\"\n",
    "    else:\n",
    "        return \"No\"\n",
    "\n",
    "# Example usage:\n",
    "num1 = 153\n",
    "print(\"Output for Input 1:\", is_armstrong(num1))  # Output: Yes\n",
    "\n",
    "num2 = 134\n",
    "print(\"Output for Input 2:\", is_armstrong(num2))  # Output: No\n"
   ]
  },
  {
   "cell_type": "code",
   "execution_count": null,
   "id": "429ae7b8-2276-4b62-a2ed-564162b8572a",
   "metadata": {},
   "outputs": [],
   "source": []
  }
 ],
 "metadata": {
  "kernelspec": {
   "display_name": "Python 3 (ipykernel)",
   "language": "python",
   "name": "python3"
  },
  "language_info": {
   "codemirror_mode": {
    "name": "ipython",
    "version": 3
   },
   "file_extension": ".py",
   "mimetype": "text/x-python",
   "name": "python",
   "nbconvert_exporter": "python",
   "pygments_lexer": "ipython3",
   "version": "3.11.3"
  }
 },
 "nbformat": 4,
 "nbformat_minor": 5
}
