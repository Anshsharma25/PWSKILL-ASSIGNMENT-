{
 "cells": [
  {
   "cell_type": "raw",
   "id": "3980893b-3ec6-4827-9c8f-ae3441aec5d3",
   "metadata": {},
   "source": [
    "1. Find the value of T(2) for the recurrence relation T(n) = 3T(n-1) + 12n, given that T(0)=5.\n",
    "To find the value of T(2), we can recursively apply the recurrence relation:\n",
    "\n",
    "T(2) = 3 * T(1) + 12 * 2\n",
    "= 3 * (3 * T(0) + 12 * 1) + 12 * 2\n",
    "= 3 * (3 * 5 + 12) + 24\n",
    "= 3 * (15 + 12) + 24\n",
    "= 3 * 27 + 24\n",
    "= 81 + 24\n",
    "= 105\n",
    "\n",
    "So, T(2) = 105."
   ]
  },
  {
   "cell_type": "raw",
   "id": "d6852d16-b8c5-4716-a345-3f348c9d0e62",
   "metadata": {},
   "source": [
    "2. Given a recurrence relation, solve it using the substitution method:\n",
    "a. T(n) = T(n-1) + c\n",
    "\n",
    "To solve this recurrence relation, let's substitute T(n-1) into T(n):\n",
    "\n",
    "T(n) = T(n-2) + c + c = T(n-2) + 2c\n",
    "= T(n-3) + 3c\n",
    "= T(0) + nc\n",
    "\n",
    "Since T(0) is given as 5, the solution is:\n",
    "\n",
    "T(n) = 5 + nc\n",
    "--------------------------------------------------------------------------------------------------\n",
    "b. T(n) = 2T(n/2) + n\n",
    "\n",
    "To solve this recurrence relation, let's substitute T(n/2) into T(n):\n",
    "\n",
    "T(n) = 2(2T(n/4) + n/2) + n\n",
    "= 4T(n/4) + 2n + n\n",
    "= 4(2T(n/8) + n/4) + 3n\n",
    "= 8T(n/8) + 3n\n",
    "= 2^k * T(n/2^k) + kn\n",
    "\n",
    "Let's assume n = 2^k (for simplicity), then T(1) = c (some constant).\n",
    "\n",
    "So, k = log(n) (base 2)\n",
    "\n",
    "T(n) = 2^log(n) * T(1) + n * log(n)\n",
    "= n * c + n * log(n)\n",
    "-------------------------------------------------------------------------------------------------\n",
    "c. T(n) = 2T(n/2) + c\n",
    "\n",
    "To solve this recurrence relation, let's substitute T(n/2) into T(n):\n",
    "\n",
    "T(n) = 2(2T(n/4) + c) + c\n",
    "= 4T(n/4) + 2c + c\n",
    "= 4(2T(n/8) + c) + 3c\n",
    "= 8T(n/8) + 4c + 3c\n",
    "= 2^k * T(n/2^k) + kc\n",
    "\n",
    "Let's assume n = 2^k (for simplicity), then T(1) = d (some constant).\n",
    "\n",
    "So, k = log(n) (base 2)\n",
    "\n",
    "T(n) = 2^log(n) * T(1) + c * log(n)\n",
    "= n * d + c * log(n)\n",
    "----------------------------------------------------------------------------------------------------------\n",
    "d. T(n) = T(n/2) + c\n",
    "\n",
    "To solve this recurrence relation, let's substitute T(n/2) into T(n):\n",
    "\n",
    "T(n) = T(n/4) + c + c = T(n/4) + 2c\n",
    "= T(n/8) + 3c\n",
    "= T(1) + log(n) * c\n",
    "\n",
    "So, T(n) = d + log(n) * c"
   ]
  },
  {
   "cell_type": "raw",
   "id": "51448406-15cb-491f-b429-39bc0485f099",
   "metadata": {},
   "source": [
    "3. Given a recurrence relation, solve it using the recursive tree approach:\n",
    "a. T(n) = 2T(n-1) +1\n",
    "\n",
    "In the recursive tree approach, each level contributes a constant amount of work. Here, each level adds 1 to the total work, and there are n levels. So, the total work is n. Therefore, T(n) = n.\n",
    "\n",
    "b. T(n) = 2T(n/2) + n\n",
    "\n",
    "In this case, each level contributes a linear amount of work (n/2) to the total work. And there are log(n) levels. So, the total work is n * log(n). Therefore, T(n) = n * log(n)."
   ]
  },
  {
   "cell_type": "code",
   "execution_count": null,
   "id": "77e1597a-a130-4160-aea2-cb2ff2b71c45",
   "metadata": {},
   "outputs": [],
   "source": []
  }
 ],
 "metadata": {
  "kernelspec": {
   "display_name": "Python 3 (ipykernel)",
   "language": "python",
   "name": "python3"
  },
  "language_info": {
   "codemirror_mode": {
    "name": "ipython",
    "version": 3
   },
   "file_extension": ".py",
   "mimetype": "text/x-python",
   "name": "python",
   "nbconvert_exporter": "python",
   "pygments_lexer": "ipython3",
   "version": "3.11.3"
  }
 },
 "nbformat": 4,
 "nbformat_minor": 5
}
