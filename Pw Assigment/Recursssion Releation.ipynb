{
 "cells": [
  {
   "cell_type": "markdown",
   "id": "391a9d3d-145e-49cb-a4f7-dd3b4b49ec9d",
   "metadata": {},
   "source": [
    "1. Find the value of T(2) for the recurrence relation T(n) = 3T(n-1) + 12n, given that T(0)=5.\n",
    "To find the value of T(2), we can recursively apply the recurrence relation:\n",
    "\n",
    "T(2) = 3 * T(1) + 12 * 2\n",
    "= 3 * (3 * T(0) + 12 * 1) + 12 * 2\n",
    "= 3 * (3 * 5 + 12) + 24\n",
    "= 3 * (15 + 12) + 24\n",
    "= 3 * 27 + 24\n",
    "= 81 + 24\n",
    "= 105\n",
    "\n",
    "So, T(2) = 105."
   ]
  },
  {
   "cell_type": "markdown",
   "id": "70c897d5-0642-423b-af93-5123a9bfd7df",
   "metadata": {},
   "source": [
    "2. Given a recurrence relation, solve it using the substitution method:\n",
    "a. T(n) = T(n-1) + c\n",
    "\n",
    "To solve this recurrence relation, let's substitute T(n-1) into T(n):\n",
    "\n",
    "T(n) = T(n-2) + c + c = T(n-2) + 2c\n",
    "= T(n-3) + 3c\n",
    "= T(0) + nc\n",
    "\n",
    "Since T(0) is given as 5, the solution is:\n",
    "\n",
    "T(n) = 5 + nc\n",
    "--------------------------------------------------------------------------------------------------\n",
    "b. T(n) = 2T(n/2) + n\n",
    "\n",
    "To solve this recurrence relation, let's substitute T(n/2) into T(n):\n",
    "\n",
    "T(n) = 2(2T(n/4) + n/2) + n\n",
    "= 4T(n/4) + 2n + n\n",
    "= 4(2T(n/8) + n/4) + 3n\n",
    "= 8T(n/8) + 3n\n",
    "= 2^k * T(n/2^k) + kn\n",
    "\n",
    "Let's assume n = 2^k (for simplicity), then T(1) = c (some constant).\n",
    "\n",
    "So, k = log(n) (base 2)\n",
    "\n",
    "T(n) = 2^log(n) * T(1) + n * log(n)\n",
    "= n * c + n * log(n)\n",
    "-------------------------------------------------------------------------------------------------\n",
    "c. T(n) = 2T(n/2) + c\n",
    "\n",
    "To solve this recurrence relation, let's substitute T(n/2) into T(n):\n",
    "\n",
    "T(n) = 2(2T(n/4) + c) + c\n",
    "= 4T(n/4) + 2c + c\n",
    "= 4(2T(n/8) + c) + 3c\n",
    "= 8T(n/8) + 4c + 3c\n",
    "= 2^k * T(n/2^k) + kc\n",
    "\n",
    "Let's assume n = 2^k (for simplicity), then T(1) = d (some constant).\n",
    "\n",
    "So, k = log(n) (base 2)\n",
    "\n",
    "T(n) = 2^log(n) * T(1) + c * log(n)\n",
    "= n * d + c * log(n)\n",
    "----------------------------------------------------------------------------------------------------------\n",
    "d. T(n) = T(n/2) + c\n",
    "\n",
    "To solve this recurrence relation, let's substitute T(n/2) into T(n):\n",
    "\n",
    "T(n) = T(n/4) + c + c = T(n/4) + 2c\n",
    "= T(n/8) + 3c\n",
    "= T(1) + log(n) * c\n",
    "\n",
    "So, T(n) = d + log(n) * c"
   ]
  },
  {
   "cell_type": "markdown",
   "id": "6e819694-b352-4785-81a1-6851bc559769",
   "metadata": {},
   "source": [
    "3. Given a recurrence relation, solve it using the recursive tree approach:\n",
    "a. T(n) = 2T(n-1) +1\n",
    "\n",
    "In the recursive tree approach, each level contributes a constant amount of work. Here, each level adds 1 to the total work, and there are n levels. So, the total work is n. Therefore, T(n) = n.\n",
    "\n",
    "b. T(n) = 2T(n/2) + n\n",
    "\n",
    "In this case, each level contributes a linear amount of work (n/2) to the total work. And there are log(n) levels. So, the total work is n * log(n). Therefore, T(n) = n * log(n)."
   ]
  },
  {
   "cell_type": "markdown",
   "id": "336b859a-84aa-4ba8-8663-436589297f5f",
   "metadata": {},
   "source": []
  },
  {
   "cell_type": "code",
   "execution_count": null,
   "id": "29e8000a-2dfa-4909-a642-32b54c2c0a0a",
   "metadata": {},
   "outputs": [],
   "source": []
  }
 ],
 "metadata": {
  "kernelspec": {
   "display_name": "Python 3 (ipykernel)",
   "language": "python",
   "name": "python3"
  },
  "language_info": {
   "codemirror_mode": {
    "name": "ipython",
    "version": 3
   },
   "file_extension": ".py",
   "mimetype": "text/x-python",
   "name": "python",
   "nbconvert_exporter": "python",
   "pygments_lexer": "ipython3",
   "version": "3.11.3"
  }
 },
 "nbformat": 4,
 "nbformat_minor": 5
}
