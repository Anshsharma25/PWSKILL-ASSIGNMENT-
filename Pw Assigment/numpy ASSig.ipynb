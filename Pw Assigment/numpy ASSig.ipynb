{
 "cells": [
  {
   "cell_type": "markdown",
   "id": "eefea88c-727f-4856-8513-6b25ae55a188",
   "metadata": {},
   "source": [
    "What is a Python library? Why ^o we use Python libraries?"
   ]
  },
  {
   "cell_type": "raw",
   "id": "e46e1bb2-ad9e-48c9-9455-e388d6dad1df",
   "metadata": {},
   "source": [
    "A Python library is a collection of related modules that contain reusable code for various purposes. \n",
    "We use Python libraries to simplify and speed up our programming tasks, as well as to access advanced \n",
    "functionalities such as machine learning, data analysis, and data visualization12.\n",
    "\n",
    "Python libraries are:\n",
    "\n",
    "NumPy: A library for working with numerical arrays and matrices, as well as performing mathematical operations on them1.\n",
    "Pandas: A library for manipulating and analyzing data in tabular and time-series formats1.\n",
    "Matplotlib: A library for creating high-quality plots and graphs from data"
   ]
  },
  {
   "cell_type": "markdown",
   "id": "dd7ef4ac-0305-4eaa-ac28-e153cc370704",
   "metadata": {},
   "source": [
    "What is the difference between Numpy array and List?"
   ]
  },
  {
   "cell_type": "raw",
   "id": "e3ed194b-abaf-4f50-b60a-5bf2659b359f",
   "metadata": {},
   "source": [
    "Numpy array is optimized for numerical computations and vector operations, while List is general-purpose and may have slower mathematical operations due to Python’s interpretation overhead12.\n",
    "Numpy array requires importing the Numpy library, while List is a built-in data structure in Python"
   ]
  },
  {
   "cell_type": "markdown",
   "id": "3bfd7ea9-ab17-47fa-b43b-e914c8ee8da7",
   "metadata": {},
   "source": [
    "3. Fin^ the shape, size an^ ^imension of the following array?\n",
    "[[1, 2, 3, 4]\n",
    "[5, 6, 7, 8],\n",
    "[9, 10, 11, 12]]"
   ]
  },
  {
   "cell_type": "code",
   "execution_count": 1,
   "id": "495950ed-e797-424d-b7fe-0b1c8fa0530d",
   "metadata": {
    "tags": []
   },
   "outputs": [],
   "source": [
    "import numpy as np\n",
    "arr= [[1, 2, 3, 4]\n",
    "     ,[5, 6, 7, 8],\n",
    "     [9, 10, 11, 12]]\n"
   ]
  },
  {
   "cell_type": "code",
   "execution_count": 2,
   "id": "a680ef7d-1422-4859-8651-07ad1328ebcb",
   "metadata": {
    "tags": []
   },
   "outputs": [],
   "source": [
    "array = np.array ( [ [1, 2, 3, 4], [5, 6, 7, 8], [9, 10, 11, 12]])\n"
   ]
  },
  {
   "cell_type": "code",
   "execution_count": 3,
   "id": "a4311f27-ad03-421a-9127-0debac8dc0e2",
   "metadata": {
    "tags": []
   },
   "outputs": [
    {
     "name": "stdout",
     "output_type": "stream",
     "text": [
      "(3, 4)\n",
      "12\n",
      "2\n"
     ]
    }
   ],
   "source": [
    "print(array.shape)\n",
    "print(array.size)\n",
    "print(array.ndim)"
   ]
  },
  {
   "cell_type": "markdown",
   "id": "904475e3-6a07-4b8a-93e5-304b1e605342",
   "metadata": {},
   "source": [
    "4. Write python co^e to access the first row of the following array?\n",
    "[[1, 2, 3, 4]\n",
    "[5, 6, 7, 8],\n",
    "[9, 10, 11, 12]]"
   ]
  },
  {
   "cell_type": "code",
   "execution_count": 4,
   "id": "6db14b22-bac2-403c-b945-27205550891a",
   "metadata": {
    "tags": []
   },
   "outputs": [],
   "source": [
    "array = np.array ( [ [1, 2, 3, 4], [5, 6, 7, 8], [9, 10, 11, 12]])\n"
   ]
  },
  {
   "cell_type": "code",
   "execution_count": 5,
   "id": "cc9feb7c-293c-41f6-9d31-00bd0d094ff3",
   "metadata": {
    "tags": []
   },
   "outputs": [
    {
     "name": "stdout",
     "output_type": "stream",
     "text": [
      "[1 2 3 4]\n"
     ]
    }
   ],
   "source": [
    "first_row = array[0]\n",
    "print(array[0])"
   ]
  },
  {
   "cell_type": "markdown",
   "id": "df1e39a4-9118-477b-8714-5bf410238975",
   "metadata": {},
   "source": [
    "5. How do you access the element at the thir^ row an^ fourth column from the given numpy array?\n",
    "[[1, 2, 3, 4]\n",
    "[5, 6, 7, 8],\n",
    "[9, 10, 11, 12]]"
   ]
  },
  {
   "cell_type": "code",
   "execution_count": 6,
   "id": "866b7213-de20-4456-83e8-9efcea5324dd",
   "metadata": {
    "tags": []
   },
   "outputs": [
    {
     "name": "stdout",
     "output_type": "stream",
     "text": [
      "12\n"
     ]
    }
   ],
   "source": [
    "array = np.array ( [ [1, 2, 3, 4], [5, 6, 7, 8], [9, 10, 11, 12]])\n",
    "element = array[2, 3]\n",
    "print(element) \n"
   ]
  },
  {
   "cell_type": "markdown",
   "id": "f2d98a96-b1bb-4022-b021-9364422d4d0a",
   "metadata": {},
   "source": [
    "6. Write code to extract all o^^-in^exe^ elements from the given numpy array?\n",
    "[[1, 2, 3, 4]\n",
    "[5, 6, 7, 8],\n",
    "[9, 10, 11, 12]]"
   ]
  },
  {
   "cell_type": "code",
   "execution_count": 7,
   "id": "aad17231-8ad9-4434-87a5-0799de578255",
   "metadata": {
    "tags": []
   },
   "outputs": [
    {
     "name": "stdout",
     "output_type": "stream",
     "text": [
      "[[5 7]]\n"
     ]
    }
   ],
   "source": [
    "a = np.array([[1, 2, 3, 4],\n",
    "              [5, 6, 7, 8],\n",
    "              [9, 10, 11, 12]])\n",
    "b = a[1::2, 0::2]\n",
    "print(b)"
   ]
  },
  {
   "cell_type": "markdown",
   "id": "ed2b6265-e5c3-4fe3-95e1-c0dbf6157fd9",
   "metadata": {},
   "source": [
    "7. How can you generate a random 3x3 matrix with values between 0 an^ 1?"
   ]
  },
  {
   "cell_type": "code",
   "execution_count": 8,
   "id": "d6947967-8cce-41b7-8635-eab3f585e36e",
   "metadata": {
    "tags": []
   },
   "outputs": [
    {
     "name": "stdout",
     "output_type": "stream",
     "text": [
      "[[0.51358756 0.70958744 0.5505603 ]\n",
      " [0.75668003 0.4914207  0.91801524]\n",
      " [0.17379169 0.13514453 0.25497345]]\n"
     ]
    }
   ],
   "source": [
    "m = np.random.rand (3, 3)\n",
    "print(m)"
   ]
  },
  {
   "cell_type": "markdown",
   "id": "e63a3e88-5665-4883-8296-014821f6d07a",
   "metadata": {},
   "source": [
    "Describe the difference between np.random.rand and np.random.randn?"
   ]
  },
  {
   "cell_type": "raw",
   "id": "e7ae16d7-5280-4170-8f23-31f27c1854b2",
   "metadata": {},
   "source": [
    "The difference between np.random.rand and np.random.randn is that np.random.rand generates random numbers from a uniform distribution over the interval [0, 1), while np.random.randn generates random numbers from a normal distribution with a mean of 0 and a variance of 112.\n",
    "\n",
    "A uniform distribution means that all the possible values have the same probability of occurring, and they are bounded by a lower and upper limit. A normal distribution means that most of the values are clustered around the mean, and they have a bell-shaped curve that tails off as the values get farther from the mean. There is no fixed limit to the range of values in a normal distribution3."
   ]
  },
  {
   "cell_type": "markdown",
   "id": "58a2696f-e439-4623-9b5b-1f89467722e6",
   "metadata": {},
   "source": [
    "9. Write co^e to increase the dimension of the following array?\n",
    "[[1, 2, 3, 4]\n",
    "[5, 6, 7, 8],\n",
    "[9, 10, 11, 12]]"
   ]
  },
  {
   "cell_type": "code",
   "execution_count": 9,
   "id": "f81a7fd2-4900-418c-b127-98a89f343fc2",
   "metadata": {
    "tags": []
   },
   "outputs": [
    {
     "name": "stdout",
     "output_type": "stream",
     "text": [
      "(3, 4, 1)\n"
     ]
    }
   ],
   "source": [
    "a = np.array([[1, 2, 3, 4],\n",
    "              [5, 6, 7, 8],\n",
    "              [9, 10, 11, 12]])\n",
    "b = np.expand_dims(a, axis=-1)\n",
    "print(b.shape)"
   ]
  },
  {
   "cell_type": "markdown",
   "id": "e19996d3-1b1d-4c96-b8a1-5ade22a17251",
   "metadata": {},
   "source": [
    "10. How to transpose the following array in NumPy?\n",
    "[[1, 2, 3, 4]\n",
    "[5, 6, 7, 8],\n",
    "[9, 10, 11, 12]]"
   ]
  },
  {
   "cell_type": "code",
   "execution_count": 10,
   "id": "3077c4c7-9d4f-4058-bde3-a24a57e31a44",
   "metadata": {
    "tags": []
   },
   "outputs": [
    {
     "name": "stdout",
     "output_type": "stream",
     "text": [
      "[[ 1  5  9]\n",
      " [ 2  6 10]\n",
      " [ 3  7 11]\n",
      " [ 4  8 12]]\n",
      "[[ 1  5  9]\n",
      " [ 2  6 10]\n",
      " [ 3  7 11]\n",
      " [ 4  8 12]]\n"
     ]
    }
   ],
   "source": [
    "a = np.array([[1, 2, 3, 4],\n",
    "              [5, 6, 7, 8],\n",
    "              [9, 10, 11, 12]])\n",
    "b = np.transpose(a)\n",
    "c = a.T # use the .T attribute\n",
    "print(b) \n",
    "print(c)\n"
   ]
  },
  {
   "cell_type": "markdown",
   "id": "6efaec82-41b4-4b47-818a-9018f15bb86f",
   "metadata": {},
   "source": [
    "11. Consider the following matrix:\n",
    "Matrix A2 [[1, 2, 3, 4] [5, 6, 7, 8],[9, 10, 11, 12]]\n",
    "Matrix B2 [[1, 2, 3, 4] [5, 6, 7, 8],[9, 10, 11, 12]]"
   ]
  },
  {
   "cell_type": "code",
   "execution_count": 11,
   "id": "c76ac65c-ec2e-4b81-8f30-f73b91f2135e",
   "metadata": {
    "tags": []
   },
   "outputs": [
    {
     "name": "stdout",
     "output_type": "stream",
     "text": [
      "[[  1   4   9  16]\n",
      " [ 25  36  49  64]\n",
      " [ 81 100 121 144]]\n"
     ]
    }
   ],
   "source": [
    "import numpy as np\n",
    "A2 = np.array([[1, 2, 3, 4], [5, 6, 7, 8], [9, 10, 11, 12]])\n",
    "B2 = np.array([[1, 2, 3, 4], [5, 6, 7, 8], [9, 10, 11, 12]])\n",
    "# using the * operator\n",
    "result = A2*B2\n",
    "print(result)"
   ]
  },
  {
   "cell_type": "code",
   "execution_count": 12,
   "id": "3645a3b1-a435-4ac3-a5a0-876e8eee9ac8",
   "metadata": {
    "tags": []
   },
   "outputs": [
    {
     "name": "stdout",
     "output_type": "stream",
     "text": [
      "[[ 2  4  6  8]\n",
      " [10 12 14 16]\n",
      " [18 20 22 24]]\n"
     ]
    }
   ],
   "source": [
    "result = A2 + B2\n",
    "print(result)"
   ]
  },
  {
   "cell_type": "code",
   "execution_count": 13,
   "id": "c7da54af-1b70-4c7c-badc-aa72942d18e8",
   "metadata": {
    "tags": []
   },
   "outputs": [
    {
     "name": "stdout",
     "output_type": "stream",
     "text": [
      "[[1. 1. 1. 1.]\n",
      " [1. 1. 1. 1.]\n",
      " [1. 1. 1. 1.]]\n"
     ]
    }
   ],
   "source": [
    "result = A2 / B2\n",
    "print(result)"
   ]
  },
  {
   "cell_type": "code",
   "execution_count": 14,
   "id": "9386a7c9-9f16-43d1-90ab-7a25f6709859",
   "metadata": {
    "tags": []
   },
   "outputs": [
    {
     "name": "stdout",
     "output_type": "stream",
     "text": [
      "[[0 0 0 0]\n",
      " [0 0 0 0]\n",
      " [0 0 0 0]]\n"
     ]
    }
   ],
   "source": [
    "result = A2 - B2\n",
    "print(result)"
   ]
  },
  {
   "cell_type": "code",
   "execution_count": 15,
   "id": "e44904fa-bdb9-4fc4-9977-99792befb835",
   "metadata": {
    "tags": []
   },
   "outputs": [
    {
     "ename": "ValueError",
     "evalue": "matmul: Input operand 1 has a mismatch in its core dimension 0, with gufunc signature (n?,k),(k,m?)->(n?,m?) (size 3 is different from 4)",
     "output_type": "error",
     "traceback": [
      "\u001b[1;31m---------------------------------------------------------------------------\u001b[0m",
      "\u001b[1;31mValueError\u001b[0m                                Traceback (most recent call last)",
      "Cell \u001b[1;32mIn[15], line 1\u001b[0m\n\u001b[1;32m----> 1\u001b[0m result \u001b[38;5;241m=\u001b[39m \u001b[43mA2\u001b[49m\u001b[43m \u001b[49m\u001b[38;5;241;43m@\u001b[39;49m\u001b[43m \u001b[49m\u001b[43mB2\u001b[49m\n\u001b[0;32m      2\u001b[0m \u001b[38;5;28mprint\u001b[39m(result)\n",
      "\u001b[1;31mValueError\u001b[0m: matmul: Input operand 1 has a mismatch in its core dimension 0, with gufunc signature (n?,k),(k,m?)->(n?,m?) (size 3 is different from 4)"
     ]
    }
   ],
   "source": [
    "result = A2 @ B2\n",
    "print(result)"
   ]
  },
  {
   "cell_type": "markdown",
   "id": "ec6d4123-b3a8-4b66-85e7-b26e3e151e30",
   "metadata": {},
   "source": [
    "12. Which function in Numpy can be used to swap the byte or^er of an array?"
   ]
  },
  {
   "cell_type": "raw",
   "id": "75c67463-f0de-4f82-9d9c-dba2e2bfb9b5",
   "metadata": {},
   "source": [
    "To swap the byte order of an array, you can use the numpy.ndarray.byteswap method, which toggles between low-endian and big-endian data representation by returning a byteswapped array, optionally swapped in-place"
   ]
  },
  {
   "cell_type": "markdown",
   "id": "c49a9226-3a0d-414c-8ca4-72260f404e33",
   "metadata": {},
   "source": [
    "13. What is the significance of the np.linalg.inv function?"
   ]
  },
  {
   "cell_type": "raw",
   "id": "5f7dfe6b-758a-413b-a2e2-c33f31900ab9",
   "metadata": {},
   "source": [
    "The np.linalg.inv function is a NumPy function that computes the (multiplicative) inverse of a square matrix. The inverse of a matrix is such that if it is multiplied by the original matrix, it results in an identity matrix. The inverse of a matrix can be used to solve systems of linear equations, find the determinant of a matrix, or perform other matrix operations."
   ]
  },
  {
   "cell_type": "markdown",
   "id": "d4e94be2-8002-4870-bfe2-8c1813bf82c7",
   "metadata": {
    "tags": []
   },
   "source": [
    "14. What does the np.reshape function do, and how is it use^?"
   ]
  },
  {
   "cell_type": "raw",
   "id": "8df80462-d438-48b3-a5c2-e66349972de1",
   "metadata": {},
   "source": [
    "The np.reshape function is a NumPy function that changes the shape of an array without changing its data. It takes an array and a new shape as arguments, and returns a new array with the same data but with the specific shape."
   ]
  },
  {
   "cell_type": "markdown",
   "id": "aac47e8f-c5e0-4041-8ff0-5605eb0d7924",
   "metadata": {},
   "source": [
    "15. What is broadcasting in Numpy?"
   ]
  },
  {
   "cell_type": "raw",
   "id": "8804c305-8a8b-4feb-bda0-61867f942e20",
   "metadata": {},
   "source": [
    "\n",
    "Broadcasting is a feature of NumPy that allows you to perform arithmetic operations on arrays with different shapes, as long as they are compatible. Broadcasting can make your code more concise and efficient by avoiding unnecessary loops and copies of data. Broadcasting works by expanding the smaller array along the missing or singleton dimensions to match the shape of the larger array, and then applying the element"
   ]
  }
 ],
 "metadata": {
  "kernelspec": {
   "display_name": "Python 3 (ipykernel)",
   "language": "python",
   "name": "python3"
  },
  "language_info": {
   "codemirror_mode": {
    "name": "ipython",
    "version": 3
   },
   "file_extension": ".py",
   "mimetype": "text/x-python",
   "name": "python",
   "nbconvert_exporter": "python",
   "pygments_lexer": "ipython3",
   "version": "3.11.3"
  }
 },
 "nbformat": 4,
 "nbformat_minor": 5
}
