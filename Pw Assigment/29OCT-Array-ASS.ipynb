{
 "cells": [
  {
   "cell_type": "markdown",
   "id": "819daf19-b0dc-42df-9b77-37786fad3e0c",
   "metadata": {
    "tags": []
   },
   "source": [
    "## Arrya assigment"
   ]
  },
  {
   "cell_type": "markdown",
   "id": "cfe68d21-c88f-4ec0-a725-3b14420c0a85",
   "metadata": {
    "tags": []
   },
   "source": [
    "Question 1. Given an array, check if it contains any duplicates or not.\n",
    "arr = [1, 2, 4, 2, 5, 9]\n",
    "Output = True"
   ]
  },
  {
   "cell_type": "code",
   "execution_count": 1,
   "id": "40e34cfd-4df1-412c-a04a-ededb94cf2ae",
   "metadata": {
    "tags": []
   },
   "outputs": [
    {
     "data": {
      "text/plain": [
       "True"
      ]
     },
     "execution_count": 1,
     "metadata": {},
     "output_type": "execute_result"
    }
   ],
   "source": [
    "# creating the function\n",
    "def checkduplicate(arr):\n",
    "# first we sorting the array \n",
    "    arr.sort()\n",
    "    contain_duplicate = False\n",
    "#then we check the duplicate values by the for loop and condition statements\n",
    "    for i in arr:\n",
    "        if arr[i]== arr[i+1]:\n",
    "            contain_duplicate = True\n",
    "            return contain_duplicate\n",
    "        else :\n",
    "            continue \n",
    "    return contain_duplicate\n",
    "#driver code \n",
    "arr = [1, 2, 4, 2, 5, 9]\n",
    "checkduplicate(arr)"
   ]
  },
  {
   "cell_type": "markdown",
   "id": "3db8de8a-92da-495e-b2ec-30942e405561",
   "metadata": {},
   "source": [
    "2. Given an array and an integer k, rotate the array to the right by k steps.\n",
    "arr = [1, 2, 3, 4, 5, 6, 7] k = 3\n",
    "Output = [5, 6, 7, 1, 2, 3, 4] "
   ]
  },
  {
   "cell_type": "code",
   "execution_count": 2,
   "id": "bd97ef12-515b-4104-a950-7a3fc7e7ed14",
   "metadata": {
    "tags": []
   },
   "outputs": [
    {
     "data": {
      "text/plain": [
       "[5, 6, 7, 1, 2, 3, 4]"
      ]
     },
     "execution_count": 2,
     "metadata": {},
     "output_type": "execute_result"
    }
   ],
   "source": [
    "#first we create the function \n",
    "def rotatethe_array(arr,k):\n",
    "#then we finding the length of the arr\n",
    "    k = k%len(arr)\n",
    "    return arr[-k:] + arr[:-k]\n",
    "#driver code \n",
    "arr = [1, 2, 3, 4, 5, 6, 7]\n",
    "k = 3\n",
    "#call the function\n",
    "rotatethe_array(arr,k)\n",
    "\n"
   ]
  },
  {
   "cell_type": "markdown",
   "id": "e98ea4c3-dbb5-4ecd-b71a-8c0cd0bd1491",
   "metadata": {},
   "source": [
    "3. Reverse the given array in-place, means without using any extra data structure.\n",
    "arr = [2, 4, 5, 7, 9, 12]\n",
    "Output = [12, 9, 7, 5, 4, 2]"
   ]
  },
  {
   "cell_type": "code",
   "execution_count": 3,
   "id": "ba1316e5-ef48-4b22-9dd2-e047619b25aa",
   "metadata": {
    "tags": []
   },
   "outputs": [
    {
     "name": "stdout",
     "output_type": "stream",
     "text": [
      "arr [12, 9, 7, 5, 4, 2]\n"
     ]
    }
   ],
   "source": [
    "arr = [2, 4, 5, 7, 9, 12]\n",
    "reverse = arr[::-1]\n",
    "print(\"arr\" ,reverse)"
   ]
  },
  {
   "cell_type": "markdown",
   "id": "7aaac444-284f-4136-9943-2c9d66586e0a",
   "metadata": {},
   "source": [
    "4. Given an array of integers, find the maximum element in an array\n",
    "arr = [10, 5, 20, 8, 15]\n",
    "Output = 20"
   ]
  },
  {
   "cell_type": "code",
   "execution_count": 4,
   "id": "e8206c8c-140a-4d67-839b-ecb2e0483e92",
   "metadata": {
    "tags": []
   },
   "outputs": [
    {
     "name": "stdout",
     "output_type": "stream",
     "text": [
      "20\n"
     ]
    }
   ],
   "source": [
    "#creating the function \n",
    "def find_max(arr):\n",
    "    return max(arr)\n",
    "\n",
    "arr = [10, 5, 20, 8, 15]\n",
    "#creating a another var for the printing purpose\n",
    "output = find_max(arr)\n",
    "print(output) \n",
    "\n"
   ]
  },
  {
   "cell_type": "markdown",
   "id": "88459578-eea8-4e81-8330-363c74287a3c",
   "metadata": {},
   "source": [
    "5. Given a sorted array, remove the duplicate element without using any extra data structure.\n",
    "arr = [1, 1, 2, 2, 2, 3, 3, 4, 4, 4, 5, 5]\n",
    "Output = [1, 2, 3, 4, 5]"
   ]
  },
  {
   "cell_type": "code",
   "execution_count": 5,
   "id": "60e856e3-a59f-41e2-9308-42c93bcfdd68",
   "metadata": {
    "tags": []
   },
   "outputs": [
    {
     "name": "stdout",
     "output_type": "stream",
     "text": [
      "[1, 2, 3, 4, 5]\n"
     ]
    }
   ],
   "source": [
    "#creating the function \n",
    "def remove_duplicates(arr):\n",
    "    i = 0\n",
    "#lets do with for loop and if-else \n",
    "    for j in range(1, len(arr)):\n",
    "        if arr[j] != arr[i]:\n",
    "            i += 1\n",
    "            arr[i] = arr[j]\n",
    "    return arr[:i+1]\n",
    "#drivecode \n",
    "arr = [1, 1, 2, 2, 2, 3, 3, 4, 4, 4, 5, 5]\n",
    "output = remove_duplicates(arr)\n",
    "print(output)  "
   ]
  },
  {
   "cell_type": "code",
   "execution_count": null,
   "id": "aa3282e6-acbc-4972-9349-4a509ee91135",
   "metadata": {},
   "outputs": [],
   "source": []
  }
 ],
 "metadata": {
  "kernelspec": {
   "display_name": "Python 3 (ipykernel)",
   "language": "python",
   "name": "python3"
  },
  "language_info": {
   "codemirror_mode": {
    "name": "ipython",
    "version": 3
   },
   "file_extension": ".py",
   "mimetype": "text/x-python",
   "name": "python",
   "nbconvert_exporter": "python",
   "pygments_lexer": "ipython3",
   "version": "3.11.3"
  }
 },
 "nbformat": 4,
 "nbformat_minor": 5
}
