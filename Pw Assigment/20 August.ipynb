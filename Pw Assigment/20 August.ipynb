{
 "cells": [
  {
   "cell_type": "code",
   "execution_count": 3,
   "id": "7fdb269a-ed41-4690-9ded-529d5cb5f447",
   "metadata": {},
   "outputs": [
    {
     "name": "stdin",
     "output_type": "stream",
     "text": [
      "Enter a string:  this is doing well\n"
     ]
    },
    {
     "name": "stdout",
     "output_type": "stream",
     "text": [
      "Reversed string: llew gniod si siht\n"
     ]
    }
   ],
   "source": [
    "#Question 1 \n",
    "input_string = input(\"Enter a string: \")\n",
    "reversed_string = input_string[::-1]\n",
    "print(\"Reversed string:\", reversed_string)\n"
   ]
  },
  {
   "cell_type": "code",
   "execution_count": 4,
   "id": "b0f37ef0-1284-41c4-bb24-f66469c4d34b",
   "metadata": {},
   "outputs": [
    {
     "name": "stdin",
     "output_type": "stream",
     "text": [
      "Enter a string:  this doing well\n"
     ]
    },
    {
     "name": "stdout",
     "output_type": "stream",
     "text": [
      "The input string is not a palindrome.\n"
     ]
    }
   ],
   "source": [
    "#Question 2\n",
    "user_input = input(\"Enter a string: \")\n",
    "user_input = user_input.lower()  # Convert to lowercase for case-insensitivity\n",
    "\n",
    "is_palindrome = all(user_input[i] == user_input[len(user_input) - i - 1] for i in range(len(user_input) // 2))\n",
    "\n",
    "result = \"palindrome\" if is_palindrome else \"not a palindrome\"\n",
    "print(f\"The input string is {result}.\")"
   ]
  },
  {
   "cell_type": "code",
   "execution_count": 7,
   "id": "7ec196c4-4371-4d44-b7d4-15c758c3d009",
   "metadata": {},
   "outputs": [
    {
     "name": "stdout",
     "output_type": "stream",
     "text": [
      "Uppercase string: THIS IS DOING WELL\n"
     ]
    }
   ],
   "source": [
    "# Questions 3\n",
    "uppercase_string = input_string.upper()\n",
    "print(\"Uppercase string:\", uppercase_string)"
   ]
  },
  {
   "cell_type": "code",
   "execution_count": 8,
   "id": "83ecd60e-4a76-4c0b-ac1f-287c16b0b9d5",
   "metadata": {},
   "outputs": [
    {
     "name": "stdout",
     "output_type": "stream",
     "text": [
      "lowercase string: this is doing well\n"
     ]
    }
   ],
   "source": [
    "# Questions 4\n",
    "lowercase_string = input_string.lower()\n",
    "print(\"lowercase string:\", lowercase_string)"
   ]
  },
  {
   "cell_type": "code",
   "execution_count": 9,
   "id": "eb3a80ca-1bb8-4a1b-976c-a5c39964061a",
   "metadata": {},
   "outputs": [
    {
     "name": "stdin",
     "output_type": "stream",
     "text": [
      "Enter the sentences : hey this is me\n"
     ]
    },
    {
     "name": "stdout",
     "output_type": "stream",
     "text": [
      "Number of vowel 4\n"
     ]
    }
   ],
   "source": [
    "# Questions 5\n",
    "sentence = input(\"Enter the sentences :\")\n",
    "vowel_count = sentence.lower().count(\"a\") + sentence.lower().count(\"e\") + sentence.lower().count(\"i\") + sentence.lower().count(\"o\") + sentence.lower().count(\"u\")\n",
    "print(\"Number of vowel\" , vowel_count)"
   ]
  },
  {
   "cell_type": "code",
   "execution_count": 10,
   "id": "bd24e69c-4231-45ea-8946-d0dfc1d0653c",
   "metadata": {},
   "outputs": [
    {
     "name": "stdin",
     "output_type": "stream",
     "text": [
      "Enter a string:  hi this function\n"
     ]
    },
    {
     "name": "stdout",
     "output_type": "stream",
     "text": [
      "Number of consonants: 9\n"
     ]
    }
   ],
   "source": [
    "# Questions 6\n",
    "input_string = input(\"Enter a string: \")\n",
    "consonant_count = sum(1 for char in input_string if char.isalpha() and char.lower() not in 'aeiou')\n",
    "print(\"Number of consonants:\", consonant_count)\n"
   ]
  },
  {
   "cell_type": "code",
   "execution_count": 12,
   "id": "125fb913-6525-4c59-bf8d-e14ff5565f2e",
   "metadata": {},
   "outputs": [
    {
     "name": "stdin",
     "output_type": "stream",
     "text": [
      "Enter a string:  this is grap\n"
     ]
    },
    {
     "name": "stdout",
     "output_type": "stream",
     "text": [
      "modified_string: thisisgrap\n"
     ]
    }
   ],
   "source": [
    "# Questions 7\n",
    "user_input = input(\"Enter a string: \")\n",
    "modified_string = user_input.replace(\" \", \"\")\n",
    "print(\"modified_string:\",modified_string)"
   ]
  },
  {
   "cell_type": "code",
   "execution_count": 13,
   "id": "a9acb025-d483-46ab-b206-2c8abbd040fc",
   "metadata": {},
   "outputs": [
    {
     "name": "stdin",
     "output_type": "stream",
     "text": [
      "Enter a string:  this is funny\n"
     ]
    },
    {
     "name": "stdout",
     "output_type": "stream",
     "text": [
      "Length of the string: 13\n"
     ]
    }
   ],
   "source": [
    "# Questions 8\n",
    "input_string = input(\"Enter a string: \")\n",
    "length = sum(1 for _ in iter(input_string))\n",
    "print(\"Length of the string:\", length)\n"
   ]
  },
  {
   "cell_type": "code",
   "execution_count": 14,
   "id": "c6634aac-300c-430a-b59e-86d39161db79",
   "metadata": {},
   "outputs": [
    {
     "name": "stdin",
     "output_type": "stream",
     "text": [
      "Enter a string:  hi this is me \n",
      "Enter the specific word:  34\n"
     ]
    },
    {
     "name": "stdout",
     "output_type": "stream",
     "text": [
      "The string does not contain the specific word.\n"
     ]
    }
   ],
   "source": [
    "# Questions 9\n",
    "input_string = input(\"Enter a string: \")\n",
    "specific_word = input(\"Enter the specific word: \")\n",
    "\n",
    "print(\"The string contains the specific word.\" if specific_word in input_string else \"The string does not contain the specific word.\")\n"
   ]
  },
  {
   "cell_type": "code",
   "execution_count": 15,
   "id": "ae162419-07d1-4334-a63e-d0927c7fd850",
   "metadata": {},
   "outputs": [
    {
     "name": "stdin",
     "output_type": "stream",
     "text": [
      "Enter a string:  thus the game \n",
      "Enter the word to replace:  thus\n",
      "Enter the new word:  this\n"
     ]
    },
    {
     "name": "stdout",
     "output_type": "stream",
     "text": [
      "Modified string: this the game \n"
     ]
    }
   ],
   "source": [
    "# Questions 10\n",
    "input_string = input(\"Enter a string: \")\n",
    "old_word = input(\"Enter the word to replace: \")\n",
    "new_word = input(\"Enter the new word: \")\n",
    "\n",
    "new_string = input_string.replace(old_word, new_word)\n",
    "print(\"Modified string:\", new_string)\n"
   ]
  },
  {
   "cell_type": "code",
   "execution_count": 16,
   "id": "b100cf21-5546-4b65-ae78-a5f8365ce5e9",
   "metadata": {},
   "outputs": [
    {
     "name": "stdin",
     "output_type": "stream",
     "text": [
      "Enter a string:  this is honey\n",
      "Enter the word to count:  8\n"
     ]
    },
    {
     "name": "stdout",
     "output_type": "stream",
     "text": [
      "Occurrences of the word: 0\n"
     ]
    }
   ],
   "source": [
    "# Questions 11\n",
    "input_string = input(\"Enter a string: \")\n",
    "word_to_count = input(\"Enter the word to count: \")\n",
    "\n",
    "print(\"Occurrences of the word:\", input_string.count(word_to_count))\n"
   ]
  },
  {
   "cell_type": "code",
   "execution_count": 17,
   "id": "a41b9716-3c0e-4183-b8b1-dc37fb8a76c6",
   "metadata": {},
   "outputs": [
    {
     "name": "stdin",
     "output_type": "stream",
     "text": [
      "Enter a string:  this is fund\n",
      "Enter the word to find:  is\n"
     ]
    },
    {
     "name": "stdout",
     "output_type": "stream",
     "text": [
      "First occurrence at index: 2\n"
     ]
    }
   ],
   "source": [
    "# Questions 12\n",
    "input_string = input(\"Enter a string: \")\n",
    "word_to_find = input(\"Enter the word to find: \")\n",
    "\n",
    "index = input_string.find(word_to_find)\n",
    "print(\"First occurrence at index:\", index) if index != -1 else print(\"Word not found in the string.\")\n"
   ]
  },
  {
   "cell_type": "code",
   "execution_count": 18,
   "id": "a025f057-f372-4ffd-9496-e8d8abebf178",
   "metadata": {},
   "outputs": [
    {
     "name": "stdin",
     "output_type": "stream",
     "text": [
      "Enter a string:  to the me \n",
      "Enter the word to find:  me\n"
     ]
    },
    {
     "name": "stdout",
     "output_type": "stream",
     "text": [
      "Last occurrence at index: 7\n"
     ]
    }
   ],
   "source": [
    "# Questions 13\n",
    "input_string = input(\"Enter a string: \")\n",
    "word_to_find = input(\"Enter the word to find: \")\n",
    "\n",
    "index = input_string.rfind(word_to_find)\n",
    "print(\"Last occurrence at index:\", index) if index != -1 else print(\"Word not found in the string.\")\n"
   ]
  },
  {
   "cell_type": "code",
   "execution_count": 19,
   "id": "75984387-61c6-4616-8fee-d3a70719111e",
   "metadata": {},
   "outputs": [
    {
     "name": "stdin",
     "output_type": "stream",
     "text": [
      "Enter a string:  function \n"
     ]
    },
    {
     "name": "stdout",
     "output_type": "stream",
     "text": [
      "List of words: ['function']\n"
     ]
    }
   ],
   "source": [
    "# Questions 14\n",
    "input_string = input(\"Enter a string: \")\n",
    "word_list = input_string.split()\n",
    "print(\"List of words:\", word_list)\n"
   ]
  },
  {
   "cell_type": "code",
   "execution_count": 20,
   "id": "454349fa-7ea7-4698-b809-071886821778",
   "metadata": {},
   "outputs": [
    {
     "name": "stdin",
     "output_type": "stream",
     "text": [
      "Enter a list of words (separated by spaces):  hey grade me \n"
     ]
    },
    {
     "name": "stdout",
     "output_type": "stream",
     "text": [
      "Joined string: hey grade me\n"
     ]
    }
   ],
   "source": [
    "# Questions 15\n",
    "word_list = input(\"Enter a list of words (separated by spaces): \").split()\n",
    "joined_string = ' '.join(word_list)\n",
    "print(\"Joined string:\", joined_string)\n"
   ]
  },
  {
   "cell_type": "code",
   "execution_count": 21,
   "id": "0b109ab7-72f7-4b38-8c29-d550693537d0",
   "metadata": {},
   "outputs": [
    {
     "name": "stdin",
     "output_type": "stream",
     "text": [
      "Enter a string with spaces:  this is F\n"
     ]
    },
    {
     "name": "stdout",
     "output_type": "stream",
     "text": [
      "String with underscores: this_is_F\n"
     ]
    }
   ],
   "source": [
    "# Questions 16\n",
    "input_string = input(\"Enter a string with spaces: \")\n",
    "underscored_string = input_string.replace(\" \", \"_\")\n",
    "print(\"String with underscores:\", underscored_string)\n"
   ]
  },
  {
   "cell_type": "code",
   "execution_count": 22,
   "id": "37211ed1-8054-4a36-a065-4accc1d0c42c",
   "metadata": {},
   "outputs": [
    {
     "name": "stdin",
     "output_type": "stream",
     "text": [
      "Enter a string:  this is g \n",
      "Enter the specific word or phrase:  @\n"
     ]
    },
    {
     "name": "stdout",
     "output_type": "stream",
     "text": [
      "String does not start with the specific word.\n"
     ]
    }
   ],
   "source": [
    "# Questions 17\n",
    "input_string = input(\"Enter a string: \")\n",
    "specific_word = input(\"Enter the specific word or phrase: \")\n",
    "\n",
    "print(\"String starts with the specific word.\" if input_string.startswith(specific_word) else \"String does not start with the specific word.\")\n"
   ]
  },
  {
   "cell_type": "code",
   "execution_count": 23,
   "id": "15a1e980-1834-46fa-856f-2682ce745001",
   "metadata": {},
   "outputs": [
    {
     "name": "stdin",
     "output_type": "stream",
     "text": [
      "Enter a string:  thid id \n",
      "Enter the specific word or phrase:  4\n"
     ]
    },
    {
     "name": "stdout",
     "output_type": "stream",
     "text": [
      "String does not end with the specific word.\n"
     ]
    }
   ],
   "source": [
    "# Questions 18\n",
    "input_string = input(\"Enter a string: \")\n",
    "specific_word = input(\"Enter the specific word or phrase: \")\n",
    "\n",
    "print(\"String ends with the specific word.\" if input_string.endswith(specific_word) else \"String does not end with the specific word.\")\n"
   ]
  },
  {
   "cell_type": "code",
   "execution_count": 24,
   "id": "83e306bb-3ec9-4096-ba8e-66e9da6cbc96",
   "metadata": {},
   "outputs": [
    {
     "name": "stdin",
     "output_type": "stream",
     "text": [
      "Enter a string:  this id has command\n"
     ]
    },
    {
     "name": "stdout",
     "output_type": "stream",
     "text": [
      "Title case string: This Id Has Command\n"
     ]
    }
   ],
   "source": [
    "# Questions 19\n",
    "input_string = input(\"Enter a string: \")\n",
    "title_case_string = input_string.title()\n",
    "print(\"Title case string:\", title_case_string)\n"
   ]
  },
  {
   "cell_type": "code",
   "execution_count": 25,
   "id": "f98c3014-67dc-4a90-aa65-7d99c1bee3ee",
   "metadata": {},
   "outputs": [
    {
     "name": "stdin",
     "output_type": "stream",
     "text": [
      "Enter a string:  Rajat sharma\n"
     ]
    },
    {
     "name": "stdout",
     "output_type": "stream",
     "text": [
      "Longest word: sharma\n"
     ]
    }
   ],
   "source": [
    "# Questions 20\n",
    "input_string = input(\"Enter a string: \")\n",
    "words = input_string.split()\n",
    "longest_word = max(words, key=len)\n",
    "print(\"Longest word:\", longest_word)\n"
   ]
  },
  {
   "cell_type": "code",
   "execution_count": 27,
   "id": "4be59f94-63e8-4f12-8487-e8175802be1d",
   "metadata": {},
   "outputs": [
    {
     "name": "stdin",
     "output_type": "stream",
     "text": [
      "Enter a string:  this is rajat\n"
     ]
    },
    {
     "name": "stdout",
     "output_type": "stream",
     "text": [
      "Shortest word: is\n"
     ]
    }
   ],
   "source": [
    "#Questions 21\n",
    "input_string = input(\"Enter a string: \")\n",
    "words = input_string.split()\n",
    "shortest_word = min(words, key=len)\n",
    "print(\"Shortest word:\", shortest_word)\n",
    " "
   ]
  },
  {
   "cell_type": "code",
   "execution_count": 28,
   "id": "02e212a0-c1c2-404c-9b7b-9a97dc7ce30a",
   "metadata": {},
   "outputs": [
    {
     "name": "stdin",
     "output_type": "stream",
     "text": [
      "Enter a string:  has been it \n"
     ]
    },
    {
     "name": "stdout",
     "output_type": "stream",
     "text": [
      "Reversed words: it been has\n"
     ]
    }
   ],
   "source": [
    "#Questions 22\n",
    "input_string = input(\"Enter a string: \")\n",
    "reversed_words = ' '.join(input_string.split()[::-1])\n",
    "print(\"Reversed words:\", reversed_words)\n"
   ]
  },
  {
   "cell_type": "code",
   "execution_count": 29,
   "id": "c39a627b-56e5-48de-a74b-870194d3d969",
   "metadata": {},
   "outputs": [
    {
     "name": "stdin",
     "output_type": "stream",
     "text": [
      "Enter a string:  this is num\n"
     ]
    },
    {
     "name": "stdout",
     "output_type": "stream",
     "text": [
      "String is not alphanumeric.\n"
     ]
    }
   ],
   "source": [
    "#Questions 23\n",
    "input_string = input(\"Enter a string: \")\n",
    "print(\"String is alphanumeric.\" if input_string.isalnum() else \"String is not alphanumeric.\")\n"
   ]
  },
  {
   "cell_type": "code",
   "execution_count": 30,
   "id": "e8e96393-9618-4531-8462-8e2e0b7b57bc",
   "metadata": {},
   "outputs": [
    {
     "name": "stdin",
     "output_type": "stream",
     "text": [
      "Enter a string:  this is and \n"
     ]
    },
    {
     "name": "stdout",
     "output_type": "stream",
     "text": [
      "Extracted digits: \n"
     ]
    }
   ],
   "source": [
    "#Questions 24\n",
    "input_string = input(\"Enter a string: \")\n",
    "digits = ''.join(filter(str.isdigit, input_string))\n",
    "print(\"Extracted digits:\", digits)\n"
   ]
  },
  {
   "cell_type": "code",
   "execution_count": 31,
   "id": "41a7eb48-4423-4ec5-8b67-c36fe2ddd420",
   "metadata": {},
   "outputs": [
    {
     "name": "stdin",
     "output_type": "stream",
     "text": [
      "Enter a string:  this could us \n"
     ]
    },
    {
     "name": "stdout",
     "output_type": "stream",
     "text": [
      "Extracted alphabets: thiscouldus\n"
     ]
    }
   ],
   "source": [
    "#Questions 25\n",
    "input_string = input(\"Enter a string: \")\n",
    "alphabets = ''.join(filter(str.isalpha, input_string))\n",
    "print(\"Extracted alphabets:\", alphabets)\n",
    "\n"
   ]
  },
  {
   "cell_type": "code",
   "execution_count": 32,
   "id": "5d3bb7bc-da9d-46cc-a3de-126a75d1aa99",
   "metadata": {},
   "outputs": [
    {
     "name": "stdin",
     "output_type": "stream",
     "text": [
      "Enter a string:  this is been \n"
     ]
    },
    {
     "name": "stdout",
     "output_type": "stream",
     "text": [
      "Number of uppercase letters: 0\n"
     ]
    }
   ],
   "source": [
    "#Questions 26\n",
    "input_string = input(\"Enter a string: \")\n",
    "uppercase_count = sum(1 for char in input_string if char.isupper())\n",
    "print(\"Number of uppercase letters:\", uppercase_count)\n"
   ]
  },
  {
   "cell_type": "code",
   "execution_count": 33,
   "id": "b4cc6b83-0dca-448f-8b81-537a8513bdab",
   "metadata": {},
   "outputs": [
    {
     "name": "stdin",
     "output_type": "stream",
     "text": [
      "Enter a string:  This num strign\n"
     ]
    },
    {
     "name": "stdout",
     "output_type": "stream",
     "text": [
      "Number of lowercase letters: 12\n"
     ]
    }
   ],
   "source": [
    "#Questions 27\n",
    "input_string = input(\"Enter a string: \")\n",
    "lowercase_count = sum(1 for char in input_string if char.islower())\n",
    "print(\"Number of lowercase letters:\", lowercase_count)\n"
   ]
  },
  {
   "cell_type": "code",
   "execution_count": 34,
   "id": "5ddeabba-c9a7-4526-bd51-4089439f28b2",
   "metadata": {},
   "outputs": [
    {
     "name": "stdin",
     "output_type": "stream",
     "text": [
      "Enter a string:  this is grape\n"
     ]
    },
    {
     "name": "stdout",
     "output_type": "stream",
     "text": [
      "Swapped case string: THIS IS GRAPE\n"
     ]
    }
   ],
   "source": [
    "#Questions 28\n",
    "input_string = input(\"Enter a string: \")\n",
    "swapped_case_string = input_string.swapcase()\n",
    "print(\"Swapped case string:\", swapped_case_string)\n"
   ]
  },
  {
   "cell_type": "code",
   "execution_count": 35,
   "id": "1bc5f9d3-9af6-4d1b-b96e-d25573bb5b72",
   "metadata": {},
   "outputs": [
    {
     "name": "stdin",
     "output_type": "stream",
     "text": [
      "Enter a string:  functionn has been \n",
      "Enter the word to remove:  has\n"
     ]
    },
    {
     "name": "stdout",
     "output_type": "stream",
     "text": [
      "String after removal: functionn  been \n"
     ]
    }
   ],
   "source": [
    "#Questions 29\n",
    "input_string = input(\"Enter a string: \")\n",
    "word_to_remove = input(\"Enter the word to remove: \")\n",
    "new_string = input_string.replace(word_to_remove, \"\")\n",
    "print(\"String after removal:\", new_string)\n"
   ]
  },
  {
   "cell_type": "code",
   "execution_count": 36,
   "id": "bac00d52-bef1-4167-a126-b27d970c9303",
   "metadata": {},
   "outputs": [
    {
     "name": "stdin",
     "output_type": "stream",
     "text": [
      "Enter an email address:  abhhi68768@gmail.com\n"
     ]
    },
    {
     "name": "stdout",
     "output_type": "stream",
     "text": [
      "Valid email address.\n"
     ]
    }
   ],
   "source": [
    "#Questions 30\n",
    "import re\n",
    "\n",
    "email = input(\"Enter an email address: \")\n",
    "is_valid = re.match(r'^[a-zA-Z0-9._%+-]+@[a-zA-Z0-9.-]+\\.[a-zA-Z]{2,}$', email)\n",
    "\n",
    "if is_valid:\n",
    "    print(\"Valid email address.\")\n",
    "else:\n",
    "    print(\"Invalid email address.\")\n"
   ]
  },
  {
   "cell_type": "code",
   "execution_count": null,
   "id": "dfa37648-df46-426d-8033-b17cc58b24dc",
   "metadata": {},
   "outputs": [],
   "source": []
  }
 ],
 "metadata": {
  "kernelspec": {
   "display_name": "Python 3 (ipykernel)",
   "language": "python",
   "name": "python3"
  },
  "language_info": {
   "codemirror_mode": {
    "name": "ipython",
    "version": 3
   },
   "file_extension": ".py",
   "mimetype": "text/x-python",
   "name": "python",
   "nbconvert_exporter": "python",
   "pygments_lexer": "ipython3",
   "version": "3.10.8"
  }
 },
 "nbformat": 4,
 "nbformat_minor": 5
}
