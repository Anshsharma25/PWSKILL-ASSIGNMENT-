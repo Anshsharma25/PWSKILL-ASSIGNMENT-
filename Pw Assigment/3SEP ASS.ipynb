{
 "cells": [
  {
   "cell_type": "markdown",
   "id": "48ac7100-60c5-476f-886d-56cad30a7e6c",
   "metadata": {},
   "source": [
    "basic if-else"
   ]
  },
  {
   "cell_type": "code",
   "execution_count": 1,
   "id": "9d1477f0-2a26-4ede-852b-1f5a87df39fe",
   "metadata": {},
   "outputs": [
    {
     "name": "stdin",
     "output_type": "stream",
     "text": [
      "enter the number 54\n"
     ]
    },
    {
     "name": "stdout",
     "output_type": "stream",
     "text": [
      "it is positive\n"
     ]
    }
   ],
   "source": [
    "#question 1 :  Write a Python program to check if a given number is positive or negative.\n",
    "a = int(input(\"enter the number\"))\n",
    "if a > 0:\n",
    "    print(\"it is positive\")\n",
    "else:\n",
    "    print(\"it is negative\") \n"
   ]
  },
  {
   "cell_type": "code",
   "execution_count": 2,
   "id": "addc972b-7aa1-4efe-a239-a8c67a6484a8",
   "metadata": {},
   "outputs": [
    {
     "name": "stdin",
     "output_type": "stream",
     "text": [
      "enter the number 19\n"
     ]
    },
    {
     "name": "stdout",
     "output_type": "stream",
     "text": [
      "It is eligible to vote\n"
     ]
    }
   ],
   "source": [
    "#question 2 Create a program that determines if a person is eligible to vote based on their age.\n",
    "age = int(input(\"enter the number\"))\n",
    "if age >= 18:\n",
    "        print(\"It is eligible to vote\")\n",
    "else:\n",
    "    print(\"it is not eligible for vote\")"
   ]
  },
  {
   "cell_type": "code",
   "execution_count": 3,
   "id": "8decd2bb-137a-4439-9e28-93a39113d4ea",
   "metadata": {},
   "outputs": [
    {
     "name": "stdin",
     "output_type": "stream",
     "text": [
      "enter the number-1 54\n",
      "enter the number-2 87\n"
     ]
    },
    {
     "name": "stdout",
     "output_type": "stream",
     "text": [
      "num2 is greater\n"
     ]
    }
   ],
   "source": [
    "#question 3. Develop a program to find the maximum of two numbers using if-else statements.\n",
    "num1 = int(input(\"enter the number-1\"))\n",
    "num2 = int(input(\"enter the number-2\"))\n",
    "\n",
    "if (num1>num2):\n",
    "    print(\"num1 is greater\")\n",
    "elif (num1 < num2):\n",
    "    print(\"num2 is greater\")\n",
    "else:\n",
    "    print(\"both are equal\")"
   ]
  },
  {
   "cell_type": "code",
   "execution_count": 4,
   "id": "e5ae65dd-17f4-4dc4-9275-c334478f5b9a",
   "metadata": {},
   "outputs": [
    {
     "name": "stdin",
     "output_type": "stream",
     "text": [
      "enter the year 2024\n"
     ]
    },
    {
     "name": "stdout",
     "output_type": "stream",
     "text": [
      "2024 is a leap year\n"
     ]
    }
   ],
   "source": [
    "#question 4. Write a Python script to classify a given year as a leap year or not.\n",
    "year = int(input(\"enter the year\"))\n",
    "\n",
    "if (year % 400 == 0) and (year % 100 == 0):\n",
    "    print(\"{0} is a leap year\".format(year))\n",
    "elif (year % 4 ==0) and (year % 100 != 0):\n",
    "    print(\"{0} is a leap year\".format(year))\n",
    "else:\n",
    "    print(\"{0} is not a leap year\".format(year))"
   ]
  },
  {
   "cell_type": "code",
   "execution_count": 5,
   "id": "d3f6781f-382b-4143-9c17-f5191352a73d",
   "metadata": {},
   "outputs": [
    {
     "name": "stdin",
     "output_type": "stream",
     "text": [
      "Enter a character:  he\n"
     ]
    },
    {
     "name": "stdout",
     "output_type": "stream",
     "text": [
      "do not contain vowels\n"
     ]
    }
   ],
   "source": [
    "#question 5. Create a program that checks whether a character is a vowel or a consonant.\n",
    "char = input(\"Enter a character: \")\n",
    "if len(char) == 1:\n",
    "    char = char.lower()\n",
    "if  char in \"aeiou\":\n",
    "    print(\"it having vowel\")\n",
    "else :\n",
    "    print(\"do not contain vowels\")\n",
    " "
   ]
  },
  {
   "cell_type": "code",
   "execution_count": 6,
   "id": "25db7cee-6cf6-4a4c-b61b-d2f359e42181",
   "metadata": {},
   "outputs": [
    {
     "name": "stdin",
     "output_type": "stream",
     "text": [
      "Enter the number 7\n"
     ]
    },
    {
     "name": "stdout",
     "output_type": "stream",
     "text": [
      "It is odd\n"
     ]
    }
   ],
   "source": [
    "#question 6. Implement a program to determine whether a given number is even or odd.\n",
    "number = int(input(\"Enter the number\"))\n",
    "if number % 2==0:\n",
    "    print(\"it is even\")\n",
    "else:\n",
    "    print(\"It is odd\")"
   ]
  },
  {
   "cell_type": "code",
   "execution_count": 7,
   "id": "68ed71c2-d4bf-40a7-9297-1c6daf27e78e",
   "metadata": {},
   "outputs": [
    {
     "name": "stdout",
     "output_type": "stream",
     "text": [
      "The absolute value of -5 is 5\n"
     ]
    }
   ],
   "source": [
    "#Question 7. Write a Python function to calculate the absolute value of a number without using the `abs()` function.\n",
    "def calculate_absolute_value(number):\n",
    "    if number < 0:\n",
    "        return -number\n",
    "    else:\n",
    "        return number\n",
    "\n",
    "# Example usage:\n",
    "num = -5\n",
    "absolute_num = calculate_absolute_value(num)\n",
    "print(f\"The absolute value of {num} is {absolute_num}\")\n"
   ]
  },
  {
   "cell_type": "code",
   "execution_count": 8,
   "id": "824edd38-b6bb-4c54-93d5-7049c34fefcb",
   "metadata": {},
   "outputs": [
    {
     "name": "stdin",
     "output_type": "stream",
     "text": [
      "Enter the first number:  2\n",
      "Enter the second number:  87\n",
      "Enter the third number:  23\n"
     ]
    },
    {
     "name": "stdout",
     "output_type": "stream",
     "text": [
      "largest is num2\n"
     ]
    }
   ],
   "source": [
    "#question 8. Develop a program that determines the largest of three given numbers using if-else statements.\n",
    "num1 = int(input(\"Enter the first number: \"))\n",
    "num2 = int(input(\"Enter the second number: \"))\n",
    "num3 = int(input(\"Enter the third number: \"))\n",
    "\n",
    "if num1 >= num2 and num1 >= num3:\n",
    "    print(\"largest is num1\")\n",
    "elif num2 >= num1 and num2 >= num3:\n",
    "     print(\"largest is num2\")\n",
    "else:\n",
    "    print(\"largest is num3\")\n"
   ]
  },
  {
   "cell_type": "code",
   "execution_count": 9,
   "id": "c5875b86-0d34-42b2-a894-1ec08acee42e",
   "metadata": {},
   "outputs": [
    {
     "name": "stdin",
     "output_type": "stream",
     "text": [
      "Enter a string:  bul\n"
     ]
    },
    {
     "name": "stdout",
     "output_type": "stream",
     "text": [
      "'bul' is not a palindrome.\n"
     ]
    }
   ],
   "source": [
    "# question 9. Create a program that checks if a given string is a palindrome.\n",
    "def is_palindrome(input_str):\n",
    "    input_str = input_str.replace(\" \", \"\").lower()\n",
    "    return input_str == input_str[::-1]\n",
    "user_input = input(\"Enter a string: \")\n",
    "if is_palindrome(user_input):\n",
    "    print(f\"'{user_input}' is a palindrome.\")\n",
    "else:\n",
    "    print(f\"'{user_input}' is not a palindrome.\")\n"
   ]
  },
  {
   "cell_type": "code",
   "execution_count": 10,
   "id": "e76d77b3-3910-4f79-a50a-45e8ef2bad47",
   "metadata": {},
   "outputs": [
    {
     "name": "stdin",
     "output_type": "stream",
     "text": [
      "Enter the student's score:  45\n"
     ]
    },
    {
     "name": "stdout",
     "output_type": "stream",
     "text": [
      "The student's grade is F\n"
     ]
    }
   ],
   "source": [
    "#question 10. Write a Python program to calculate the grade based on a student's score.\n",
    "score = float(input(\"Enter the student's score: \"))\n",
    "\n",
    "if score >= 90:\n",
    "    grade = 'A'\n",
    "elif score >= 80:\n",
    "    grade = 'B'\n",
    "elif score >= 70:\n",
    "    grade = 'C'\n",
    "elif score >= 60:\n",
    "    grade = 'D'\n",
    "else:\n",
    "    grade = 'F'\n",
    "print(f\"The student's grade is {grade}\")\n"
   ]
  },
  {
   "cell_type": "markdown",
   "id": "e5c9bf8f-9f0a-4ab0-a498-ed6a17dfec17",
   "metadata": {},
   "source": [
    "Nested If-Else Statements:"
   ]
  },
  {
   "cell_type": "code",
   "execution_count": 1,
   "id": "008c1340-b040-4de6-ad15-89983f132326",
   "metadata": {},
   "outputs": [
    {
     "name": "stdin",
     "output_type": "stream",
     "text": [
      "Enter the first number:  76\n",
      "Enter the second number:  56\n",
      "Enter the third number:  90\n"
     ]
    },
    {
     "name": "stdout",
     "output_type": "stream",
     "text": [
      "largest is num3\n"
     ]
    }
   ],
   "source": [
    "#question 11. Write a program to find the largest among three numbers using nested if-else statements.\n",
    "num1 = int(input(\"Enter the first number: \"))\n",
    "num2 = int(input(\"Enter the second number: \"))\n",
    "num3 = int(input(\"Enter the third number: \"))\n",
    "\n",
    "if num1 >= num2 and num1 >= num3:\n",
    "    print(\"largest is num1\")\n",
    "elif num2 >= num1 and num2 >= num3:\n",
    "     print(\"largest is num2\")\n",
    "else:\n",
    "    print(\"largest is num3\")\n"
   ]
  },
  {
   "cell_type": "code",
   "execution_count": 7,
   "id": "27672b30-f7db-460a-8698-bcb26fc1f024",
   "metadata": {},
   "outputs": [
    {
     "name": "stdin",
     "output_type": "stream",
     "text": [
      "Enter the first side:  3\n",
      "Enter the second side:  3\n",
      "Enter the third side:  3\n"
     ]
    },
    {
     "name": "stdout",
     "output_type": "stream",
     "text": [
      "it is a equilateral triangle\n"
     ]
    }
   ],
   "source": [
    "#question 12. Implement a program to determine if a triangle is equilateral, isosceles, or scalene.\n",
    "side1 = int(input(\"Enter the first side: \"))\n",
    "side2= int(input(\"Enter the second side: \"))\n",
    "side3 = int(input(\"Enter the third side: \"))\n",
    "\n",
    "if side1 == side2 == side3:\n",
    "    print(\"it is a equilateral triangle\")\n",
    "elif  side1 == side2 or side2 == side3 or side1 == side3:\n",
    "    print(\"it is a isosceles triangle\")\n",
    "else:\n",
    "    print(\"it is a scalene triangle\")\n"
   ]
  },
  {
   "cell_type": "code",
   "execution_count": 8,
   "id": "eee5420f-ab18-4be4-adb4-be0121603979",
   "metadata": {},
   "outputs": [
    {
     "name": "stdin",
     "output_type": "stream",
     "text": [
      "enter the year 2016\n"
     ]
    },
    {
     "name": "stdout",
     "output_type": "stream",
     "text": [
      "2016 is a leap year\n"
     ]
    }
   ],
   "source": [
    "#question 13. Develop a program that checks if a year is a leap year and also if it is a century year.\n",
    "year = int(input(\"enter the year\"))\n",
    "\n",
    "if (year % 400 == 0) and (year % 100 == 0):\n",
    "    print(\"{0} is a leap year\".format(year))\n",
    "elif (year % 4 ==0) and (year % 100 != 0):\n",
    "    print(\"{0} is a leap year\".format(year))\n",
    "else:\n",
    "    print(\"{0} is not a leap year\".format(year))"
   ]
  },
  {
   "cell_type": "code",
   "execution_count": 10,
   "id": "63d8034f-9b0f-49f6-8554-d75fcd260415",
   "metadata": {},
   "outputs": [
    {
     "name": "stdin",
     "output_type": "stream",
     "text": [
      "enter the number 23\n"
     ]
    },
    {
     "name": "stdout",
     "output_type": "stream",
     "text": [
      "it is positive\n"
     ]
    }
   ],
   "source": [
    "#question 14. Write a Python script to determine if a number is positive, negative, or zero.\n",
    "a = int(input(\"enter the number\"))\n",
    "if a > 0:\n",
    "    print(\"it is positive\")\n",
    "else:\n",
    "    print(\"it is negative\") "
   ]
  },
  {
   "cell_type": "code",
   "execution_count": 16,
   "id": "f1fa8530-4ddd-469b-9053-10183b295562",
   "metadata": {},
   "outputs": [
    {
     "name": "stdin",
     "output_type": "stream",
     "text": [
      "enter the age 20\n"
     ]
    },
    {
     "name": "stdout",
     "output_type": "stream",
     "text": [
      "it not a teenager\n"
     ]
    }
   ],
   "source": [
    "#question 15. Create a program to check if a person is a teenager (between 13 and 19 years old).\n",
    "age = int(input(\"enter the age\"))\n",
    "if 13 <= age <= 19:\n",
    "    print(\"person is teenager\")\n",
    "#elif age >18:\n",
    "  #  print(\"person is adult\")\n",
    "else:\n",
    "    print(\"it not a teenager\")"
   ]
  },
  {
   "cell_type": "code",
   "execution_count": 17,
   "id": "f7be7dec-4da8-44f4-8551-66503c153f8b",
   "metadata": {},
   "outputs": [
    {
     "name": "stdin",
     "output_type": "stream",
     "text": [
      "Enter the angle measure in degrees:  56\n"
     ]
    },
    {
     "name": "stdout",
     "output_type": "stream",
     "text": [
      "The angle is acute.\n"
     ]
    }
   ],
   "source": [
    "#question 16.Develop a program that determines the type of angle based on its measure (acute, obtuse, or right).\n",
    "angle = float(input(\"Enter the angle measure in degrees: \"))\n",
    "\n",
    "if angle < 0 or angle > 180:\n",
    "    print(\"Invalid input. Angle measure must be between 0 and 180 degrees.\")\n",
    "elif angle == 90:\n",
    "    print(\"The angle is a right angle.\")\n",
    "elif angle < 90:\n",
    "    print(\"The angle is acute.\")\n",
    "else:\n",
    "    print(\"The angle is obtuse.\")"
   ]
  },
  {
   "cell_type": "code",
   "execution_count": 18,
   "id": "3f14f2cb-b2e5-479e-a890-464063961ff4",
   "metadata": {},
   "outputs": [
    {
     "name": "stdin",
     "output_type": "stream",
     "text": [
      "Enter the coefficient 'a':  4\n",
      "Enter the coefficient 'b':  5\n",
      "Enter the coefficient 'c':  8\n"
     ]
    },
    {
     "name": "stdout",
     "output_type": "stream",
     "text": [
      "Two complex roots: (-0.625+1.2686114456365274j), (-0.625-1.2686114456365274j)\n"
     ]
    }
   ],
   "source": [
    "#17. Write a Python program to calculate the roots of a quadratic equation.\n",
    "import math\n",
    "a = float(input(\"Enter the coefficient 'a': \"))\n",
    "b = float(input(\"Enter the coefficient 'b': \"))\n",
    "c = float(input(\"Enter the coefficient 'c': \"))\n",
    "\n",
    "discriminant = b**2 - 4*a*c\n",
    "\n",
    "if a == 0:\n",
    "    print(\"Not a quadratic equation (a cannot be zero).\")\n",
    "else:\n",
    "    if discriminant > 0:\n",
    "        print(f\"Two distinct real roots: {(-b + math.sqrt(discriminant)) / (2*a)}, {(-b - math.sqrt(discriminant)) / (2*a)}\")\n",
    "    elif discriminant == 0:\n",
    "        print(f\"One real root: {-b / (2*a)}\")\n",
    "    else:\n",
    "        real_part = -b / (2*a)\n",
    "        imaginary_part = math.sqrt(abs(discriminant)) / (2*a)\n",
    "        print(f\"Two complex roots: {complex(real_part, imaginary_part)}, {complex(real_part, -imaginary_part)}\")\n"
   ]
  },
  {
   "cell_type": "code",
   "execution_count": 22,
   "id": "ec6c492d-a625-4383-959d-c6545640e099",
   "metadata": {},
   "outputs": [
    {
     "name": "stdin",
     "output_type": "stream",
     "text": [
      "enter a number (1 for Monday, 2 for Tuesday, etc.): 5\n"
     ]
    },
    {
     "name": "stdout",
     "output_type": "stream",
     "text": [
      "result of the day with number is : Friday\n"
     ]
    }
   ],
   "source": [
    "#question 18. Implement a program to determine the day of the week based on a user-provided number (1 for Monday, 2 for Tuesday, etc.).\n",
    "day_number = int(input(\"enter a number (1 for Monday, 2 for Tuesday, etc.):\"))\n",
    "if day_number < 1 or day_number > 7:\n",
    "    print(\"enter the number 1 to 7 \")\n",
    "else:\n",
    "    day_of_week = [\"Monday\", \"Tuesday\", \"Wednesday\", \"Thursday\", \"Friday\", \"Saturday\", \"Sunday\"]\n",
    "    day_name = day_of_week[day_number - 1]\n",
    "    print(\"result of the day with number is :\",day_name)"
   ]
  },
  {
   "cell_type": "code",
   "execution_count": 23,
   "id": "47d8d7b3-545e-43ac-b7da-0fbfa70fdb51",
   "metadata": {},
   "outputs": [
    {
     "name": "stdin",
     "output_type": "stream",
     "text": [
      "enter the year 3034\n"
     ]
    },
    {
     "name": "stdout",
     "output_type": "stream",
     "text": [
      "3034 is not a leap year\n"
     ]
    }
   ],
   "source": [
    "#question 19. Create a program that determines if a year is a leap year and also if it is evenly divisible by 400.\n",
    "year = int(input(\"enter the year\"))\n",
    "\n",
    "if (year % 400 == 0) and (year % 100 == 0):\n",
    "    print(\"{0} is a leap year\".format(year))\n",
    "elif (year % 4 ==0) and (year % 100 != 0):\n",
    "    print(\"{0} is a leap year\".format(year))\n",
    "else:\n",
    "    print(\"{0} is not a leap year\".format(year))"
   ]
  },
  {
   "cell_type": "code",
   "execution_count": 27,
   "id": "e90386d8-851a-4c97-9b4f-f1dcd220cdcd",
   "metadata": {},
   "outputs": [
    {
     "name": "stdin",
     "output_type": "stream",
     "text": [
      "enter the number 67\n"
     ]
    },
    {
     "name": "stdout",
     "output_type": "stream",
     "text": [
      "67 is a prime number.\n"
     ]
    }
   ],
   "source": [
    "#question 20. Develop a program that checks if a given number is prime or not using nested if-else statements.\n",
    "num = int(input(\"enter the number\"))\n",
    "if num <= 1:\n",
    "    print(\"The number is not prime.\")\n",
    "else:\n",
    "    is_prime = True \n",
    "\n",
    "    for i in range(2, int(num ** 0.5) + 1):\n",
    "        if num % i == 0:\n",
    "            is_prime = False\n",
    "            break\n",
    "\n",
    "    if is_prime:\n",
    "        print(f\"{num} is a prime number.\")\n",
    "    else:\n",
    "        print(f\"{num} is not a prime number.\")"
   ]
  },
  {
   "cell_type": "markdown",
   "id": "c88b38ff-1ba5-4527-b6d6-0c955e2df5ad",
   "metadata": {},
   "source": [
    "Elif Statements:"
   ]
  },
  {
   "cell_type": "code",
   "execution_count": 28,
   "id": "46c944f9-dcac-43b7-98af-89733d803ff8",
   "metadata": {},
   "outputs": [
    {
     "name": "stdin",
     "output_type": "stream",
     "text": [
      "Enter the student's score:  90\n"
     ]
    },
    {
     "name": "stdout",
     "output_type": "stream",
     "text": [
      "The student's grade is A\n"
     ]
    }
   ],
   "source": [
    "#question 21. Write a Python program to assign grades based on different ranges of scores using elif statements.\n",
    "score = float(input(\"Enter the student's score: \"))\n",
    "\n",
    "if score >= 90:\n",
    "    grade = 'A'\n",
    "elif score >= 80:\n",
    "    grade = 'B'\n",
    "elif score >= 70:\n",
    "    grade = 'C'\n",
    "elif score >= 60:\n",
    "    grade = 'D'\n",
    "else:\n",
    "    grade = 'F'\n",
    "print(f\"The student's grade is {grade}\")"
   ]
  },
  {
   "cell_type": "code",
   "execution_count": 32,
   "id": "3c0a1b13-5f14-4cae-8c2a-1161a0708d04",
   "metadata": {},
   "outputs": [
    {
     "name": "stdin",
     "output_type": "stream",
     "text": [
      "enter the degree 126\n"
     ]
    },
    {
     "name": "stdout",
     "output_type": "stream",
     "text": [
      "it is obuste angle\n"
     ]
    }
   ],
   "source": [
    "#question 22. Implement a program to determine the type of a triangle based on its angles.\n",
    "angle = int(input(\"enter the degree\"))\n",
    "\n",
    "if angle == 90:\n",
    "    print(\"it is righangle triangle\")\n",
    "elif angle < 90:\n",
    "    print(\"it is acute angle\")\n",
    "else:\n",
    "    print(\"it is obuste angle\")\n",
    "    "
   ]
  },
  {
   "cell_type": "code",
   "execution_count": 35,
   "id": "eb9f9e73-0bff-486b-b741-bceab9c3b543",
   "metadata": {},
   "outputs": [
    {
     "name": "stdin",
     "output_type": "stream",
     "text": [
      "Enter your weight in kilograms:  53\n",
      "Enter your height in meters:  173\n"
     ]
    },
    {
     "name": "stdout",
     "output_type": "stream",
     "text": [
      "Your BMI is 0.00, and you are categorized as 'Underweight'.\n"
     ]
    }
   ],
   "source": [
    "#question 23. Develop a program to categorize a given person's BMI into underweight, normal, overweight, or obese using elif statements.\n",
    "\n",
    "weight = float(input(\"Enter your weight in kilograms: \"))\n",
    "height = float(input(\"Enter your height in meters: \"))\n",
    "\n",
    "if weight <= 0 or height <= 0:\n",
    "    print(\"Invalid input. Weight and height must be positive values.\")\n",
    "else:\n",
    "    bmi = weight / (height ** 2)\n",
    "\n",
    "    if bmi < 18.5:\n",
    "        category = \"Underweight\"\n",
    "    elif 18.5 <= bmi < 24.9:\n",
    "        category = \"Normal\"\n",
    "    elif 24.9 <= bmi < 29.9:\n",
    "        category = \"Overweight\"\n",
    "    else:\n",
    "        category = \"Obese\"\n",
    "\n",
    "    print(f\"Your BMI is {bmi:.2f}, and you are categorized as '{category}'.\")\n"
   ]
  },
  {
   "cell_type": "code",
   "execution_count": 37,
   "id": "0419e58d-a23e-4d4a-ac63-aa2342dcbe86",
   "metadata": {},
   "outputs": [
    {
     "name": "stdin",
     "output_type": "stream",
     "text": [
      "enter the number 2\n"
     ]
    },
    {
     "name": "stdout",
     "output_type": "stream",
     "text": [
      "it is positive\n"
     ]
    }
   ],
   "source": [
    "#question 24. Create a program that determines whether a given number is positive, negative, or zero using elif statements.\n",
    "a = int(input(\"enter the number\"))\n",
    "if a > 0:\n",
    "    print(\"it is positive\")\n",
    "elif a == 0:\n",
    "    print(\"is null\")\n",
    "else:\n",
    "    print(\"it is negative\") "
   ]
  },
  {
   "cell_type": "code",
   "execution_count": 40,
   "id": "a409c2e4-b277-451b-acfa-c7315850b241",
   "metadata": {},
   "outputs": [
    {
     "name": "stdin",
     "output_type": "stream",
     "text": [
      "Enter a character:  a\n"
     ]
    },
    {
     "name": "stdout",
     "output_type": "stream",
     "text": [
      "The character 'a' is a 'Lowercase'.\n"
     ]
    }
   ],
   "source": [
    "#question 25. Write a Python script to determine the type of a character (uppercase, lowercase, or special) using elif statements.\n",
    "char = input(\"Enter a character: \")\n",
    "\n",
    "if len(char) != 1:\n",
    "    print(\"enter a single character.\")\n",
    "else:\n",
    "    if char.isupper():\n",
    "        char_type = \"Uppercase\"\n",
    "    elif char.islower():\n",
    "        char_type = \"Lowercase\"\n",
    "    elif not char.isalpha():\n",
    "        char_type = \"Special character\"\n",
    "    else:\n",
    "        char_type = \"Unknown\"\n",
    "\n",
    "    print(f\"The character '{char}' is a '{char_type}'.\")\n"
   ]
  },
  {
   "cell_type": "code",
   "execution_count": 41,
   "id": "5dd4368c-3064-42a4-949b-f2b98128e516",
   "metadata": {},
   "outputs": [
    {
     "name": "stdin",
     "output_type": "stream",
     "text": [
      "Enter the purchase amount:  4000\n"
     ]
    },
    {
     "name": "stdout",
     "output_type": "stream",
     "text": [
      "Discounted price: $2800.00\n"
     ]
    }
   ],
   "source": [
    "#question 26.Implement a program to calculate the discounted price based on different purchase amounts using elif statements. \n",
    "purchase_amount = float(input(\"Enter the purchase amount: \"))\n",
    "\n",
    "discount = 0\n",
    "\n",
    "if purchase_amount < 0:\n",
    "    print(\"Invalid input. Purchase amount cannot be negative.\")\n",
    "elif 100 <= purchase_amount < 500:\n",
    "    discount = 10\n",
    "elif 500 <= purchase_amount < 1000:\n",
    "    discount = 20\n",
    "elif purchase_amount >= 1000:\n",
    "    discount = 30\n",
    "\n",
    "discounted_price = purchase_amount - (purchase_amount * discount / 100)\n",
    "print(f\"Discounted price: ${discounted_price:.2f}\")\n"
   ]
  },
  {
   "cell_type": "code",
   "execution_count": 42,
   "id": "c1d107a9-8a40-4884-b6d1-78a36a09d603",
   "metadata": {},
   "outputs": [
    {
     "name": "stdin",
     "output_type": "stream",
     "text": [
      "Enter the units of electricity consumed:  4\n"
     ]
    },
    {
     "name": "stdout",
     "output_type": "stream",
     "text": [
      "Electricity bill: $12.00\n"
     ]
    }
   ],
   "source": [
    "#question 27. Develop a program to calculate the electricity bill based on different consumption slabs using elif statements.\n",
    "units_consumed = int(input(\"Enter the units of electricity consumed: \"))\n",
    "\n",
    "if units_consumed < 0:\n",
    "    print(\"Invalid input. Units consumed cannot be negative.\")\n",
    "else:\n",
    "    if units_consumed <= 50:\n",
    "        bill_amount = units_consumed * 3.00\n",
    "    elif units_consumed <= 150:\n",
    "        bill_amount = 50 * 3.00 + (units_consumed - 50) * 4.50\n",
    "    elif units_consumed <= 250:\n",
    "        bill_amount = 50 * 3.00 + 100 * 4.50 + (units_consumed - 150) * 6.00\n",
    "    else:\n",
    "        bill_amount = 50 * 3.00 + 100 * 4.50 + 100 * 6.00 + (units_consumed - 250) * 7.50\n",
    "\n",
    "    print(f\"Electricity bill: ${bill_amount:.2f}\")\n"
   ]
  },
  {
   "cell_type": "code",
   "execution_count": 46,
   "id": "8f8cb47a-5096-4241-a788-d04d5f7a7c05",
   "metadata": {},
   "outputs": [
    {
     "name": "stdin",
     "output_type": "stream",
     "text": [
      "Enter the first angle:  2\n",
      "Enter the second angle:  2\n",
      "Enter the third angle:  4\n",
      "Enter the first side length:  54\n",
      "Enter the second side length:  4\n",
      "Enter the third side length:  56\n",
      "Enter the fourth side length:  34\n"
     ]
    },
    {
     "name": "stdout",
     "output_type": "stream",
     "text": [
      "It is a quadrilateral.\n"
     ]
    }
   ],
   "source": [
    "#question 28. Create a program to determine the type of quadrilateral based on its angles and sides using elif statements.\n",
    "\n",
    "angle1 = int(input(\"Enter the first angle: \"))\n",
    "angle2 = int(input(\"Enter the second angle: \"))\n",
    "angle3 = int(input(\"Enter the third angle: \"))\n",
    "side1 = int(input(\"Enter the first side length: \"))\n",
    "side2 = int(input(\"Enter the second side length: \"))\n",
    "side3 = int(input(\"Enter the third side length: \"))\n",
    "side4 = int(input(\"Enter the fourth side length: \"))\n",
    "\n",
    "if angle1 == angle2 == angle3 == 90:\n",
    "    print(\"It is a rectangle.\")\n",
    "elif angle1 == angle2 == angle3 != 90:\n",
    "    print(\"It is an equilateral triangle.\")\n",
    "elif angle1 != angle2 != angle3:\n",
    "    print(\"It is a scalene triangle.\")\n",
    "elif side1 == side2 == side3 == side4:\n",
    "    print(\"It is a square.\")\n",
    "else:\n",
    "    print(\"It is a quadrilateral.\")\n"
   ]
  },
  {
   "cell_type": "code",
   "execution_count": 47,
   "id": "becb78fb-bf55-4823-a3db-f7371ea9f3cc",
   "metadata": {},
   "outputs": [
    {
     "name": "stdin",
     "output_type": "stream",
     "text": [
      "Enter the month (1-12):  4\n"
     ]
    },
    {
     "name": "stdout",
     "output_type": "stream",
     "text": [
      "Spring\n"
     ]
    }
   ],
   "source": [
    "#question 29. Write a Python script to determine the season based on a user-provided month using elif statements.\n",
    "month = int(input(\"Enter the month (1-12): \"))\n",
    "\n",
    "if month in (3, 4, 5):\n",
    "    print(\"Spring\")\n",
    "elif month in (6, 7, 8):\n",
    "    print(\"Summer\")\n",
    "elif month in (9, 10, 11):\n",
    "    print(\"Autumn\")\n",
    "elif month in (12, 1, 2):\n",
    "    print(\"Winter\")\n",
    "else:\n",
    "    print(\"Invalid input. Please enter a valid month (1-12).\")\n"
   ]
  },
  {
   "cell_type": "code",
   "execution_count": 49,
   "id": "ed4ce9bf-d39e-44eb-ac36-be46612ec477",
   "metadata": {},
   "outputs": [
    {
     "name": "stdin",
     "output_type": "stream",
     "text": [
      "Enter the year:  2016\n",
      "Enter the month (1-12):  2\n"
     ]
    },
    {
     "name": "stdout",
     "output_type": "stream",
     "text": [
      "29 days in February (leap year).\n"
     ]
    }
   ],
   "source": [
    "#question 30. Implement a program to determine the type of a year (leap or common) and month (30 or 31 days) using elif statements.\n",
    "\n",
    "year = int(input(\"Enter the year: \"))\n",
    "month = int(input(\"Enter the month (1-12): \"))\n",
    "\n",
    "leap_year = year % 4 == 0 and (year % 100 != 0 or year % 400 == 0)\n",
    "\n",
    "if month in (4, 6, 9, 11):\n",
    "    print(\"30 days in this month.\")\n",
    "elif month == 2:\n",
    "    if leap_year:\n",
    "        print(\"29 days in February (leap year).\")\n",
    "    else:\n",
    "        print(\"28 days in February (common year).\")\n",
    "elif month in (1, 3, 5, 7, 8, 10, 12):\n",
    "    print(\"31 days in this month.\")\n",
    "else:\n",
    "    print(\"Invalid input. Please enter a valid month (1-12).\")\n"
   ]
  },
  {
   "cell_type": "markdown",
   "id": "00faf298-af29-4717-b469-2165c88af3b4",
   "metadata": {},
   "source": [
    "Basic Level:"
   ]
  },
  {
   "cell_type": "code",
   "execution_count": 1,
   "id": "43c21ae5-c9b4-4dab-babf-b5c412f58364",
   "metadata": {},
   "outputs": [
    {
     "name": "stdin",
     "output_type": "stream",
     "text": [
      "enter the number 45\n"
     ]
    },
    {
     "name": "stdout",
     "output_type": "stream",
     "text": [
      "it is positive\n"
     ]
    }
   ],
   "source": [
    "#question 1. Write a Python program that checks if a given number is positive, negative, or zero.\n",
    "a = int(input(\"enter the number\"))\n",
    "if a > 0:\n",
    "    print(\"it is positive\")\n",
    "elif a == 0:\n",
    "    print(\"is null\")\n",
    "else:\n",
    "    print(\"it is negative\") "
   ]
  },
  {
   "cell_type": "code",
   "execution_count": 2,
   "id": "134d5235-d14e-490f-afed-94e67e0c9eae",
   "metadata": {},
   "outputs": [
    {
     "name": "stdin",
     "output_type": "stream",
     "text": [
      "enter the number 34\n"
     ]
    },
    {
     "name": "stdout",
     "output_type": "stream",
     "text": [
      "It is eligible to vote\n"
     ]
    }
   ],
   "source": [
    "#question 2. Create a program that determines if a person is eligible to vote based on their age.\n",
    "age = int(input(\"enter the number\"))\n",
    "if age >= 18:\n",
    "        print(\"It is eligible to vote\")\n",
    "else:\n",
    "    print(\"it is not eligible for vote\")"
   ]
  },
  {
   "cell_type": "code",
   "execution_count": 3,
   "id": "5e610878-5bb7-463d-b880-d2f71c8a33c5",
   "metadata": {},
   "outputs": [
    {
     "name": "stdin",
     "output_type": "stream",
     "text": [
      "enter the number-1 45\n",
      "enter the number-2 89\n"
     ]
    },
    {
     "name": "stdout",
     "output_type": "stream",
     "text": [
      "num2 is greater\n"
     ]
    }
   ],
   "source": [
    "#question 3. Write a program to find the maximum of two given numbers using conditional statements.\n",
    "num1 = int(input(\"enter the number-1\"))\n",
    "num2 = int(input(\"enter the number-2\"))\n",
    "\n",
    "if (num1>num2):\n",
    "    print(\"num1 is greater\")\n",
    "elif (num1 < num2):\n",
    "    print(\"num2 is greater\")\n",
    "else:\n",
    "    print(\"both are equal\")"
   ]
  },
  {
   "cell_type": "code",
   "execution_count": 4,
   "id": "22a7e300-d1c9-45aa-9b3c-c57660e83882",
   "metadata": {},
   "outputs": [
    {
     "name": "stdin",
     "output_type": "stream",
     "text": [
      "Enter the student's score:  78.4\n"
     ]
    },
    {
     "name": "stdout",
     "output_type": "stream",
     "text": [
      "The student's grade is C\n"
     ]
    }
   ],
   "source": [
    "#question 4. Develop a program that calculates the grade of a student based on their exam score.\n",
    "score = float(input(\"Enter the student's score: \"))\n",
    "\n",
    "if score >= 90:\n",
    "    grade = 'A'\n",
    "elif score >= 80:\n",
    "    grade = 'B'\n",
    "elif score >= 70:\n",
    "    grade = 'C'\n",
    "elif score >= 60:\n",
    "    grade = 'D'\n",
    "else:\n",
    "    grade = 'F'\n",
    "print(f\"The student's grade is {grade}\")"
   ]
  },
  {
   "cell_type": "code",
   "execution_count": 5,
   "id": "970d622c-3d41-463b-b86d-1376fe91e490",
   "metadata": {},
   "outputs": [
    {
     "name": "stdin",
     "output_type": "stream",
     "text": [
      "enter the year 2023\n"
     ]
    },
    {
     "name": "stdout",
     "output_type": "stream",
     "text": [
      "2023 is not a leap year\n"
     ]
    }
   ],
   "source": [
    "#question 5. Create a program that checks if a year is a leap year or not.\n",
    "year = int(input(\"enter the year\"))\n",
    "\n",
    "if (year % 400 == 0) and (year % 100 == 0):\n",
    "    print(\"{0} is a leap year\".format(year))\n",
    "elif (year % 4 ==0) and (year % 100 != 0):\n",
    "    print(\"{0} is a leap year\".format(year))\n",
    "else:\n",
    "    print(\"{0} is not a leap year\".format(year))"
   ]
  },
  {
   "cell_type": "code",
   "execution_count": 7,
   "id": "10b9ab2c-1d23-4318-b43a-9a1321231214",
   "metadata": {},
   "outputs": [
    {
     "name": "stdin",
     "output_type": "stream",
     "text": [
      "Enter the length of the first side:  3\n",
      "Enter the length of the second side:  3\n",
      "Enter the length of the third side:  3\n"
     ]
    },
    {
     "name": "stdout",
     "output_type": "stream",
     "text": [
      "The triangle is a Equilateral Triangle\n"
     ]
    }
   ],
   "source": [
    "#question 6. Write a program to classify a triangle based on its sides' lengths.\n",
    "def classify_triangle(side1, side2, side3):\n",
    "    if side1 <= 0 or side2 <= 0 or side3 <= 0:\n",
    "        return \"Invalid triangle. All side lengths must be positive.\"\n",
    "    \n",
    "    if side1 == side2 == side3:\n",
    "        return \"Equilateral Triangle\"\n",
    "    elif side1 == side2 or side1 == side3 or side2 == side3:\n",
    "        return \"Isosceles Triangle\"\n",
    "    else:\n",
    "        return \"Scalene Triangle\"\n",
    "\n",
    "# Input side lengths from the user\n",
    "side1 = float(input(\"Enter the length of the first side: \"))\n",
    "side2 = float(input(\"Enter the length of the second side: \"))\n",
    "side3 = float(input(\"Enter the length of the third side: \"))\n",
    "\n",
    "result = classify_triangle(side1, side2, side3)\n",
    "print(f\"The triangle is a {result}\")\n"
   ]
  },
  {
   "cell_type": "code",
   "execution_count": 8,
   "id": "cfd64d15-8519-4cb6-9dd9-1d6b142bf259",
   "metadata": {},
   "outputs": [
    {
     "name": "stdin",
     "output_type": "stream",
     "text": [
      "Enter the first number:  45\n",
      "Enter the second number:  54\n",
      "Enter the third number:  54\n"
     ]
    },
    {
     "name": "stdout",
     "output_type": "stream",
     "text": [
      "largest is num2\n"
     ]
    }
   ],
   "source": [
    "#question 7. Build a program that determines the largest of three given numbers.\n",
    "num1 = int(input(\"Enter the first number: \"))\n",
    "num2 = int(input(\"Enter the second number: \"))\n",
    "num3 = int(input(\"Enter the third number: \"))\n",
    "\n",
    "if num1 >= num2 and num1 >= num3:\n",
    "    print(\"largest is num1\")\n",
    "elif num2 >= num1 and num2 >= num3:\n",
    "     print(\"largest is num2\")\n",
    "else:\n",
    "    print(\"largest is num3\")\n"
   ]
  },
  {
   "cell_type": "code",
   "execution_count": 6,
   "id": "f3f9d311-f5b4-4e92-9ba7-f0120702a1fa",
   "metadata": {},
   "outputs": [
    {
     "name": "stdin",
     "output_type": "stream",
     "text": [
      "Enter a character:  x\n"
     ]
    },
    {
     "name": "stdout",
     "output_type": "stream",
     "text": [
      "do not contain vowels\n"
     ]
    }
   ],
   "source": [
    "#question 8. Create a program that checks whether a character is a vowel or a consonant.\n",
    "char = input(\"Enter a character: \")\n",
    "if len(char) == 1:\n",
    "    char = char.lower()\n",
    "if  char in \"aeiou\":\n",
    "    print(\"it having vowel\")\n",
    "else :\n",
    "    print(\"do not contain vowels\")"
   ]
  },
  {
   "cell_type": "code",
   "execution_count": 9,
   "id": "f46a2ab1-8e6a-4d44-9977-df4cdc159ad1",
   "metadata": {},
   "outputs": [
    {
     "name": "stdout",
     "output_type": "stream",
     "text": [
      "Total cost of the shopping cart: $40.60\n"
     ]
    }
   ],
   "source": [
    "#question 9 Create a program to calculate the total cost of a shopping cart based on discounts.\n",
    "\n",
    "shopping_cart = [\n",
    "    (\"Item 1\", 10.0, 2, 10),   # 10% discount on 2 items at $10 each\n",
    "    (\"Item 2\", 5.0, 3, 0),    # No discount on 3 items at $5 each\n",
    "    (\"Item 3\", 8.0, 1, 5)     # 5% discount on 1 item at $8\n",
    "]\n",
    "\n",
    "total_cost = 0\n",
    "\n",
    "for item, price, quantity, discount_percentage in shopping_cart:\n",
    "    item_cost = price * quantity\n",
    "\n",
    "    # Apply the discount if applicable\n",
    "    if discount_percentage > 0:\n",
    "        discount_amount = (item_cost * discount_percentage) / 100\n",
    "        item_cost -= discount_amount\n",
    "\n",
    "    total_cost += item_cost\n",
    "\n",
    "print(f\"Total cost of the shopping cart: ${total_cost:.2f}\")\n"
   ]
  },
  {
   "cell_type": "code",
   "execution_count": 10,
   "id": "42443fe8-6c12-4631-956f-d2bd9e9027f4",
   "metadata": {},
   "outputs": [
    {
     "name": "stdin",
     "output_type": "stream",
     "text": [
      "Enter the number 78\n"
     ]
    },
    {
     "name": "stdout",
     "output_type": "stream",
     "text": [
      "it is even\n"
     ]
    }
   ],
   "source": [
    "#question 10. Write a program that checks if a given number is even or odd.\n",
    "number = int(input(\"Enter the number\"))\n",
    "if number % 2==0:\n",
    "    print(\"it is even\")\n",
    "else:\n",
    "    print(\"It is odd\")"
   ]
  },
  {
   "cell_type": "markdown",
   "id": "9d3eed3f-1185-4f89-858c-4070bfaac29a",
   "metadata": {},
   "source": [
    "Intermediate Level:"
   ]
  },
  {
   "cell_type": "code",
   "execution_count": 11,
   "id": "bd8c029d-fcae-4914-a8c5-efe464198bd9",
   "metadata": {},
   "outputs": [
    {
     "name": "stdin",
     "output_type": "stream",
     "text": [
      "Enter the coefficient 'a':  7\n",
      "Enter the coefficient 'b':  6\n",
      "Enter the coefficient 'c':  3\n"
     ]
    },
    {
     "name": "stdout",
     "output_type": "stream",
     "text": [
      "Two complex roots: (-0.42857142857142855+0.4948716593053935j), (-0.42857142857142855-0.4948716593053935j)\n"
     ]
    }
   ],
   "source": [
    "#questoin 11. Write a program that calculates the roots of a quadratic equation .\n",
    "import math\n",
    "a = float(input(\"Enter the coefficient 'a': \"))\n",
    "b = float(input(\"Enter the coefficient 'b': \"))\n",
    "c = float(input(\"Enter the coefficient 'c': \"))\n",
    "\n",
    "discriminant = b**2 - 4*a*c\n",
    "\n",
    "if a == 0:\n",
    "    print(\"Not a quadratic equation (a cannot be zero).\")\n",
    "else:\n",
    "    if discriminant > 0:\n",
    "        print(f\"Two distinct real roots: {(-b + math.sqrt(discriminant)) / (2*a)}, {(-b - math.sqrt(discriminant)) / (2*a)}\")\n",
    "    elif discriminant == 0:\n",
    "        print(f\"One real root: {-b / (2*a)}\")\n",
    "    else:\n",
    "        real_part = -b / (2*a)\n",
    "        imaginary_part = math.sqrt(abs(discriminant)) / (2*a)\n",
    "        print(f\"Two complex roots: {complex(real_part, imaginary_part)}, {complex(real_part, -imaginary_part)}\")"
   ]
  },
  {
   "cell_type": "code",
   "execution_count": 13,
   "id": "d31e0045-467b-43c2-aa08-4cd0ed95ba03",
   "metadata": {},
   "outputs": [
    {
     "name": "stdin",
     "output_type": "stream",
     "text": [
      "enter a number (1 for Monday, 2 for Tuesday, etc.): 6\n"
     ]
    },
    {
     "name": "stdout",
     "output_type": "stream",
     "text": [
      "result of the day with number is : Saturday\n"
     ]
    }
   ],
   "source": [
    "#question 12. Create a program that determines the day of the week based on the day number (1-7).\n",
    "day_number = int(input(\"enter a number (1 for Monday, 2 for Tuesday, etc.):\"))\n",
    "if day_number < 1 or day_number > 7:\n",
    "    print(\"enter the number 1 to 7 \")\n",
    "else:\n",
    "    day_of_week = [\"Monday\", \"Tuesday\", \"Wednesday\", \"Thursday\", \"Friday\", \"Saturday\", \"Sunday\"]\n",
    "    day_name = day_of_week[day_number - 1]\n",
    "    print(\"result of the day with number is :\",day_name)"
   ]
  },
  {
   "cell_type": "code",
   "execution_count": 16,
   "id": "316dc200-de05-49a9-ab30-15f4fecb02cd",
   "metadata": {},
   "outputs": [
    {
     "name": "stdin",
     "output_type": "stream",
     "text": [
      "Enter a non-negative integer to calculate its factorial:  -4\n"
     ]
    },
    {
     "name": "stdout",
     "output_type": "stream",
     "text": [
      "Factorial is not defined for negative numbers.\n"
     ]
    }
   ],
   "source": [
    "#question 13. Develop a program that calculates the factorial of a given number using recursion.\n",
    "num = int(input(\"Enter a non-negative integer to calculate its factorial: \"))\n",
    "\n",
    "if num < 0:\n",
    "    print(\"Factorial is not defined for negative numbers.\")\n",
    "else:\n",
    "    factorial = 1\n",
    "    for i in range(1, num + 1):\n",
    "        factorial *= i\n",
    "\n",
    "    print(f\"The factorial of {num} is {factorial}\")\n"
   ]
  },
  {
   "cell_type": "code",
   "execution_count": 17,
   "id": "f10dd989-92a5-4d07-b3da-e9da4de78a09",
   "metadata": {},
   "outputs": [
    {
     "name": "stdin",
     "output_type": "stream",
     "text": [
      "Enter the first number:  87\n",
      "Enter the second number:  57\n",
      "Enter the third number:  8\n"
     ]
    },
    {
     "name": "stdout",
     "output_type": "stream",
     "text": [
      "largest is num1\n"
     ]
    }
   ],
   "source": [
    "#question 14. Write a program to find the largest among three numbers without using the `max()` function.\n",
    "num1 = int(input(\"Enter the first number: \"))\n",
    "num2 = int(input(\"Enter the second number: \"))\n",
    "num3 = int(input(\"Enter the third number: \"))\n",
    "\n",
    "if num1 >= num2 and num1 >= num3:\n",
    "    print(\"largest is num1\")\n",
    "elif num2 >= num1 and num2 >= num3:\n",
    "     print(\"largest is num2\")\n",
    "else:\n",
    "    print(\"largest is num3\")"
   ]
  },
  {
   "cell_type": "code",
   "execution_count": 18,
   "id": "9078937d-84d1-440b-8399-2b881adf06e3",
   "metadata": {},
   "outputs": [
    {
     "name": "stdout",
     "output_type": "stream",
     "text": [
      "\n",
      "ATM Menu:\n",
      "1. Balance\n",
      "2. Deposit\n",
      "3. Withdraw\n",
      "4. Exit\n"
     ]
    },
    {
     "name": "stdin",
     "output_type": "stream",
     "text": [
      "Enter choice (1/2/3/4):  3\n",
      "Withdraw amount: $ 1000\n"
     ]
    },
    {
     "name": "stdout",
     "output_type": "stream",
     "text": [
      "\n",
      "ATM Menu:\n",
      "1. Balance\n",
      "2. Deposit\n",
      "3. Withdraw\n",
      "4. Exit\n"
     ]
    },
    {
     "name": "stdin",
     "output_type": "stream",
     "text": [
      "Enter choice (1/2/3/4):  2\n",
      "Deposit amount: $ 1000\n"
     ]
    },
    {
     "name": "stdout",
     "output_type": "stream",
     "text": [
      "\n",
      "ATM Menu:\n",
      "1. Balance\n",
      "2. Deposit\n",
      "3. Withdraw\n",
      "4. Exit\n"
     ]
    },
    {
     "name": "stdin",
     "output_type": "stream",
     "text": [
      "Enter choice (1/2/3/4):  1\n"
     ]
    },
    {
     "name": "stdout",
     "output_type": "stream",
     "text": [
      "Balance: $1000.00\n",
      "\n",
      "ATM Menu:\n",
      "1. Balance\n",
      "2. Deposit\n",
      "3. Withdraw\n",
      "4. Exit\n"
     ]
    },
    {
     "name": "stdin",
     "output_type": "stream",
     "text": [
      "Enter choice (1/2/3/4):  1\n"
     ]
    },
    {
     "name": "stdout",
     "output_type": "stream",
     "text": [
      "Balance: $1000.00\n",
      "\n",
      "ATM Menu:\n",
      "1. Balance\n",
      "2. Deposit\n",
      "3. Withdraw\n",
      "4. Exit\n"
     ]
    },
    {
     "name": "stdin",
     "output_type": "stream",
     "text": [
      "Enter choice (1/2/3/4):  4\n"
     ]
    },
    {
     "name": "stdout",
     "output_type": "stream",
     "text": [
      "Thank you for using the ATM. Goodbye!\n"
     ]
    }
   ],
   "source": [
    "#question 15. Create a program that simulates a basic ATM transaction menu.\n",
    "balance = 1000\n",
    "\n",
    "while True:\n",
    "    print(\"\\nATM Menu:\\n1. Balance\\n2. Deposit\\n3. Withdraw\\n4. Exit\")\n",
    "    choice = input(\"Enter choice (1/2/3/4): \")\n",
    "\n",
    "    if choice == '1': print(f\"Balance: ${balance:.2f}\")\n",
    "    elif choice == '2': balance += float(input(\"Deposit amount: $\"))\n",
    "    elif choice == '3': balance -= float(input(\"Withdraw amount: $\"))\n",
    "    elif choice == '4': break\n",
    "    else: print(\"Invalid choice.\")\n",
    "    \n",
    "print(\"Thank you for using the ATM. Goodbye!\")\n"
   ]
  },
  {
   "cell_type": "code",
   "execution_count": 19,
   "id": "24a7647b-30e2-41c5-bbc7-f993cbe89fcc",
   "metadata": {},
   "outputs": [
    {
     "name": "stdin",
     "output_type": "stream",
     "text": [
      "Enter a string:  hey\n"
     ]
    },
    {
     "name": "stdout",
     "output_type": "stream",
     "text": [
      "'hey' is not a palindrome.\n"
     ]
    }
   ],
   "source": [
    "#question 16. Build a program that checks if a given string is a palindrome or not.\n",
    "def is_palindrome(input_str):\n",
    "    input_str = input_str.replace(\" \", \"\").lower()\n",
    "    return input_str == input_str[::-1]\n",
    "user_input = input(\"Enter a string: \")\n",
    "if is_palindrome(user_input):\n",
    "    print(f\"'{user_input}' is a palindrome.\")\n",
    "else:\n",
    "    print(f\"'{user_input}' is not a palindrome.\")"
   ]
  },
  {
   "cell_type": "code",
   "execution_count": 21,
   "id": "d118e6f1-da7a-49f5-bd78-4e91773e59cf",
   "metadata": {},
   "outputs": [
    {
     "name": "stdin",
     "output_type": "stream",
     "text": [
      "Enter a list of numbers separated by spaces:  34 34 23\n"
     ]
    },
    {
     "name": "stdout",
     "output_type": "stream",
     "text": [
      "The average excluding the smallest and largest values is: 34.00\n"
     ]
    }
   ],
   "source": [
    "#question 17. Write a program that calculates the average of a list of numbers, excluding the smallest and largest values.\n",
    "input_numbers = input(\"Enter a list of numbers separated by spaces: \")\n",
    "numbers = [float(x) for x in input_numbers.split()]\n",
    "\n",
    "if len(numbers) <= 2:\n",
    "    print(\"Not enough numbers to calculate an average.\")\n",
    "else:\n",
    "    numbers.remove(min(numbers))\n",
    "    numbers.remove(max(numbers))\n",
    "\n",
    "    total = sum(numbers)\n",
    "    average = total / len(numbers)\n",
    "    print(f\"The average excluding the smallest and largest values is: {average:.2f}\")\n"
   ]
  },
  {
   "cell_type": "code",
   "execution_count": 22,
   "id": "20d296e8-d7c4-46f3-86d2-6abacbd7be1f",
   "metadata": {},
   "outputs": [
    {
     "name": "stdin",
     "output_type": "stream",
     "text": [
      "Enter temperature in Celsius:  24\n"
     ]
    },
    {
     "name": "stdout",
     "output_type": "stream",
     "text": [
      "24.0 degrees Celsius is equal to 75.2 degrees Fahrenheit\n"
     ]
    }
   ],
   "source": [
    "#question 18. Develop a program that converts a given temperature from Celsius to Fahrenheit.\n",
    "celsius = float(input(\"Enter temperature in Celsius: \"))\n",
    "fahrenheit = (celsius * 9/5) + 32\n",
    "print(f\"{celsius} degrees Celsius is equal to {fahrenheit} degrees Fahrenheit\")\n"
   ]
  },
  {
   "cell_type": "code",
   "execution_count": 23,
   "id": "fff28636-f8f1-44bd-b978-e1eba9a0299c",
   "metadata": {},
   "outputs": [
    {
     "name": "stdout",
     "output_type": "stream",
     "text": [
      "\n",
      "Calculator Menu:\n",
      "1. Addition\n",
      "2. Subtraction\n",
      "3. Multiplication\n",
      "4. Division\n",
      "5. Exit\n"
     ]
    },
    {
     "name": "stdin",
     "output_type": "stream",
     "text": [
      "Enter your choice (1/2/3/4/5):  4\n",
      "Enter first number:  54\n",
      "Enter second number:  5\n"
     ]
    },
    {
     "name": "stdout",
     "output_type": "stream",
     "text": [
      "Result: 54.0 / 5.0 = 10.8\n",
      "\n",
      "Calculator Menu:\n",
      "1. Addition\n",
      "2. Subtraction\n",
      "3. Multiplication\n",
      "4. Division\n",
      "5. Exit\n"
     ]
    },
    {
     "name": "stdin",
     "output_type": "stream",
     "text": [
      "Enter your choice (1/2/3/4/5):  5\n"
     ]
    },
    {
     "name": "stdout",
     "output_type": "stream",
     "text": [
      "Exiting the calculator. Goodbye!\n"
     ]
    }
   ],
   "source": [
    "#question 19. Create a program that simulates a basic calculator for addition, subtraction, multiplication, and division.\n",
    "while True:\n",
    "    print(\"\\nCalculator Menu:\")\n",
    "    print(\"1. Addition\")\n",
    "    print(\"2. Subtraction\")\n",
    "    print(\"3. Multiplication\")\n",
    "    print(\"4. Division\")\n",
    "    print(\"5. Exit\")\n",
    "\n",
    "    choice = input(\"Enter your choice (1/2/3/4/5): \")\n",
    "\n",
    "    if choice == '5':\n",
    "        print(\"Exiting the calculator. Goodbye!\")\n",
    "        break\n",
    "\n",
    "    if choice not in ('1', '2', '3', '4'):\n",
    "        print(\"Invalid choice. Please select a valid option (1/2/3/4).\")\n",
    "        continue\n",
    "\n",
    "    num1 = float(input(\"Enter first number: \"))\n",
    "    num2 = float(input(\"Enter second number: \"))\n",
    "\n",
    "    if choice == '1':\n",
    "        result = num1 + num2\n",
    "        print(f\"Result: {num1} + {num2} = {result}\")\n",
    "    elif choice == '2':\n",
    "        result = num1 - num2\n",
    "        print(f\"Result: {num1} - {num2} = {result}\")\n",
    "    elif choice == '3':\n",
    "        result = num1 * num2\n",
    "        print(f\"Result: {num1} * {num2} = {result}\")\n",
    "    elif choice == '4':\n",
    "        if num2 == 0:\n",
    "            print(\"Division by zero is not allowed.\")\n",
    "        else:\n",
    "            result = num1 / num2\n",
    "            print(f\"Result: {num1} / {num2} = {result}\")\n"
   ]
  },
  {
   "cell_type": "code",
   "execution_count": 24,
   "id": "810ef925-fab3-41fb-98f2-b1d90d208eab",
   "metadata": {},
   "outputs": [
    {
     "name": "stdin",
     "output_type": "stream",
     "text": [
      "Enter coefficient a:  67\n",
      "Enter coefficient b:  89\n",
      "Enter coefficient c:  7\n",
      "Enter coefficient d:  8\n"
     ]
    },
    {
     "name": "stdout",
     "output_type": "stream",
     "text": [
      "Root 1: -1.318 + 0.000i\n",
      "Root 2: 0.234 + -0.945i\n",
      "Root 3: 0.234 + 0.945i\n"
     ]
    }
   ],
   "source": [
    "#question 20. Write a program that determines the roots of a cubic equation using the Cardano formula.\n",
    "import cmath\n",
    "\n",
    "# Input coefficients of the cubic equation\n",
    "a = float(input(\"Enter coefficient a: \"))\n",
    "b = float(input(\"Enter coefficient b: \"))\n",
    "c = float(input(\"Enter coefficient c: \"))\n",
    "d = float(input(\"Enter coefficient d: \"))\n",
    "\n",
    "# Calculate the discriminant and its components\n",
    "delta0 = b**2 - 3*a*c\n",
    "delta1 = 2*b**3 - 9*a*b*c + 27*a**2*d\n",
    "C = ((delta1 + cmath.sqrt(delta1**2 - 4*delta0**3))/2)**(1/3)\n",
    "x1 = (-1/(3*a)) * (b + C + delta0/C)\n",
    "x2 = (-1/(3*a)) * (b + (-1 + 1j*cmath.sqrt(3)) * C + delta0/((-1 + 1j*cmath.sqrt(3)) * C))\n",
    "x3 = (-1/(3*a)) * (b + (-1 - 1j*cmath.sqrt(3)) * C + delta0/((-1 - 1j*cmath.sqrt(3)) * C))\n",
    "\n",
    "# Display the roots\n",
    "print(f\"Root 1: {x1.real:.3f} + {x1.imag:.3f}i\")\n",
    "print(f\"Root 2: {x2.real:.3f} + {x2.imag:.3f}i\")\n",
    "print(f\"Root 3: {x3.real:.3f} + {x3.imag:.3f}i\")\n",
    "\n",
    "\n",
    "# i cant able solve this that why i copied code for known and i have a doubt in this "
   ]
  },
  {
   "cell_type": "markdown",
   "id": "07ef842e-2484-4be1-8256-92ccfd17ea21",
   "metadata": {},
   "source": [
    "Advanced Level:"
   ]
  },
  {
   "cell_type": "code",
   "execution_count": 8,
   "id": "2f16c843-c2d7-40d5-8b5e-9befdf36ad60",
   "metadata": {},
   "outputs": [
    {
     "name": "stdin",
     "output_type": "stream",
     "text": [
      "enter your salary : 54874\n"
     ]
    },
    {
     "name": "stdout",
     "output_type": "stream",
     "text": [
      "this is your tax: 23962.199999999997\n"
     ]
    }
   ],
   "source": [
    "#question 21. Create a program that calculates the income tax based on the user's income and tax brackets.\n",
    "income = float(input(\"enter your salary :\"))\n",
    "if income <=10000:\n",
    "    tax = income * 0.1\n",
    "    print(\"it is tax :\",tax)\n",
    "elif income<= 50000:\n",
    "    tax = 1000 + (income - 10000) * 0.2\n",
    "    print(\"this is your tax \",tax)\n",
    "else:\n",
    "    tax = 9000 + (income - 5000)* 0.3\n",
    "    print(\"this is your tax:\",tax )\n",
    "    "
   ]
  },
  {
   "cell_type": "code",
   "execution_count": 9,
   "id": "e42803d8-d88f-493d-ba67-f0f8bb3a2422",
   "metadata": {},
   "outputs": [],
   "source": [
    "#question 22. Write a program that simulates a rock-paper-scissors game against the computer.\n",
    "#doubt in this "
   ]
  },
  {
   "cell_type": "code",
   "execution_count": 12,
   "id": "543798d2-0112-4cd1-9df0-49a01556b8a3",
   "metadata": {},
   "outputs": [
    {
     "name": "stdin",
     "output_type": "stream",
     "text": [
      "Enter the length of the password:  85675\n",
      "Include lowercase letters? (yes/no):  no\n",
      "Include uppercase letters? (yes/no):  no'\n",
      "Include digits? (yes/no):  yes\n",
      "Include special characters? (yes/no):  no\n"
     ]
    },
    {
     "name": "stdout",
     "output_type": "stream",
     "text": [
      "Generated password: 4904091864779914521607504675597564221381356277265551178947253533954368149034113486538856904051990023465778309668717912145290386182397926728830606703201711687129376887826363361253427217630401673148748272041413398364746607204656503055359939891212749446741031610719770226307766019795669512853635481993378452978953901061149695539863515096433466907672269008179991068560388560196216947722279989884551955680459731361070349338374555939608554922928336990431183306243066184046390535202134643329733990765460711685826310447741517889589999751986240143208664121179019779846055743133870971259888114234510637501618133543263803524754641265196959316883648619850026330270369449883862501818526164626926465458272549382875268598306039069175214742022158068800935052635434801125707632314596677230753937033345143207237157042044551741702660861010192480461166158391004214041171830241568684237397405638258125340136590514781405298824223476885600184999056907412668167502042498596264485346780158925110083715750809217810062750858193947340690257471948283338633654818536234281367560804774906928286615178199197355416720831903369121206640525970918462357071364631149079549377659251594222630163588272571514899119615127299107418008651835816082531471214942331283829613370839494680850278378737202924185346406746781779196914482926265548409143272100647714865347338360737990668951467457000000761357960266439017904666614252451520276949240959367657591264387626923355231044760010101279894559348744341144727831983645698022435795697271644367200278993928249877201811864250407543934161977477375353476099269401456247907866519132280609486034202635968841902261791510844362340216643496254976502551722323584550277326770200451634417985374838328117133932935785548741704106460852438989940953507838170160076052846706299945324710228158493549372260777599222529791636803659480703820464789720822451275811868296412153340024746166661605162444249416319140179974412028620513300848382012591816313136120301822231903083833649549976295747729047831531365566320753740175189877344930384114013648342313376769511298707341550445216273887031477066608491298003335544055556015885696425581670116869543194129766596031683758096567800569095017692177885321879642956705682628069509652034270956037304770224832486015221375395227229774159851148771094247272474855443438951199975721494721257704364177409462324343159367432802102557823385982116734877398971122868015658708254224788725937967279562474169282533234441127207923050517048097706334462658697736592261129043352206492782633591454286279150468752146269146812555525809696276942478667407009857667558359281135355152656713796779945314790617782371316453308994578763567948187158338789546072940489062442073413509614296219140518682175431070122244587356296499562149880824001486654687025420490406577009928578172956675824822181828976257129903691188720929050943734132050425880702657029145394524874299657884807634704546441586432769154510229253373561791156629871245998409995692754418051574647942023076897789549394685813113718069950871488007514073542011375480764113784119200906339145884829858687139041909269772872139932660531747151680167986308117585670693680642844704523870781917938923551051209155036357608048734600486464564308979907308669675632238371937205068464392948428794608094153766131153344120694734276169573986149428498874794161759089635391247546418904851854986785396555879963019695063735479398691796031711426031379513000940928138423650230342426412507835524690548421967587984644408545101706369091414074070315007344593910982282878005195618210405185503567092666253894439855406297807703966608193263271941521540154105763413443694569588361391288679434801070327467875710058220917796289815706284184478049753725415889586406585108329988382414712363696680915109382408270910027710392118209695169267763867076966680195867272902752696087604313670398230989944559125321807524043188313638376295847631689146101121116999585249424544747798227362198145093890408859237332804742017076839860892126336505609153506445508193032539871770814842523473753714027077635481051729796682404073684791127262324418513375051133322351403554209937192892478480680687136058662489615498346669839381137532529666430483954506263994422307564740706052858620918447197208683157470494722195569498286292063244378512718622249950179302371294541225473544285096690220639839558080966906758107653462081822517647700092640450029468954517466057510456090825262937210840838899208221044648592762414012970752612994656472496288423376393850818090969819449385132421812561114468959557368224315019617933246841141351431463522759620944760987772599312508505845228818186902077549318193102002614980651496059509947998367823295148212255999248820267489513830344053256504007304084377882786081471247917580526938520049405715720794599942415997327522379092544580108030134415640092205530574468666484333942390329302305748830455775771549531736498710741220002967209361864151142472469020191339808142392331447383470474853728523459328565975108606543642781506257304308602831900148071369703667718372336950641055095660284575548536023128795502109004338065114117331547646922319297690075607488400539014245634402278232675117682370386480383176708251743640984151363122523513569733409403312182554654898781659403289448138702175447016133063281982043962667438945059354697584285350565895103408835369343100787847416931237242459370075698153416255057188292388891529446812275858056793925292340330200379173196027088860239576946503768302964040266086492305026519392170337409542144090870760984833592387644702792579372067486390779001421101356343952115195354155579713710313817410250573007734012123904816852418391655644303876604939057539479246705433458896095556884224114237123875605395755032590218321432318255735586520985863878939996031150820973843922496170250342843359679220413608270692689414677741055167013900336949778399026777537579211619012330216255004921636005940875581490987677086540803862854434744079544262927442291321137690684313350736098823412995361780916474425404433568522817698033324611926906835392610321313257980512575545946427562754499045582101234737698137375040378851241167772005041933259334306088086347116767110772512549403979397739541842442190664782670033812121832123621822775456431155427612547590574901810612426606264882312467876283737917865643572647316094463720228942269151849189180083953737421963512954513773374360681339224028141795530492158339141236737192051530391687649470452921657260306011634764624064618412379460648861715129629528867997791323567416750565629218526586852506287403358906284181380285988978771584484146777342103578571509892068132793075793996535667927630275537153534949405888562608268905560223240407533792410719756392909560179697437823326672441804697303011246966307215643706030607239084668046418149599005628090609035493445214084054677251003269758744247824572433218217991365663358963788919823342139124186056035247733385567278068041559242112767478146074515775230159833106558424727229722716140906444906587523254060998222031061509381715891086938155618138229800730308276238563039216752059256935898058599888713823325339510744764438603904612701746150595942392115617953534819096053330302930693376676024235306704070999953132274055349817052687588832028833972017734896194921167029625379691149724356154918790234715485781346943081660512110080828923865378209782669194894163847767645395673329053396778204365400715189059731625469208457072466884842909236575426592320789881615107027715219341438634149375979341198210176095253685975864828789368150663186797044516625363716259667637752303821456192642669876082551472533703139821095854361326696232971734602146074252863151270392650528091557474759454170558928833711469831705561923261726945074600243527842120139498757407026238079228719926266931291477990282092810434259705210301274199420653727049582732348713055661271549558209537120700108230985277539953851030892043763494755281516117493932731188809577881435125695209299402067291118186929088153876283465356418261239617580555527998590823533051791916764703405719557729360721190920562293676634089445756790486755998108798492181848404111376080852019846688570089866788576312693715238947556093643409034522426428700499230522962327267267606716015855674774246732026606925893507366722478382773321328004106371566789368823077546138563067443317758498599647160589014405952440186616006400954252300767722673587442864381670121363782205436490256813196849831628086193916640441426817172873450513366827919141087723580421160378840599986289160334764476646759283460195620175139533696600293885905238980064488462825270904253736144903211509085679958452020986307586449115018917991204434288961955970032622080123495983261167674492803550866198498897120919860252414430260968559793847931847549187522630785421308312896549927665318668759626295546815982886014684789636928471809935175995922375883112710266881802910281880142390131615985411750418948769843746241026302365516062545615722242590167130528001980612036582733142447193664043209944396929927263241208918673918435667567444407299083836990691274900979107727651635592665727338512504199173498602320754985796884809472635898800573934164098284790759944714028777822228503291132486170251793774640237589004430112822494198028508917567330388978119067892217735307830911307108415997886173255860799984726767002650205759513057344530506036054034904247368226398826968586173437395506498808762334320944248481142781557286287832455669708476929780245020751019079883828094886552861152957356855220909467837236713398824778614635257024959591579927943402874659612847572647132082592925809603249880175814538168904478682750536906263839176753441001750242516316159603163481538800559396065788931927416418095723314079551029147599160548484400486211432076962633620833631810823061988349153410076987345145870419273597260286966274329127705865113314998979303671124582505262105877522609031746216061133161625453168888384308557134821592354151521288964337929324940758466550583751060082861109322136382970388359515155538785046366282820140918826900937908299339307157124411710448109871922488644686002970576697786096611863015069843572149766316630494853338455941844598217243742104433820160745249732888073340161361658804285768471599754731909439959298709049390078787823350427054946454386729837949624509656055426228635896543233853377188636860931703392766492053715473469831309602847343842865572565378059997298455627426837766494548888309080980241185459681277841521013932570215212270194744149432293725400579280813589441193034080093039025769448191177607780762626370846448041883245845016149422996143868753408210290693202330402997556583629838215267716245693575594623378602829726834409355220690075240585112979272026916947897800569888262985862616724699139128259361584183832442416688712468060446048640730787737957500025997548357066573890073957019311937140758838994599161281696868817123738278594612167396939498087036756060143323209284980139178014328176046907899034621023460148455703390775175492848422162139078879557688348670720770731571334012528576206422603775160252255284014623847359083946495733625649529621895987977877742113492771708106526680768633184384281360778196153764728917313033796670109117399292940995236628411218796661603827343032362970123095394928082207343268345882743096397987704356452315471715649700284888576876394312139906388839456627011823543440450664538668792804404690719821085657999896215102842044552142609840260433396357469364806973833757753162725573646557031393763648643935788155834943140859005926467887765239675647420310385985780186818894905311118577867891460185395947042906496126350361644208209726769530601658412442305401962712594371698422198269021512846134204696804533047497705291427351753303604643386873750295186986560667122758263041134304014881536259424622645156384685460014047880176018503311190821558686613315516902623766595857591142665604137089597059243815701943577752808743006690690735708229500827481248532974414074666644543144633014088324846302627498515191401200058045755945174710711929968030898272103859574262179650195044400345228724400915481966975417330718500490961479160024072997180441852579126217747852945788857227097058607570499856679964520043645810535727152803708676267455331007478232076139008392312410010887532507702987222402137147715798140932909268618483016449784741639884804941447389287341937113328512952550398725585018914511741271970384367256274590314061680479439215423742594760941664290954006473652786268522436808415421288916418666336104487754565177144977783008717644468272286786001245056368982407788684895237018673523471538131815045066635579828424662108247918519980150812527477511731498623393452570897518418910009005598224224121184697819184241764778037045870592544083545638599511726440051019831891036206876267844323363503112096538921034123139561290565746674110385927970312255421358955949779911562223565491600599168468485825743731592136816313955729828659694345671793460490655980147550541249567034768070398024179496079784212574909204223918603000532901028498922526037991260441349357097321660910439965337868971090633719157242218271847250559169136511261724893839435043972114943019091279844532029521937076729538001558204404934969822909055291135444829784690271803969287585057683713323408727280157730403343011918344353181299582742025603686558548725908894625717378461203488271179820279607139482771589141498172487659397514649982763942376804204613843372866805017405482543323290474863268098742429167231719470818738406462493005477353094767432343623526226689457152933658585144261706080475547406613875190276172449500402432842540653722647721438538302339429598391188477269668576049619877643237262996559523645924567887925610218030646913901982512129673180287750504453144190167609259748704765886847088599431275471326263094685853353454364381890871377020557949010207485040565404530008254102069886235255502585112422324343183334721468591561473509462462502899472049079509043465691826223008525270616140267706011086121368687860381573322389415365333761556569501037059708324818186198537149176313604836787753901529321688381621061305186371851831803017169227856191617421239670119979813942882704703653874182719926297030832645304090491653642702042267413633332536861338319529034493252198792538569170411638409597460089542838217217800651101900797313551386460941401332948445563904725777558856183976448980355419289007373611494440076962372162362716530159872056105652727076520958167088414090987403018237331862455457505639801544947017531355510941975919336959841708581600413046181081345221109362811846384785812971403715202283942271086330892925920344047224601108121470983594283609438256780206192449388982790707196460562116540333527872100173333261182103919197785182169884059617758390224633944310640265680420645384059924134331759004033568067348988003446184954143523307021773494377784035732958663066099069161141783831294654962236276980001437886316183764146171743560593549400670265074992553442268167657083106694144739094761972957782999297860495062736334646018500782434402210988344116282390288955377567745757935429052979873187034246444735152760301839018043700977122358566471333367744881945000321380218110295890573593738508135318310140377040779647803438948763771814059607005770929312155953033362526083462147702592402863118800030870453844030692226621640107839895873066293586565059360912145414213247305562515633184878296713697497342955012994370481453197574014068841043061794122552668424900355708510610872626466132339570455316392075645984435828270410102299579798018200163960805371024193203291145084430263193332009233285606599078464476563116986128188063667183264394075096210928512539057988322835999741932817309061586766838311818334074645471848919588923163559224103559867891099396192970200979578478171561145379858062204592063263794912994603960472666478124974393694148219069179848023030657432673293948753350461080290461488866635963890825776416659252051786011077190074202714095198595952971330789468205466262122466495340697253206904516505631272132516746597283184299442167284141008076739143335536579773434409528428269606543750537685660840844111140397348847343906001898184916236853090377749532173168359968669973449304719215671048363791739070998817465172753972753371158108263254301807778823013691248482422534700952724102295162695640408828314111835857863418528167489797440729495785465772455620385758800441621733234834705516145533843437530613535657062923179353035734645463812420823592487227034197324416596633712267357340942399791013818468828933853677378436710923230440717529602707262719511476191857626741546146686565667248224204891219846173815422888934504209017266325472273251814617683891619111186050142464160610338694588753930809542819654550418158428553498941329026404764670405619077665385614565971425435478693383359661052843777487055503898647656242612224185424991208071103985122643433175408483668016962356899169638906256336004310632874442329789485192494774378406998926546174871664809039805480732677342834974970430017466505578769442027764887071304032330654303981205354475798149898163267995393789228678146053438913990842396529212296422933472300962484687665941503400543564931245237088734826063266901023360650644647861705224217657611128515924058643346692943118443387936191310117988070003234847301349642349750675175546446384038969385625745485666905631232778931942963067235238285975692808321401645373212454073341109293469141187358265253686390195178978213935030821448011620749250170989920719305571050367356256607593633862171630030081269841194473518784922695881713431633925588978833191624455394405160856223443272242566782380413917646022328823983427166354440411762862058184446697135188748162830438083176001392891774004386216198979275127110985050984858380518761256457552711182100356465935088448605750944169732734265312751675280195676277953356569833181610110484776993606546971897144285008365288367336316266533980139404520453355150033276022920915807678814707575754963919526297517930925212399982822116210351637706841774776489956637996318601940026694334721882272119266772183161397956516100248929401948825517237804676161277663513973985384576884643335578126599880051937198337663078073685440593838527351357343482054358664895182024221279805361316652976008894826524188111344450847821688007685834460950008052179406262699515541558114616149896020832164524333886947199631623361257948955135121755151393168329221763484530890486834969809453834118722649708990846993535265400377117942720510422152333234782908882303652132191093566149442807206700589042035465384217642174022825230859977679760163615515676682779488027008376071518227611659592975945591690030965729433712530679389410412731752802878221522130251943619246138002987832769958752925150752664332456355843444704779293737827841071371646614042901406855692251669340769183398388887413768032546854054130783481536356996682419274011802976942427252373936812042339082983800503537164786358281196075030027817232929103278427583251753936616764657142078770167145640028116473587286272233452241552861251153032738007956227851241881521879748345540161401802022202079065100842834004204092979310264852917597389936526008832127201334694229690244746319591493145575088682277671891086022253580232973738535365703202130898719138989269442235655620856514319665942085378916541323271263028259306387524317561154397636123068802348741165067752702485907131205040910706020065268773590860514519737037861930872602855586019176006260616338377837690511230192477827624578229202747767436117948709235010166906307970257233324924961303377674985333632513674075699174656564615123421389862170322416956737374997036700569269472157652963760235055092631968393140898249820509154405863154417462183550519556163631298849171519381952459564560848859841267017992497291666909234221890598859825959636631456181148012225645597799177835035276968734339440275049142015934364822820383395293651151419920874587270473216370188838769509385555328101401678476910656201523042062455063342619091932360567906899825867741777146558079122809345211436128594218888127124713991356437227082133009069884215637567645905009320093272315896412119891834174030569311133606162810091668146354163899042775327175675173689763368223559951755930501044822919131103100583708539678722546988914337143854020643661338866592758290714352656309632169028137273475768884443641324382067385501289696767158013176730657569929723625888561997967499589119528448916128033355686138805360374169688829312133612132900634482911636488694841818315701445147040374865991369443493666800131194317707842090849264922396805760086785185349148308686769809589573222684515825600850907302210556038711849305482185938234678399615931376852174580479167958529921308655454442000256739147575094296067740485061329349485182619953552200694520221584246252910304934100738722240146012157723926608624815590865335421748066913761015467689263116902010164719980666392908816966192646297285264895655438360808561244900532843727907747039410238097933872916294601271441770817203848649143910809327023658672031183075129896004042153723221214109110263091740562938960479111243431206107342362963412083843492462698660606218504572524447695283132925995559211848663535541414104453272515160382738236624416256113120045748424251463456641152580805299444547730883520717265162591558827351276307152834635178445593060773234314293596010285052665447024289475924732740023739741369072142287429860141771527499408031687326429896405270137965188553388976252931091006869740899208407969036170424665025451963975326040122931899759907689159811465944551676784181075032889254828385820674544655774510512484474702857024781237031040799050770953305523457498001461144289426946421155062131998967935143621685249652456256973602170776686050128484116619345621510557013359611081351791291070237661484669187815247631781918357051733580259526030905037552111243259679769211754229875892297163161817383353178955374594361924721197054173372044619332214182770478263209815111684840596201513908237510927336562238328265381633026649104228128537692275045924714876889650212000371880069398469131379025064808791045731069010381364828776503973298968650913650955333169681638343376258793667416156923484744488130192262635588175457323270589648313589653445842431146107179474101689767428526374355750958178289251257784145926943609782687619966463024257623688897465073531679235489287940738348148024261753095724857614870158991964971157061931305252236202717208133431668543244843913439169720603065727474104869102912173589087861698393943260170230899589231960643429506730305412183752046243019026045028940947499583819102896269314455996786454703481747933280274462398951534644027524245146163505113258861457374756742569311180540034626240017438063579264999716127548252214104729638670395152991460614654253071886503975684572918343278010141629875797987667645951458018675232535025743718030377885886889662185123723898068447019806390915947379210310448586387889994026316946977763572114334454129389843771247589273057962687285253231209894977457991255451802139883864535314788805649811012520315812588786063618880800946743380157563112736413962249041539108380666897863791753782803987320711752360587610028036534294500370172019853147740155516994099230087257405615120092826638023130628354673536560773681229708926031378445080281658962337739423846482545452329001127460048685047492904939675963708883998560486989664640019098107361803302797766183276209074753134145054320228176239734137729327276777935158536627499168065598253870751495969843237144451033582990623292342131386799869009050027805864682459900179952917831591814832243236563061908145693241277562387341707157797772045043942823034966959968938004371197397083815118834900578113574454114486543596936311775790059350262500012104897647346404964821957464106659749852794829774418799659009887571283209340619279055879609187327845528104062685583809213388713029288130009045175489717989934396376846171539679939582141185857959929425310721975365033932889577625838235097995005883615879799635731024273529288837144527125738991347749983752984530234890343703272416543037623337462771986601905800440200833899727391629153212510843243088808445528280725410819202331150169444255828129145608775105393086790000896957048086253244974111929956571456906872068199030042804285568340174397016923265347134913652025561984880241982240810413760895050534435068115182817631210612816701076777613661140641450946910340297003495994960752306133900662394791903151093362548673195933347618628156538265012979363846452662648054150364091891668307429411458015878524691845607693077651463432589456773758755751478685027793726789007712712857200953632856982733010506193619634343715182474640806708141523858097619216323413447863038213013723888829138643156400327068242166252590430905598152863442139125489693692906947793067779565085699634141865548479588767065351355486566235521827047207646955475525450938763253350479844241622179373327148056812112688464845892008916493420689947500475979380519898408035257972436526201025795070428257410138161593568533288927528981428322383066587390946791622017788473149926581758755847738929088929892619547762519257456298563242589923392041738347838755478772044142753018358022616815767689301725911613919441885747848281570935964686632967900774765436571946369061887339728514089391781608117750367814707585926873754641420513853579113970649909932166210187105578145095436062282317840029652599228164517468751267111278088977234132450333058912763899015920350959768990505471213832317614669839098324827498777233755503553019372857591166649562195736915852238376061342311621524388227856717451868727798109793572801398715752953781417019969280945299010451812591983280855657885764773279341353143004330465702666761417439273147098157153168172127075054867392187891934296809750627685165951969381509839200443379433605131266934122979280479029214034752975034858199317347011538007838737199743538031058706018351389046843670760353184838942164952507880079833907489455311544443716265253328411169082326551624834428185867622813989315595847841134833654809663663409167430120560002776985239581408210889453085428710157492004625852829517409240817663209158186910585051923428351941761162387804941432699207154004402099120374023212364971044433942800450802129516614074370013114292230853287377508361302811902311053547655281169206438065808100733560141344204814601375070145767888355159810262692499400455185015260390916452914788048628175691150272772226190733839771884577304620322135463466690017726610062761392299477687441539421223199709517814371591905960304456733934144535449442388792268239677667751769469020560458202931956739808642103267795851071573686459063561112926784030325582540257991201033410781952769663317746626599165012751262378480461645751431143237164269409843994424136013598144180100798986084840901325203597167878604360966710961992861165876324147668676330485174377952922552009402524267925905801294767385366516713796601519997877256374655098699504175905540129982368433338622835546641532243847848991695439895345708118669723418715135775643114847990519998599942761324047365994104675367286510876734635172856711063938288111599778989287276666557458370052244190249939801868673820275086044747653360333380707605778951617001805546534426460746745460734603237054841009447576009841677135061191018609234670108964507803652677108949110871344842018224109673074123656058010283669498673461512062153829682102141802749940957974397580339791770484280722910744666655331844400926914431688591814108643285067615707125526315635056578637499697448098590722580427606644811120734709242432871466935004064114709725557489999737244534407481605108129794001627725291346143287700919477857689110138184847510165879327002081584708207738167900442611049386794643424990985614057731662742147685387029956863476808662771493107407548804332984956221425066014581353863397641178189407970416339827206809653535447219517804627184095225578979418572272926693144097004093383495852598536881850492778001603957732765203807495711628794496393684709725634762544498365463005598044733552618245583707478410433406731102428538440922038206624051009522174820022065366835226054706426521552760321832355082699160697048464599104073211057337833106065928095877327437528876269276930264878633396961662745737970779542547051905256395494127161239073009409437992174366195527902281139943153088044353537433338740230425478721790134772645658965347661198243260367358938933698836919606689773197733758782765064018613099292754060236930295247349788906446192182251138371273603654055695635337510613580673125125700021299495372965371317625562987672395077088727104479350673534214308328888537853563537224886589204742639247371089987422167499278730527514992655785011246724688729296883267246294762837512914079717166745051882937063546413465219236410347034846366445694746961130639686695404355856638755880351401587731888063564615195859029557364560681554030900310622758194394734513633959991818386840119661952634746820011191037629111160615734397976511219668419332150024883243133496871741045023634942922494018557372560763806265014532333597319992784212516629871452335804770614394551542515317465641580350186410210794503340493773217534940465323353562109226051766212577760306634780304973951315934774968032910648027911388155434701586278975171697502670678931555200876796855519213345217765520862154579619320644362743808292063849874323053883788027417518067730466194469225725084697863447884012092270541111300840304237009111222610431867501728262058950142046480768448154041429088430185446259939929250187725572628249954456123535369092877206637247676424176681020792657618674392304757699783645781977217904928961595435648057067708672382736733019343299821241420234431863661812499092315262465838797096104250119256209390120775895186691895728409744385244335590423246395435464760905984522558920353730696727773920208083007951846298823529061478782835123138482627637565230275440426868501145318482276356178848070022123251601638467612016565118722699029373489467046048705017683587829969014629990949083587056756109457926998616651763992407587702227291080214054178927398995774268434440523734357325842802852693854283149176648023214699318817001274030599065549538110884374751370755508909015868576309882061990904119166720577525780323622344688560047827335456810381993149269280175873528527898305830529149713972698322771030520717419670909306345803821305222407501237177760693267247340639155506370207573503536687798433872804983598820074973869965809354777365038814363313605403833335387922107817818202578074298236549896771405950715041277665716362711455330379810386144767823958644118775129543418722828634036959214070859113558704632949962166706398767542391054247369465296615203277950718989055295503210489076331747779987055498567757838287254432901668193433114139158646879889823112572581085045521890563623681739280431283018676907862769465711079278161827688213819543396107468112153636903331343051696967724865344482364685836527616061481263024506830981289988863561150785572034247508986656235492195314320182713260783056200188370222622802972111424166412513383025489331683638459742760415409332622799578530807144252716353744121233176356162759849710083589092649173072398442463219123170907033679358125067291365033019428116626668721065294883951524771143748788963295145506933372771507486478629103856830738994535125201325045444658550403119239652074682217619096298423184208431003183329034481210274618053810379697969369155246843031014798520530215158013825139037049762816677456409651722763299903180122799839304417521184461530970835459786146866093710966636485998378684915992221208684591419479485560310018224609334861948125801076991241291184775546508647725445268664385965667927207183073522787803466726126199493751420703214149166989514082489007943357169233949648265286564625770702898171158935983143477656568279821824940376226074645960922552353600401393969433384208146227902900793262989080292928057768730524901188096604393120121292239809661376374952827550291681063955322733699369477526184258399474802229935054276831713579852449939259975106002104617558811428076346270942827013871299235126347216476315528417617522925475780319440473364842481066536298029143333252220038586022151844438308845222324979630261002362024929181875567135662986042570499269317912055991868586684584820830308203340722680330039141639946189509008454650871631684755568539519783905893753695335923270373509437950575095752970729480299709441306702136281080408918077542220883623567695365187619399797616143217437112636153254537023365898431801044818969099837085463339247158209788284103442204364374897249400239809286653303478418603211837307839941872044837650923084898339294586815839775632020038460594064581591499475781350928480865938355763250449886946496123570875538799503256230547151324985277620842049197515843303366260547600442470517233622902814986323428290399557183112875764122685481062437989215010260091809304270234252259857133485850834335771783611016413547157282290395719751838068302174737163536571519368198668358227831036817208985712455435144491627621440764735925522486866740459039014908355353641409795849783999874087876634474139282434057057164328248721981926143269238489884604845607126098172404077582354347787520578572478548853423973100671130050186782875183782368330490765544376018648814588443175400628978257264376841362497549162012858843030075152055816133619219459736796116322779244981289679110284898262666398955677944857871441534914903093279414114836621800067354582845636417598399436974027892008504514826541562195790366379905762052794253806206630284966669332972312891951441763368854380100861294700187920437442419168591502510106637682327620194754758349496356190863439859971062530985651983962450636427254207271874571546731219730234717935177127748273241790887263414781780211249014046583457052866677083618267437009238216769285304946999333085490860773978131342768191860600064320214245865299420803209176517419675260408552091421191300759602853274936107736010087298742159217462139725811838510498131365189243088468117405059626844430404312138961612924549208392447256686329005160677237351181395694834670579357676443864483314014250935040299419314907541749546262303140176104140112713213029698014187005448092414555974242816937114862006561173171766601719679195890908384262142514496608034237382779010431671507125676610064286267032013538557211640853296971601678416951412016431988123284528067287831782870554189626090199922548329516646818198470429401320955253361259630370066525041835591088001945055890417340588400490821603792671107359481444916764478128677800018790533874995335797626166710856770640532202212844601182105303073155124914923503786945743820266091716593568532001471507027706993487319134228410483646795905785229768156641630062055861174085836433295074485344270990207753358817824278564361122441344612690247870236381558065076336841317666089355206873934015646053191026541294514723419134956443828033141702006325386956123986732530396267439600838895163503700157547830550742768964051164664255648042268818210289198242230731247935329468878044657494525592149156016962379238010285002938521056240927174670021832586241209564788308312480117343099626875854120167133607663752500141260195875909790770752043106276812456168994377843540781460023443084978887633773803337190351208369900568952786110150269364707523733067943237156607248997587605243963688736508832197140780626479676644994857736859375384256718772207308433966424956718222015729112676362073599125362019300326508256283595674684925992099215423081973181415972918363632525588201599984728873412220530419423759821962697278221938281377990425123150398923284293838967042800064013382470763638205973652240398572321937758582387955527920123719358291283276137365857871553500750372095170526563284579832975545378521233014229704313176786648103207826683282401718447088995776206201842696980565302510076771299864884286597679022440428014662300273154389014622482739956990348262802144181264458786732090263419706089064581959049259994805436390396138746194691677313552590693038393027601860550108649028043558084107708095411998781648840655673903114192654456006802436119513454310236002958622917342645032492332987600540908834526499132189337298193051165513526131163937699205322937379607786184415796161051112989140784742053105016451171705247865553810807873365855417370442855740098591600212565118105351726599242303607633773112412999690261132919003145909914950906459507138348625706888326354674888150214157526701018109759718386501519625586876246980195069161612031739982955919094035257869002504938663349756190620483140817892222858497245554836799691536720848636052105122757024493813766427139883493609974518553822821156697878565641049000005619392042825290360647571853458646124602679451954297449279745646781669892124728853363414962813329975623240757349538696963955984838366457731352575750337853052003004572580203714199956291504122926700421496880764529158084668143332545822382374874656665574458324648066457023148647986584696274340843441165198282725673153025760540201471461627751498515934448656281575893421160393439859023639923952720454728654741274087151858633017330113659638180473886981786177464625755049604825092226567227184503106538967140227876687771986955435877749612657552646316786651675055912849501319995536016356116400229655434488510481519130415556308895319873900682833710696190624873919067487548637086540617704827571770629095941317552888230153425761848999421647835683690497509673901385092368024663864236004642488040893327425008397614133608317725584359874163510971962561568289675110420275625822475963701275832726675558129654311661692279951471455582945603106983908808439649846049844907055098426432724031398649894291358124548268120626495653270982460347731416010524114275136009170939236949251563781698290680170560911060346376426137162479510413830892823697435928010503893786759137326676897315235335254090579099519698573965613268644352441927783094429519529088240161911788001240445485043876819576089194796877615414752965902016371150060489296017751680294560759584558313726249916708401652204916035378006660789153883210381561711050640310373288885472287879090001802146592253857213375224474020263696701805900107496865089745049805087149989430277904784287507208071149617287273632615522580470647498142192771355516442281494293893105856085177828949604572658033970458579903676741150697535126053084580292023326692666373738514080593166678781747415700809995860539066665800420356744954855115116949034881274758311873442286354677842078227897733768065947380265584495436834279912721004091606727072898795896421989206561623101832920533082016551067401991164577269282162959064438637541984920610641045476998633452960036850060883411964299931075336174887011235903729344337922692706313504392873316711796676932355654452150638989434660153129726367778878751987314606804075570010721402062572511902840543299173660688813507980980017350388397990920614661677608452963551885483004393896638282782387469924942172724691011030039049918111219192379702755630264125400202480678387690711204545193449400385123848844238191987043585224401082507363427270103369194114573490570548666498364756250946983698047238272851501126753038442096725159221216989542228702097890678032666011648623011962562846419322502493315589502715909793724357057694040878777111634752209069120726553022548627257785416279560037338420559489585306544246840124791913296840679010771458710429029805173427804342558814199556277650957564891267477128111816835200906167652114795068188536715823883279291337733613464535101889920347462353003105765054315057871115378602424514996119892531701802710652793939811322703630192837269191799718872192122925894053572862388292631835461373790712888342810793104227919411973872003441218009543203195240009362365861639179575180463030239026118781005634489705423954078316267876152090934761440261430816409267592152569299723852094055620407597124565122375087629808888900387503322767829858401876517241876792942499611055503107929814653836836286732260872134218532859387406416125915727531555945044957219432973166890321462109141934806065655131622321996035024364942578029274016749467639391863635198965504207010321715380522629122940788859570290827293384775377932172592930011253863022102721492855180946248082762088049940297465390982783591326769769875306824830992904643849301949406599972070698631807691936429604268894015052252472575983654899571268849028009291610539623746920719307844030981222229993786678468452806864318666397120381424646485847629441056431682770756728262801895042976607569055937124019905911974335077327037614995304734279352675874192109621242800686720366520155291207622300642129622341320568584886437528523424194184578011047192101196049233265838343820908967568846207535561017841013004292913241724722275531391452331327120095605293660000308482358925624309663581492906691060922952620363266855087597792115147092309116177906619763368465228870896398435635934266671590919546953706958882826595519727020312642361854008804568263522604873820505036520039265528030040565048788366984229186502643164033014144313046761204210910180167729010497455869381127353754069095937636106266684394124067109335330572747723292455258951507217885215333225527364449720343730912438844977627792564487805551334625313006688047802833598654193291202122065896759045930058764969495423691571954365414881087051870370906773292258746326983414805079281307713090079665724218384405266323394658161230831476820190508409103463757274199123376647947456816973331321760600743167403715889013921713452568769662285046506320058471035132431717270444501193277471300998951652713241466691564584400396792350930114663746480039581252521555970888747184707555133322409567296829251852899976937639147169257440003940712223673267885692509816635438872020678315773095516260658429608425987669863252840693818940016543556090846565422556601258837622239317246102634161206693804110982735783009345585776602074964646056811954462187551176184715155788222158911972043288438158121365051697120472938587012785450521583221475046767566887515186963144343900728232214644226507719180991216263809994469062201115523581356914205977201934986426811194785983898859705340828894227859589485831688262820433288782297227027731122855093313998962144138578137483056086699444838459867706500025298693759291952825367150196209882885919110126107561111309112077399012798866088309451294931059935029252557136193833061882127336585185565140519486049976176354629258308693459757024768029586068387059500943044588336416399353931913369166001476456898877833063389726967629297398414303211994958517417041605868216448636877936715116898170796703541252787679717690801972334963871556503554993857469299425751634505965307122756055952039735737935723229618398450854829031938972798338798804857490550020717016936701876141023024707817139212098170541242577132875935134624548778999020669885941861664815392264018555582880150112574617254787915944231456412946076986735522723145047980583220623553066420232714252869061763710675829309487029644134324218624739432001449128866196707649698703031861168110181264422004178512082903393308358731282973385846867891808530861727850556409395092766154904025622103649632674068412327718417181681277982832678531637748475920878415959369307890584404838812007980107751310186946070498062027889476961000931688813841178071108270249506026211265925777958832697624069493438648538122174237269920784031001046123424076695143968810800557078279560682877699253670770418835895664617735533266213221803576780112876548073794265048728355697502629058424085658254753321317249604437921807224045624418308565239919459944104255655649043937375990083551203944827718549100547485503893739238152589093382002182893939785217527411307768541077549229531521008459199088376453742955320021290393451833058064760933428890268266167965472882698139313624307557705693265695345569401669030520446449484421092764067493210671964110232826135482154780236887669201943380352153338673439297540780117604605654435646728363965496522949277084978355902312373684343199115296426176049326634935259049092679643985061571757555149522179228941890633858158556457960918199229177100734550081018805830324868412286440513430301884086081361749115003508956826896082141235797929233313074963205287065552653482884719082448709448489759912361458507259172489193983096401307155671823270611741483471901820695389160704474809264421292550528785826675739300998758921120579760247813986138882207530960690729110175318048763730263275993199897951023591724562882195504202134716028286796311128781650441722460981531471449602469732017933840994946478061040207280980949169463337048522612790091129495201309249512892051476601729293903516468162593908563097837532722242751461252162362193401783335065206226387937805472958303274518729800019939019804919459922141229352795518567048179242934820571422964422658546081499978990937966118355813469748074833886299383529208304771004800768220122281954027073777815492309430212343807362191168143425308786877707736733523068171444590669168901591328435074361288361182445485960429266418704296254921029274862433512634215890541508852649598987395609841282664512440359362640197817547296643014591629610382814034012712849267103420612424898871995987121189374758733834509929169321069219766431790856733447656063414399893185850393995114912709596213256084939908682443534176769901418918337240951223962618463664203918549797172739929592557544721128671840458998699920154552160958092335168067814172811589316578673167558888366039157277897158478012083810792226419632044857808702149697370094035670360198271013311385050547190484438683971754162380025954729755071502718467703506096633854014258669949637775039358548399142287741223596017565271476389964580051060163038328230813402977536155555687779895355819191043883193565352696596071841922578075435498763277819647134757417302398726081944112609932601803958321620000797375128322481041078962103706848993796367058891916514532820366758345203165944426171608954126710742981282636661293656673018037269671601712535127311084113463803393347065892572623094955265891529810414315682839687558342693003342009379313456914877662204341293496033895783011020024719144916063406058580197296788741543935952465542154295838411603287055076908781363295063219015628080821062453229498089895945035901562409475582278263979212394974332370118341048322742772612745166224730666409218352510839463681430496104845408067117568649730857554586298139322022779076517561645665013793580103401517922535302524665809940165512524496271666856611493876685264542878243791765653922728214506431723881209790270957845093838987524698175173512425361920380208983169272375385362759644433038217501551046213743590907905611337213338108416996878178900586147495250132415823637752980991365863054910871754917587255714834766876424809770833555781762009756701286893836379287295130455004778297614148020725435386141819390704778885361211199801906520709450133904447712144314430476491212444316461400687595767625604881005130225598161493993264184421533473136982541653152886265073859324164596778020724536906972604258778019826262222088402875492375465585594772184173057747062377241327581908120468859232349633338203908294758396973744201792195053229046826893638612190302812118539640612317540194131989586103284599356184070206049759683207705304960178420501964526318095242510952021071251820632324708952909029078700169462705913767394363593927664152020420662440249636886309448633561676416301891983573803347351746118576738037281976004091729698746261468896702536326487336541784509147936825660784097248825213199519804776503460289740344651465320697675107761161806826692291769295052458360317401171572719161074579135557378028570399978930087276622277404130356709356648214297392433562780200154883759259544280645868379303884922114273067743923203229071611633535267116537776415749735698244102880637645457591521741344343669953888507105372908298001720489097824218650534574081375064251794904917842451365292530820227484962397186256943978950446162219151791564771701637512065501160820291463306481113064780639203759384098628401710818295419202814176507387105102889860823753371033832476317291426157748897860374681004195286009557943540582596690323915548230606590131412901750671029959044730605404170631324781209102736764676678364512053990730319024848174769138799706589834893671763248270049818111875692872680798363036337784934262413970597530112407251555654498063361994924387845025530955607231821553314520495903903796581882359992755821267384503641261184945589674081937817746598173827577649988792551762499960815117823302123189719656647131121621437718800079602162383318268771350245786783887115331439686061327997933749380589152872592372046836246154735932719320460758132106468005613487206956361558798696228843676040873266818408875727130743574626126282127708769219915501282472814817448977549758397034116596358279996708979140653309196101850330775496832497750456636861366388379086666217328501474537125747120407524387554927004922566743901183421026573926564882479064186750526543473071155370243600832544562868015396594356731389767649988444898699476564502243003420188051351567928172133288876847680602467282836546184687018701940414769626929656285988963336531838381083946744804318386693543372225047504894519304600243142765892682183085160110136454414002766996978549086360514172953188306701094686424427496788825372765531784729923456383874622146834728519798612315677219277135207829260348023245609463504269334810330016549169439815499441329456391999502545158564997679262254153791507868031867365287294371007461455810420252343507997376997835863250484073452179979962885598845010550648917454479282346153869685074948959077359986665604121947785898096149231137856372404254500989219740111026148816063215815706041417634438437695688138451190885990797569137796768213362044803960457939163584187113188754560337272082535148809516995219359962526528099334416982917205900615441949219129042890468726062574107315178607153894226958434246844330362337591628721606417635637977553877982768005384253506155625644510298456724862159960128357956641407067024743864684385495030468525927981054864437175851660563404519524881061647354578624786603388014378321581311348091378176046089809859618081142115799829086184331779023151690248995555103786936515295117324779048872899615122383459916458425922126165269382019077907372881189829784451982924488714608766712299139120998586641204938639291820090629673062773645393691425465132049649721620839256056054743504411530880381132048111640741462445512984944887798946367816893361844293317246276819836866792464066292339126973237754405778486898965009605146647663961007315120883035118249860228426820345024105909575875221080036154072220740199807470267014843128326291447570320736590492691755985209666239530085235240918884287594394666646898551143485292114772112418877675160230692849278723155439115955251347814721468996092089392646048641926789808241726285612354777624281026021792488327532691447590593543061903660387509040001073378084246471289945885386040977733368880274899486293434987531281453355861142501922954696164880792000115075199063320414033756725098938462077408846784401044185201174291285439182202408363582076397523421755975843650272939510349989865339649532044174289134358020170118297901143909565907971370417518019255707520991102954145965182099394925553243343787669935433766012280611740392489145675907155839007778096429894818923778332297939785653749706367495338072982529721685066299472762224625040867604290668887424675969306741000592656536908106924055438395438697466932702665112685958552471111155425341860300702694509728505936268840736011160084974354305486250943238467032145269333600376738610424442948370141527914243702377957602511388223499387105736364937137764060266791155131088788493209528686855284527904704597979543483262887616802247507773504974189401901826675077642118770624357843277572726862501115349482373780436589008741922563607076324002569713547489925408041529110856296809399114378633828388630640019851889117420974029226035312695002304414082080329094840456201183052449636218590302056863460536399375019559635174553796037330303922441315310876056273804805134329124461011262308496544117479234856305596627778114544787350651888566749669000234518147908858916267093599661202461644821926536825742013660294444392965702166109664794085349523232023239849647753060473025823859482395781292614107636936164133863834361096347246344171937006828650290458613028481730276807659114954153481910129331562660498233629392534545522178608884823580059750085786986412014572821181068291410822493131006174264649119578204426611530006441987918254148474955616790676863022876041796702034069216560027272695079185536830682068551305552846648840165689160988257689829958742548628592630924987710536826245807971436849046541236504137266331614430394517319845660920653311188605782471997120054725147780341070099933988063065390422604368922129815530562955055611797249848964271166552605119091130721087741224183466885198949123364031531986046797572693684175403791961541185271915639646622564095817911294169540455852789077961195175367605052367730895985969080342635850722294577795301180328047233091207496009980826214731289323094442421243743587593360906791807641719504522018530222654730391500475500707374617463238404212230687148297776091042510251995221473399705102789883463561443576974416536228020966665907648366426602743192342949095070472725077743816093417467515636275862250036604482571511353681464558667163712571239523318320458551268990932242672308757235611431199300322718817281699965716039563360965409114206129974139492335758908994135431321308820082890905745809534491710842003097118699997945069552136445507603984865590591165423440750237917672537223466062995031109782213198098955504979259962488880045326779284571494706437186220355303187362774402003806577066185609267049307043344952491188228413171123165017484002175852439519905978794939885076220818407468964971258990564935049930995269844833208579793145457521689279858951384224568814427082617418793546068921151537209625223157890071139735690499534618987156619740839840659592526903069573895778272457625222796763799936934275534359917177270895275515954468637436525476289402959649735687911083455076551267282182071906847483012413285058602793141375002926003597017687338917034682762764073536641953141905091530835171425569826656684569252186599626783221844081561542237067746626276498274393416344582548057223746315549360569108556775875582220479331912178390288495927369689530223114951768241238148473974805962686186608949205046009611752266802155683512526592944745915057725135932265087508603456999062823879580160547885355948918017410561207533529746975186953193215598559236424631751935174433323393309142249606018785440701288966553773626153093148265719186089257521546760193723199845353787895438169666707254309449651098865722217349268182609550502686423165802003971023920597723457433579221813957916247245062123336978276843430807591891300957773422589798596857303994855483653159238233288152544479218414193292028253317477050200496583376890921511254755701428327031950378889659451194792681755055480473604252669899869435962681970487616878783547770137285285346928715960882510111819754826306956431501431972218662097658838692049712184428567994010777111317135299923721035875948038543007244768640395528728786505744025606500120061943982691116076062120225161030024898239946611961204031397906114159717313894043747731461077519771163543220865791072575746686507171197497597177287327477314522109295510508409531884884647400940366933362291776210398053335257444636318424802893195012896565958926635041524956076660635939484050727508282341068541981406839458048050221446039493094199343449107161449949602949065030028866809204129406055742823371621535390220067896181360671019185074664231414876800528171394325854078609090736012674498514958797617372250105135216263309262146810284937404643188321251756454606075210305733501254066134503815869979348127000269966419273094257901115141290218046836436679635355590626649633566052180626801575992596770194569670804086332282989899133554399027479426657185449653946380049854475901850492071335832164250077383809293664964129234232318116025532382387696986071291063840366270793787242848649013062333440224896587885885635830893122311221185429493289905741412287075372772869822979135006832571121904636283992513302907184470100619784895621283922738609652791203518586970817787226423199612251851683387453396767132925522070228736659094746493605612848695424577510692471400363930415432794182703489796298517530724042582513250998005148366273352287506221255951284752764243440456383947039895135132615555299100446449234397067720526325901992892703468353633082866833812975717711890427870007961861037350640860084033179277412126953754790504119280193568178890417199899085636616458291263582705729489063696711843287058311494932792445311764797713268838716107217726473048167370281978878891546154534612948329102194214188376039443846673581397617136510111614802750462992262290380399100852533197674024254841390732477283543566816239937892426627278361302525287861286131420800485031404131950584335507879487311509871425571088244011156915427151691627898160988257580914521681629933908687859753147634864955964596978513987379171373121391185166301088717015393103715038206030684722445259553738344090397955551235738242859369421392404815228481111205128503415045261580810183979849720112485834119926068168254591310615241039631034387507480926585574254575410684287089359732792598355833731690586716126434780750826552873490081063266424984374071433511687277531045176277842012482799842283023867870655650569803854969193581150474518367782400727627549200627382656036966149927378152233107929895242517403246221200010490752541650928871742351274522062373795652236390420271982638608215111229545630041686527031488681498343858763936517498237152651487324843437155073325934837780018182017251011671121233417048729474776679121471814563307325651682432647500113559251678061324827438397503369555371374114901449237925151720012541439910306780382590664161454390241135942889591353920318922595652146070805618132214779820657925508910840192407729250485553456286080388149134277271658471562934127275985967357662125130272762097960318864198879044700091015956365285920441723961697036955311507368279843040129520265852138824023623568482920105140763250915861997973813217772954566796096258246113893973449169770241961886018208446378744626985687146887658791268922227285405269436195255613013777454705855090287269918736044674878672129384993794685017802075257044475078106333279696939265195219744725332669978852612118622813136212769393927803147886229419821771505847697325329919312530896467000194072097539220263986769727516430948202685721250689326535038665663249080276919449517379643320093885417769234269113267840638776436303846880974020648135169354327961185079853891869834141545917725844651146830133684105478103943824875433721126989050649800538334253143896754602610954045001074552677493098390894715902539079504106403895808857076395504712946590549739821651101560204739532622391290024742538376395178131232568297673593950980477905657391108681089086934817631700601403107791576261898869099914314253980826956950641095017609937394390591635541047700551861155065276783857800471747746954853604177780417994423930129897957037922857008769136094815337686842617144623323850858835187846751003087385991585568253649019355373636806427341910482030725925905071638987983921911146547794899860621498664073868243999102672075475294106541099787330721957203960531371446551486563554696703640231007514730819117061438673906074311185777199202191491962012864843109713334361124150722292133625973023911193009094833157288649229758943056676149106829537078415581825416567200431723001748691291930130659015620546531878970489769277993976947893749412343033903004558788477957838682979378568987136786301895747065708728875407066001853843516278640730412847928672548256682086999416330280459143817690541465119229187922532342559592551200018417424109521520698851575674039329939318165336850691110182391568832193359604631999620432337890384522333983288934380602149093294529864877744195821282375076762058068833613633483421215476576171428960075115486811917112207824498123316132541820934476187148414453680914874024439472988556955758589255962091424301618276549595460616462772010858525175413649104226702387571941372613564933216146504559845516204679217180698075966988363965872806284149587535885818713602411049725500704752465191765054793347038615693797271537518188569997410057005925171016378575855845822166438386839832549985557531651266139024002061735777092887391497537081007537363999748479354434354430258622958502833051983699772152505661814277168757573286864005810393318629917641660878431406864791461220473321141747072525790587564238297212842676432148060089222329213889735668144292722395078894346131967059940089264753156464944113736470466196726276392173699698666287276432159112722464053991247683113155470999296169495382511539853467192089512857485753989358954553680061944402730272513016692811026655291390665651182456523883373544497576274581091504495871765092830962895788152996612007870015245725564693273990312244265052893394248547324691300987803362697530719378463377262368245095559936200037140963703773334114942182693874497051586887408427881942320038423104388847063847333696971015398876456439318514576869215854125481060756998620915728749938432947537564526198503159515763829295667574587548546616067359956061514361170948163019534959386484924394095831332048644993295885930114004000025567545892184849896891380255419014653908778556806567140573669909216135599474808238126390529589492012771170187136654212411227410200503225831638970665345812417586036900630342291593755971127150038528087362693021004957758495955998068689176058433292627731354092538125187004110000878974680902432002000827142000438855105138881452999899125984523223142932042810227765114652312254793110371731357598325614246525624763543851482594402719583302752703048950663354643279335407181873160672699631277565538009278782695406491800136166856387464409103999318226827463357222030317841771659499770767814216509774670522542727276405652501348486712493006187301018489007069310406201225866890627243939546172374180060158926518141571039923674195764725060586754357692612890229058146189692740351884303722031553509260074233176663096268035245521638741563450550753333563249693902049819757792607662563945584504330311991643231390592368693779135550630135360597380846236704605861835913914024048393576730732898594837838405966814008832266061954613617661038546320738091440729340330199996371932817681403395262323380529058326685614725921961106779335149297886038050845473304440037669920942541714738049503629540945552713068038242856959191635102168679160297306116995569072626592047307614597966368518455069212992842623719657094226931227185474290407545519298454478373793546270554208317581752140581077003263664465171802259501050643409516846460868064930921081719899549454196537240045970897172951220453753744807620552684245967515525390781485953039194145224754529239880919573103780891181619878393508612431724121109602484288830353977910975818487903944526374515596743390476655310704121950180583849729623293922378170869887638831024532370518746180052554454380178078198445924000488658673243867358041549406634584472122031049102673057830726578278724924791731802375682690188832251768022767177842102643401977838144364194809709946713005049060531762845430473182622052317189709432749997687277954564731836180623423125266760134609168529494284303816625097857004190470360183611747612701097539412583780399281333658142463029741640893937796231320085099461887117092334350875209133816951233168874006528732261911113456175950950149370940588019468922695561769414727091873982713376676690333244708327264033203198333815016590569639396158551613851524099758063268997233480605699902551132662534204571544678757257358561035777469474085792293027423864276229055388113007938433678292950738135117941832840826621193986528088669030265810426669525789279480255397766472499200179831260314131817483935631776932897145706295857850624415491802322953756149841027416388681221325832103670216857607774440857124728451271580848489439771534878628873482504673248520419308326731900314624187603193308115536493437029814087979096650866959493418428016148661430698896975874408384603640859089798461876115295568539088552335654704501936391928259869536775232398954731566534614942870653895014144368205655713111501642048406321150221793466307391519294954966878450076574379603056445334208503479417073888085034662470897984772887680209169852354963819375576560876348245224236544007101483982567555641761198958214093239613590628893877738203815837031096983418372339919387760728215557294517522401120529033795062905485425405376561557414706983798463724235073966320344848697321865372879831988652687544774852851736870028307110132611448248604663630474757848424487340952865215793509541849724467773376292192210988752050484981003443039903039770007880443570108320650677109648378636531094808662299707303283349064376764920472982184064154810718156943773389248348086139720937230237164854697100339907928667797143853082864792083037509231496526032450531048349262268938523929760583339622807294268828472907629939273357217323020747345693634612381073960933348605200125758955753495123681299000273341678464730514335540424882959839080090915377198351951801770656414677571119869058827225226428994235221997169261071184053728514355784657963460664040360943922162407753829196014164813706090571952766649469754661455296700030153994624147326353287919605269306918129835637144098836178898826608206681529807250171971504043048429204676347951830999872712600264287274770156379431827739990937039349957402699601203470395191524453259080375666684408016391116663499622992810991142824769992201473360603670482130275834767416357930228860059002685003457986038448429312931475009466740887934053526687608616804615816505545390607248854113509816868098836148855128580302296154561028949140087818047226909928835262781488109817870354613124147616433016312447430189729673598281236512396619225659817452930714765449344923137935631540443230702061912714654387019558201246152273439895729215872121230171528763277615423678218806752775149084647443168498177635410717706985110436569873117542802871067727564974490854187181048292391820833008507586187105462333176952127767042627050191894668918343585012796137514175413490707200220321197534250539682917045408950678620809478045324854768070994584311139762754469450114562872614758673527589422051029230704504794142581950761003472193872659878547589666591234204640223422244573587615017942435569080118668104068698682141190044794272620334730733310279638629681791116288926421835256211762907546085559242080596647607158362182251909136899855162681666470843252231684491143856834351280655835851381069910365854830117256755617017043254182416441998246042103411400838123649355589430515775468416484619839557639768666646306850520183524026027091312233140273363239283163989409350199998764947987897034076393468742470463224655664301151306268293747283141457918002964686999362494655204493164663960159104867198709987555123883336019889543162136276463839027427701506791030214562448463850525840238464228473293831055068722489619769129521084477001848533664133852260422581532788241186164206502182020141945126146681226790468942259464963500868280000491694870042125656474661734712066095250154616286676921121715764447626130629409319443573420167597991825478771710363921230502557410238352103880755473165753745408584328759439731703669598915247860027612126984818918595637806372016585106533540390802839439016241088564382923404587449428524078928840386075677270953199077799989484533830307189140564762363257601142799769591926322535294727059241430479861188162554587262277217996178948424020592009223704129437961806737854073369962317037037820707680015288736218915864597868573046343687552399300810328226511930262120443321875263241270638570868986799922770016346764782362482745614982402319366830735911251458186731639289808538037731513152805806467106680463877826166539208709210595693755002150201249536551411953801692467698168191518942704530652229658901888203383484220208305473981229868130441450615185833940136051319192894193694653199356409291880372875772784903876583414160258255289417793947843967317968686244767305474563522728587472646835297365656739617730328691566885424350677624873585897152811258378028497036460203134990154018790208806056378168251843017098846877804608168576092364952155404931607378009071062196056955993818461786052712130364001409404205894712961424709916154459484942662164402517870545979640811378645201932648198063801780863431398035716690216069163705234001162766076027536336045819688040975653629846657384896051391788912569700010068132793862402966231699152060426117129233377806373579881530806015689258957516416009276363962980388484013209746612324350863124431739600081134821328326910107272289155772275801512300183639528707825995264898797165791207344954729253680166389111579469952950158748593151176425205652108112238629121975251985584532619935633409589677299859145930888973077313445721036074762598799783336853396261489859095550594910113524618297737678285590509736177770334778470091467344226995954501148661522553648865046040048415698297886039647454364904169690371422967624549106415211036803039470675779804214333298414153997345558519391164296151375900287211097109139933402152638124333576915757769765542959299734329199603095430307020886109206983935613611342935328435229988332905541991380442792589516703690185861585247887134660687470649924512341001154323358737745758980878604472553433061349029979181469495007926000028875807618272896122202056782080909914206868324613695930468762230758181779217913968986487460519143895900925245858201363689309642273287035932908820074316827225703264777682872791085705961550751102924228525275197658783542983575095612751901979743025855529353573383757419365181964471487326077887297296870382092963412946013869176303115702611785536160797709139825423186622521305508126643715137481110944518493156427342058862547370015521902948265293682287571342633127050494061863456312878439144684621672701330751224906536102092733340906938641315436440396684278841306854234308115034145416510977601209941840426755207640025635279279681543036460761507582498107264757074777055985369709972941542912811197882216450874602817472486881364965218618080297586790162737383365681041366762852750209703923221204911876090943578240602494988507471382942032440897716538523946916465569574999387149872536404634034757143576051787788935325506633894462716203289437455912966842985909467972027620929270175351894887645884341776266707413964124645052631809657827896974405799031463997025905964422812577537137336150577194440007273866530763250821133233086171194439105288627968461658241374303932801320773147307288675822808638007492242591617778132654917108801093356470115381411704700380202485127194033331335213958598877548855938752167979840489882432521896014697554902135729401943864698438945716690448444767760060466458439018773831985850088860199990208026606360267751749513283844893633253299109385511260517221197228052203045506300288005130515203007268032336028280417097844840935441590913569262633803543774095973003783409080048702062825128833422345831068153550922720879503274667362995265301960398338619315078760854464432584410710230647762674698211028532273396455309987133971559028052512698305111145272830903496930141573101803211566008186852358803241700542580220873553011569721065464331776391607161232569631111160376770567851854354391372030902963532289835553801314746390642098026385303355679633069586222892319066444349504462112237723119892041970675742510840105215262955772741600669066452462467875812115288844088548144381872210934201082182924426290970409691037047875462143029099597654183722002299411678636342683301696045791738839018866342304263359283911684141694908948881341128000062842389331236772363473869914681297376813907161387184498182937481941078380709367754883493559841473900334259410913079630701541483047663427722582654785000767544303230426436374392951754319934014447482575851114567820591863088645684523663684315524315407500856796079087862505119705844176846629337530562027306806615645546401917333937117119512226755435384266308140408891101735346008927969968070662805007067198256864852613472472148545227787643430387749115667714953086643782475541121435534060657347935107606921365197675687606844678935712559880713729219038062291890034529472439122199044270517184550024884485664001379217375858414927258030207016399583558846225539209848808592164392990855479210010706779811515250663283087194615015214490621404837811862371639382150930521891997406303511740347456193969743578845152986431214404118741234734261853773420782657010703537773676509263139505834433442875378276956547782899921423374467732685817040181949044796103755028265069977087798950760805630421954459662881510318656467813230337703497604495218497037054071318675585913083603124182164738917512315527633692735787470782753292801922073541442722702872539524790553739995071910713374130058050781609325217323647064745508535357059217778755032978339162241955236040926418554448805784941007069670252792480312597591291909265997156790616481445002548537617742433188575920682387632280616058335386559497664524240401227347716604293633137184981950940206265223107469107475983793162563102856001099153666169681118191304310946683146629572988012427763727924636223508861476748042391356814140949116199902423309798416914796300496747387999595036726173514913592284943997239220536730120564131666127690858683907769002733511475950403380606216498624666475296720226683233860551414388718006784017688212476377405508745016638289261624822062787414307504016160264799233096212271905280158976989732132759492990846188986590864647110911954230356460822712302411594766361353292969956247735579350711457944710405826693886573538457667643052270789062675077921755490446340087179132179630876273104484109367387657734793517652388106045891950499644749474865201315075016166587600904139451591874201252324023372775282537292645962382874187927617330799577585150776587138918371741760989572403918932582294872396618014365853516973829433041655324656950336785520143026969130869341434552876442046819614207308000968218366449465312743438556640161213560177052401673506016273319658028712702585940745327687894414466137993677482398223900187340502749019762892558136136798801086552685925414614009731901906256428054387504930486873840378676305927125133708325699398850054701733557441063151027564100390770401103737917539151508823243656343351245003191447844138955751077725179051346957703872769185062361610208169865953940425802251815379783561509601116685980222592194999036350796766991991858936640761199097090723350903601995972888443765982682860703713606631540408351433409780977380868504221415404839860638476012304419844214292972097625541709890123638249395883758427821633829472193606392247184546197005805845737867958473611809539001327358206606137422683310672237570652828486918165283353312547876268733579329974835584291855520394683846455931479758302782985580727728571482527361408437217716563358871737706011914418406488448365517453648658091802780280248734694220081933681625685575620910961303391424083994564171998846789260547484107967014325490144585113310924286117421120738832773907462661175530169927893341478757799482949827524909966620135591895342886637898838400319872500444609793334567749815404201789076780966357594984380276282867595178941557714748056984327100444850009224742199258895770155030511160365576270850571512943482130050778561700000944651995020376826955468662844296797697024077671389212194651046115473695160520615372247212584322930742416916699029370960535044082595797824559369046398331499017337327174858333734865100575245634678195408887455859486165708140672031326795523461298174876281866867659667430954093673275936706464211530539062691118112313466557650016032239041328657943313675896173734913262205813927356101344225274958858686832391003652642389481143661927411466321271621179658232414596644716013393822980910289198493259340074284994497728098716697197339302637997723394577954816808579960826525970615703993107431715891132829886833339871297125207853999721968650570681200533439618806275871180366561620458530396518095161839410654766214532588789557579434199324645571168629989308677679040799541019663936745042630110312374775322233877636072035320256910764808498852900038255213379352641758066190260298124740831781434720101161198419367744960283362446970720041045813147349856464591143896032217219781667931477099456261609788111065153153429800403384991317854526830554784153012945119226411949120484337322719600957387123190537650647541610836921603275801824984791079815353124964610547215820069913418388272313841009173933907416970240133112086529774297408064274091451827304050152724497712496413024641969995666919956488143129634138579537403105135456979412982114137179010082139845901588059179267738299435427238506933273819742551284753971387668336299974772767937839149925938518386023928618515006314590163833023597337801899861948485254772108234949245130967395291350166442940483943599167656283158245051198275985864851096054378121407225181166127519836799180118806680688956293221987457553652695322762826166809406202402642200906312406944869598636205632393417071143675560452933866345253213868519919614327333859528783684236007204880194540340450650513168819550571642611565424958052252883461087731134089160968131376129484210050400502291291173418955732941320719873659034481489271192836519157847375593767803267939967620603384384547958200823994849979576728234543640147001676849599563535567180139413773122493432017498264033474273569881422475707437614935695371341814543356903549673400306101103812570791681576967131570712704843652375724710012024120735067808182970343689340793373747670139900828090583522328384268881095394242692889325114981748800685840505579997332019249269459618266339530842386808909858070732564839964485023098580283346871738225435573056067782864648264797424795165622140078505859277593299141803465937492973297375217884649457848212305744672657104495360446907944130449570717107681878471548598978035867053710180288031899648575494393244666204197408111338627837631512456828989781520193124595087252303081683615539115211405093022103318179436040326274718279238509683698949661725775340266165647282992299092353430038192670139541641854922673176160697658763646011794351371235171093534486734944381205039290526185733797575307977038243427243919300408201244435361661325652250564695868522908259568231790618496828552207744488248225594058313479599179967609948630480306324822596751247678232548068609801673262623210381277804947318133066604303334156985848063353309881003341694410702763852520061666648010548694598407675761722530944315895042650479909838521029942890150742896618706324714986668889447959950868052350890662934741703624972351070963318303033155785982036926024067525933932710679260096711597906888960285937993202203316857223841423787123259124843629878975976676810985316752062206648729842257844602901095272708132223566092701138603777839321154554858681443231068929897711886118090574599284531926598856903106353290644934306347136900938531715338584622241683860371264836944097957458107624153804687221070628787220840123245863753566027489878060427231126453922421726787768690887165252653488556273642676343745957443877235400823937163101936880238735987343976211493361315081039629623385487218627496059473711315604527466149802416060387911377713799029296911077230517765648741981350614852183387046733268428824282030278286827716985980186627886832612165375834124401471521077673850064881838209852427890631897017506426201062756598851022218447125463942480191793080584050539399838500711085183364639747098386839936426847045400867458739677032695415815854852675483856300343862358959642778219775357662756591732219031731287460281817429705220977352327187138759910587908887988434876212123666468780159018437182185429376314029061164661552065451680967365301993428234754082145893955810405671906932765318268411372818436751521980841299019599394727749330922946512240870371938114188502952497783169903659230143201312568654183640165941288584577053982226102284215555410267834334397510558479155037421323156935837767444187921157822772258237245562125041008686640204999366597481451063857815999680712882008965389006763155110866907619322958628751262024660972600902676056768725989164506660391027488173253753667594883972198102821799853002120733480516037316776301028596807872395190055892596452011228045807185774561652565179067746736551864880963373371699182638772978605001494035176709855140025503613599093599667883286396616890284863107655707348127053018042801899786477911349393696488212269733945999001364890571533546063598196237043423384561450653284289541791886162969619379274455597117527282911434918607893129850752522202229361766033979812856145599372769742712550770670474596584799212143721742987343135412073650417763117389138993289726637822648560031382714767415191831205388404607085638671637860341105999679398758867109377341214465342685368584762026226595178082806064533925128159510294768816588820776907790103042477478233586837654433602093916973735567002251963060485242404014609719225489705388813139047651178759722078360795658279677440781618315774176787596261097839429964100972811355669084836301234982413666050498334156043758162584150507127268588334347878115584831500071577866933864290589590556642137638933997604038685262891123404988315624036742620361898904721746785223258701306083072105160420951508733059017402464481585881963226626329680837579663759010537185098332573736795316876377074858975533815908640057123363578111142134182831107387298381062201040671846325779415423925712655659756400203576185507789026373216862819563897885914962909149823216069735760832547568523102527244940883083286835417224140038252700560671547758695695172212636149157042278775737483394081000333103083617794522349856860355174125971075673942756346405272584741852984138708927568078410721195606178302694141181992083427523034157914052563090957985404061830646126011825812562534162465047853116505008105838746537351293774707069722746304931340564584705621917816428987960654736018938116779882318753925687571487903127702880854298694633907051401272073878842697338501294786921878538758119741072800826142235146381162581891999655871897851075958756207676516336978703114146555309422821724621403308181628730372921086084456820719864540583537266461126491370946610861205922739314503480624187544334287061990546256942913822761794570049622033666775927612291379370819640479094948322289033981369243030577317997503382243868459495042858331806398347747101467353229232006586276749811487953235391983360754437870399390003859316573834766310601084723915209567854877497330666242461633252211601820136391858599080145735840633556478280610867509738084846644505349245969204900249777571324855720454081824502968784850081196481518185927068190755854300996638139558496214143668152917449511831947011175860953163773330747569985704547517003111772772903702493364165248900202813591961730848415599642443386677293947706058707334298219661509687845671833139291753055854871573609101371854955881498134371265484531617182710044384137190860492237166461858176244275168295516013718296097149756723158341270338946265176281574789015667724793888167171278583556445774133187380628688453707496685368074218001499034381639659756609825283138984915437721240635684096633822366248481343763314803491632647248859296741471526998669676866342172760635422702835713147823734826474801324239837086017333093568827697618112994638748285544574655182550320883961579722192130874527494767459255869101439195108353701033469668813277058497827184918190304997772279622151844573935215754988942483866930337782204310661239820340337686089880848245471014182090107217186687774505076377034521218806656160681383672080268579265526081204775003025406296361103600296800233562508333840452058515372395930334719196477494902377173483387927657123237417850633329660239920943492146566714463426341229161608753033551334936857835689138008436952982861100278640733722458849515512733943679178516030714580287546934001689800798367596090505709612375826703350171080599290999870459459302767391411893952636321367826045562172342603289132834442852315812632275649975878304767210129885764703871441610018909267738813530319763808835088235329312982028752861299958431317603479219167621145365507400911597948877721030043054897934994407248074059528073324987621401089607039558074384165770282701671695173191677347924175541956200801279771812330373955587108851945346311625270026464909088684429080111742119419673942534536594219325932093463355670585009909040194730093258059757632939434471364726473372773340768118997878758712130233479375376312713995697499265972287237231701237168917170914225383376031010989873985658466802081253590957472277564572332199990017352518959663942268690892718816195663962069057776548330715267406732141985320940419221509751715882554048846852575893878346934975450526635352931654439709623677562064647315495727115408274061410691166451866830272031408232021486485244394618208961102823424381770127594528115211311806584449939727995732828369020679592306763578628088557503048147506832737244019697086052996356185319456663648238695938357157147133739153219163175834065662992516599452791993865560038566959476613865089738615307132042391945666271391033122619286521132233375419327401779522446378089453874684586074793732735896995190057881853989509532246485193459086080459217717243223296581824731330253497907266019785398525755245810489130666266381908063116357314339171271085102965955924333820801224172974895161254300763440201864350140907388623571112655642249364039371745346763972341438498108714759252758347670760298575581995370910356124892759591414918277444495933857146757338002826994775796575602136078745188867720243342542281570498248437321357178638119695758952128146885362349098682215215305966341561596431058016119978959938133976673094885902703623694768398385859118327455182325615803209789754472841102895258599664674595381440879578190627254525279669885091457915607020738138438034038786370992859685244504165042845949208202203163000349403094187549080966226729223316368187267247195302573698065470854716622992564979734388633439669681373715738195403977937583233433277968353053331764231615263735154420399680370927802485766101669185319696627490072676310420024723618857852841823628105786084854826204391088445153419289206319235350178477155279541164036194763421025712149378551954383426630866565428100494279510757801878766968024012937785326145637772116549961756233425902556899709318968786972167560609598041701244236684476471547000048197897167954907815492350765691512405437328425906351784970030216905561991839895366688337388551791041530521028938761319359533798405106880164276443787757412888509960198253706558973597160345538301281012100952319097370833069546258977177743830667322095986810025432312075565873749408421368850358772003189568373826865004881972376879641956578550898002337005900767024477492845660816988\n"
     ]
    }
   ],
   "source": [
    "# question 23. Develop a program that generates a random password based on user preferences (length, complexity).\n",
    "import random\n",
    "import string\n",
    "\n",
    "try:\n",
    "    length = int(input(\"Enter the length of the password: \"))\n",
    "    if length <= 0:\n",
    "        raise ValueError(\"Password length should be a positive integer.\")\n",
    "    \n",
    "    use_lowercase = input(\"Include lowercase letters? (yes/no): \").lower() == \"yes\"\n",
    "    use_uppercase = input(\"Include uppercase letters? (yes/no): \").lower() == \"yes\"\n",
    "    use_digits = input(\"Include digits? (yes/no): \").lower() == \"yes\"\n",
    "    use_special_chars = input(\"Include special characters? (yes/no): \").lower() == \"yes\"\n",
    "    \n",
    "    characters = \"\"\n",
    "\n",
    "    if use_lowercase:\n",
    "        characters += string.ascii_lowercase\n",
    "    if use_uppercase:\n",
    "        characters += string.ascii_uppercase\n",
    "    if use_digits:\n",
    "        characters += string.digits\n",
    "    if use_special_chars:\n",
    "        characters += string.punctuation\n",
    "    \n",
    "    if len(characters) == 0:\n",
    "        print(\"Please select at least one character type.\")\n",
    "    else:\n",
    "        password = ''.join(random.choice(characters) for _ in range(length))\n",
    "        print(f\"Generated password: {password}\")\n",
    "\n",
    "except ValueError as e:\n",
    "    print(f\"Invalid input: {e}\")\n",
    "except Exception as e:\n",
    "    print(f\"An error occurred: {e}\")\n"
   ]
  },
  {
   "cell_type": "code",
   "execution_count": 13,
   "id": "00772bc1-da0d-49c8-b01d-1b28ca872d7c",
   "metadata": {},
   "outputs": [
    {
     "name": "stdout",
     "output_type": "stream",
     "text": [
      "Welcome to the Text-Based Adventure Game!\n",
      "You find yourself in a dark forest.\n"
     ]
    },
    {
     "name": "stdin",
     "output_type": "stream",
     "text": [
      "1. Follow the path\n",
      "2. Climb a tree\n",
      "3. Make a fire\n",
      "Enter your choice (1/2/3):  2\n"
     ]
    },
    {
     "name": "stdout",
     "output_type": "stream",
     "text": [
      "You admire a beautiful waterfall.\n"
     ]
    },
    {
     "name": "stdin",
     "output_type": "stream",
     "text": [
      "You find a mysterious cave. Enter? (yes/no):  no\n"
     ]
    },
    {
     "name": "stdout",
     "output_type": "stream",
     "text": [
      "You continue your journey.\n"
     ]
    },
    {
     "name": "stdin",
     "output_type": "stream",
     "text": [
      "1. Follow the path\n",
      "2. Climb a tree\n",
      "3. Make a fire\n",
      "Enter your choice (1/2/3):  3\n"
     ]
    },
    {
     "name": "stdout",
     "output_type": "stream",
     "text": [
      "You do not survive the wolf attack.\n"
     ]
    },
    {
     "name": "stdin",
     "output_type": "stream",
     "text": [
      "Play again? (yes/no):  no\n"
     ]
    }
   ],
   "source": [
    "#24. Create a program that implements a simple text-based adventure game with branching scenarios.\n",
    "import random\n",
    "\n",
    "print(\"Welcome to the Text-Based Adventure Game!\\nYou find yourself in a dark forest.\")\n",
    "while True:\n",
    "    c=input(\"1. Follow the path\\n2. Climb a tree\\n3. Make a fire\\nEnter your choice (1/2/3): \")\n",
    "    if c=='1':print(\"You meet friendly travelers and enjoy the night.\")\n",
    "    elif c=='2':print(\"You admire a beautiful waterfall.\")\n",
    "    elif c=='3':print(f\"You {'survive' if random.randint(0,1) else 'do not survive'} the wolf attack.\")\n",
    "    else:print(\"Invalid choice.\")\n",
    "    if c=='3' and input(\"Play again? (yes/no): \")!='yes':break\n",
    "    if input(\"You find a mysterious cave. Enter? (yes/no): \")=='yes':\n",
    "        print(\"You find a hidden treasure chest and win the game!\")\n",
    "        if input(\"Play again? (yes/no): \")!='yes':break\n",
    "    else:print(\"You continue your journey.\")\n"
   ]
  },
  {
   "cell_type": "code",
   "execution_count": 14,
   "id": "f92a17f4-bd44-40ec-8118-2019cd40efa3",
   "metadata": {},
   "outputs": [
    {
     "name": "stdout",
     "output_type": "stream",
     "text": [
      "Linear Equation Solver\n",
      "Enter a linear equation in the form 'ax + b = c'\n"
     ]
    },
    {
     "name": "stdin",
     "output_type": "stream",
     "text": [
      "Enter the coefficient 'a':  8\n",
      "Enter the coefficient 'b':  8\n",
      "Enter the constant 'c':  8\n"
     ]
    },
    {
     "name": "stdout",
     "output_type": "stream",
     "text": [
      "Solution: x = 0.0\n"
     ]
    }
   ],
   "source": [
    "# question 25. Build a program that solves a linear equation for x, considering different cases.\n",
    "print(\"Linear Equation Solver\")\n",
    "print(\"Enter a linear equation in the form 'ax + b = c'\")\n",
    "\n",
    "a = float(input(\"Enter the coefficient 'a': \"))\n",
    "b = float(input(\"Enter the coefficient 'b': \"))\n",
    "c = float(input(\"Enter the constant 'c': \"))\n",
    "\n",
    "if a == 0:\n",
    "    if b == c:\n",
    "        print(\"Infinite solutions: 0x +\", b, \"=\", c, \"is an identity.\")\n",
    "    else:\n",
    "        print(\"No solution: 0x +\", b, \"=\", c, \"is inconsistent.\")\n",
    "else:\n",
    "    x = (c - b) / a\n",
    "    print(\"Solution: x =\", x)\n"
   ]
  },
  {
   "cell_type": "code",
   "execution_count": 15,
   "id": "44d1cd02-2e69-4843-9cce-cc3cc4781fe7",
   "metadata": {},
   "outputs": [
    {
     "name": "stdout",
     "output_type": "stream",
     "text": [
      "What is the capital of France?\n",
      "1. London\n",
      "2. Berlin\n",
      "3. Paris\n",
      "4. Madrid\n"
     ]
    },
    {
     "name": "stdin",
     "output_type": "stream",
     "text": [
      "Enter your answer (1/2/3/4):  4\n"
     ]
    },
    {
     "name": "stdout",
     "output_type": "stream",
     "text": [
      "Wrong! The correct answer is Paris.\n",
      "\n",
      "Which planet is known as the Red Planet?\n",
      "1. Mars\n",
      "2. Venus\n",
      "3. Jupiter\n",
      "4. Saturn\n"
     ]
    },
    {
     "name": "stdin",
     "output_type": "stream",
     "text": [
      "Enter your answer (1/2/3/4):  3\n"
     ]
    },
    {
     "name": "stdout",
     "output_type": "stream",
     "text": [
      "Wrong! The correct answer is Mars.\n",
      "\n",
      "What is the largest mammal on Earth?\n",
      "1. Elephant\n",
      "2. Blue Whale\n",
      "3. Giraffe\n",
      "4. Hippopotamus\n"
     ]
    },
    {
     "name": "stdin",
     "output_type": "stream",
     "text": [
      "Enter your answer (1/2/3/4):  2\n"
     ]
    },
    {
     "name": "stdout",
     "output_type": "stream",
     "text": [
      "Correct!\n",
      "\n",
      "Your final score is: 1/3\n"
     ]
    }
   ],
   "source": [
    "# question 26. Write a program that simulates a basic quiz game with multiple-choice questions and scoring.\n",
    "questions = [\n",
    "    {\"question\": \"What is the capital of France?\", \"options\": [\"London\", \"Berlin\", \"Paris\", \"Madrid\"], \"answer\": 3},\n",
    "    {\"question\": \"Which planet is known as the Red Planet?\", \"options\": [\"Mars\", \"Venus\", \"Jupiter\", \"Saturn\"], \"answer\": 1},\n",
    "    {\"question\": \"What is the largest mammal on Earth?\", \"options\": [\"Elephant\", \"Blue Whale\", \"Giraffe\", \"Hippopotamus\"], \"answer\": 2}\n",
    "]\n",
    "\n",
    "score = 0\n",
    "\n",
    "for q in questions:\n",
    "    print(q[\"question\"])\n",
    "    [print(f\"{i}. {opt}\") for i, opt in enumerate(q[\"options\"], 1)]\n",
    "    a = int(input(\"Enter your answer (1/2/3/4): \"))\n",
    "    score += 1 if a == q[\"answer\"] else 0\n",
    "    print(f\"Correct!\\n\" if a == q[\"answer\"] else f\"Wrong! The correct answer is {q['options'][q['answer']-1]}.\\n\")\n",
    "\n",
    "print(f\"Your final score is: {score}/{len(questions)}\")\n"
   ]
  },
  {
   "cell_type": "code",
   "execution_count": 16,
   "id": "3ed1fba5-68c2-44be-91a8-21cb47f39c06",
   "metadata": {},
   "outputs": [
    {
     "name": "stdin",
     "output_type": "stream",
     "text": [
      "Enter a year:  2022\n"
     ]
    },
    {
     "name": "stdout",
     "output_type": "stream",
     "text": [
      "2022 is not prime.\n"
     ]
    }
   ],
   "source": [
    "# question 27. Develop a program that determines whether a given year is a prime number or not.\n",
    "year = int(input(\"Enter a year: \"))\n",
    "is_prime = all(year % i != 0 for i in range(2, int(year**0.5) + 1)) and year > 1\n",
    "print(f\"{year} is {'prime' if is_prime else 'not prime'}.\")\n"
   ]
  },
  {
   "cell_type": "code",
   "execution_count": 18,
   "id": "56a10193-404a-48fd-b580-80e0224e71b2",
   "metadata": {},
   "outputs": [
    {
     "name": "stdin",
     "output_type": "stream",
     "text": [
      "Enter three numbers:  3 34 43\n"
     ]
    },
    {
     "name": "stdout",
     "output_type": "stream",
     "text": [
      "Sorted numbers in ascending order: 3.0, 34.0, 43.0\n"
     ]
    }
   ],
   "source": [
    "# question 28. Create a program that sorts three numbers in ascending order using conditional statements.\n",
    "a, b, c = sorted(map(float, input(\"Enter three numbers: \").split()))\n",
    "print(f\"Sorted numbers in ascending order: {a}, {b}, {c}\")\n"
   ]
  },
  {
   "cell_type": "code",
   "execution_count": 21,
   "id": "060eb388-a84c-4414-9087-70c7fc965c0a",
   "metadata": {},
   "outputs": [
    {
     "name": "stdin",
     "output_type": "stream",
     "text": [
      "Enter coefficient 'a':  2\n",
      "Enter coefficient 'b':  23\n",
      "Enter coefficient 'c':  3\n",
      "Enter coefficient 'd':  4\n",
      "Enter coefficient 'e':  5\n"
     ]
    },
    {
     "name": "stdout",
     "output_type": "stream",
     "text": [
      "Approximate roots: [-11.38195517+0.j           0.21754807+0.59140624j\n",
      "   0.21754807-0.59140624j  -0.55314097+0.j        ]\n"
     ]
    }
   ],
   "source": [
    "# 29. Build a program that determines the roots of a quartic equation using numerical methods.\n",
    "import numpy as np\n",
    "\n",
    "# Coefficients of the quartic equation: ax^4 + bx^3 + cx^2 + dx + e = 0\n",
    "a = float(input(\"Enter coefficient 'a': \"))\n",
    "b = float(input(\"Enter coefficient 'b': \"))\n",
    "c = float(input(\"Enter coefficient 'c': \"))\n",
    "d = float(input(\"Enter coefficient 'd': \"))\n",
    "e = float(input(\"Enter coefficient 'e': \"))\n",
    "\n",
    "coefficients = [a, b, c, d, e]\n",
    "roots = np.roots(coefficients)\n",
    "\n",
    "print(\"Approximate roots:\", roots)\n"
   ]
  },
  {
   "cell_type": "code",
   "execution_count": 22,
   "id": "ffbaa5df-a6b2-4844-8b90-d07469d736ce",
   "metadata": {},
   "outputs": [
    {
     "name": "stdin",
     "output_type": "stream",
     "text": [
      "Enter weight (kg) and height (m):  59 180\n"
     ]
    },
    {
     "name": "stdout",
     "output_type": "stream",
     "text": [
      "Your BMI is 0.00\n",
      "You are underweight. Consider consulting a doctor.\n"
     ]
    }
   ],
   "source": [
    "# question 30. Write a program that calculates the BMI (Body Mass Index) and provides health recommendations based on the user's input.\n",
    "weight_kg, height_m = map(float, input(\"Enter weight (kg) and height (m): \").split())\n",
    "bmi = weight_kg / (height_m ** 2)\n",
    "print(f\"Your BMI is {bmi:.2f}\")\n",
    "if bmi < 18.5:\n",
    "    print(\"You are underweight. Consider consulting a doctor.\")\n",
    "elif 18.5 <= bmi < 25:\n",
    "    print(\"You have a normal weight. Keep up the good work!\")\n",
    "elif 25 <= bmi < 30:\n",
    "    print(\"You are overweight. Consider a healthier lifestyle.\")\n",
    "else:\n",
    "    print(\"You are obese. Consult with a healthcare professional.\")\n"
   ]
  },
  {
   "cell_type": "markdown",
   "id": "e5c43d93-7cce-4278-bdc7-439f5c05d83f",
   "metadata": {},
   "source": [
    "Challenge Level"
   ]
  },
  {
   "cell_type": "code",
   "execution_count": 23,
   "id": "170feb36-8b3f-4c06-b56f-7be9f9cd0bdb",
   "metadata": {},
   "outputs": [
    {
     "name": "stdin",
     "output_type": "stream",
     "text": [
      "Enter a password:  andi\n"
     ]
    },
    {
     "name": "stdout",
     "output_type": "stream",
     "text": [
      "Password is invalid.\n"
     ]
    }
   ],
   "source": [
    "#31. Create a program that validates a password based on complexity rules (length, characters, etc.).\n",
    "password = input(\"Enter a password: \")\n",
    "if len(password) >= 8 and any(c.isalpha() for c in password) and any(c.isdigit() for c in password):\n",
    "    print(\"Password is valid.\")\n",
    "else:\n",
    "    print(\"Password is invalid.\")\n"
   ]
  },
  {
   "cell_type": "code",
   "execution_count": 24,
   "id": "61712cdf-4d8c-4edc-9778-0faf8f1d3406",
   "metadata": {},
   "outputs": [
    {
     "name": "stdout",
     "output_type": "stream",
     "text": [
      "Matrix 1:\n",
      " [[1 2]\n",
      " [3 4]]\n",
      "Matrix 2:\n",
      " [[5 6]\n",
      " [7 8]]\n",
      "Matrix Addition:\n",
      " [[ 6  8]\n",
      " [10 12]]\n",
      "Matrix Subtraction:\n",
      " [[-4 -4]\n",
      " [-4 -4]]\n"
     ]
    }
   ],
   "source": [
    "#32. Develop a program that performs matrix addition and subtraction based on user input.\n",
    "import numpy as np\n",
    "\n",
    "matrix1 = np.array([[1, 2], [3, 4]])\n",
    "matrix2 = np.array([[5, 6], [7, 8]])\n",
    "\n",
    "print(\"Matrix 1:\\n\", matrix1)\n",
    "print(\"Matrix 2:\\n\", matrix2)\n",
    "\n",
    "result_addition = matrix1 + matrix2\n",
    "result_subtraction = matrix1 - matrix2\n",
    "\n",
    "print(\"Matrix Addition:\\n\", result_addition)\n",
    "print(\"Matrix Subtraction:\\n\", result_subtraction)\n"
   ]
  },
  {
   "cell_type": "code",
   "execution_count": 25,
   "id": "b4fe3e4e-87c9-40b2-aa42-dae6f51d67af",
   "metadata": {},
   "outputs": [
    {
     "name": "stdin",
     "output_type": "stream",
     "text": [
      "Enter the first number:  34\n",
      "Enter the second number:  56\n"
     ]
    },
    {
     "name": "stdout",
     "output_type": "stream",
     "text": [
      "GCD: 2\n"
     ]
    }
   ],
   "source": [
    "#33. Write a program that calculates the greatest common divisor (GCD) of two numbers using the Euclidean algorithm.\n",
    "import math\n",
    "\n",
    "num1 = int(input(\"Enter the first number: \"))\n",
    "num2 = int(input(\"Enter the second number: \"))\n",
    "\n",
    "gcd = math.gcd(num1, num2)\n",
    "print(\"GCD:\", gcd)\n"
   ]
  },
  {
   "cell_type": "code",
   "execution_count": 26,
   "id": "1b012b94-9914-4fdb-a07d-fa2ce8a8e9fe",
   "metadata": {},
   "outputs": [
    {
     "name": "stdout",
     "output_type": "stream",
     "text": [
      "Matrix Multiplication:\n",
      " [[19 22]\n",
      " [43 50]]\n"
     ]
    }
   ],
   "source": [
    "#34. Build a program that performs matrix multiplication using nested loops and conditional statements.\n",
    "import numpy as np\n",
    "\n",
    "matrix1 = np.array([[1, 2], [3, 4]])\n",
    "matrix2 = np.array([[5, 6], [7, 8]])\n",
    "\n",
    "result_multiplication = np.dot(matrix1, matrix2)\n",
    "print(\"Matrix Multiplication:\\n\", result_multiplication)\n"
   ]
  },
  {
   "cell_type": "code",
   "execution_count": 27,
   "id": "076466f7-a45e-4131-ad9c-e9ed0716d805",
   "metadata": {},
   "outputs": [],
   "source": [
    "#35. Create a program that simulates a basic text-based tic-tac-toe game against the computer.\n",
    "#doubt in this"
   ]
  },
  {
   "cell_type": "code",
   "execution_count": 28,
   "id": "3815f012-17ed-4e65-802e-150212b8199e",
   "metadata": {},
   "outputs": [
    {
     "name": "stdin",
     "output_type": "stream",
     "text": [
      "Enter the number of terms:  34\n"
     ]
    },
    {
     "name": "stdout",
     "output_type": "stream",
     "text": [
      "0 1 1 2 3 5 8 13 21 34 55 89 144 233 377 610 987 1597 2584 4181 6765 10946 17711 28657 46368 75025 121393 196418 317811 514229 832040 1346269 2178309 3524578 "
     ]
    }
   ],
   "source": [
    "#36. Write a program that generates Fibonacci numbers up to a specified term using iterative methods.\n",
    "n = int(input(\"Enter the number of terms: \"))\n",
    "a, b = 0, 1\n",
    "for _ in range(n):\n",
    "    print(a, end=\" \")\n",
    "    a, b = b, a + b\n"
   ]
  },
  {
   "cell_type": "code",
   "execution_count": 30,
   "id": "888bb2e0-e967-44ce-88f5-3559f2534b83",
   "metadata": {},
   "outputs": [
    {
     "name": "stdin",
     "output_type": "stream",
     "text": [
      "Enter the term number:  3\n"
     ]
    },
    {
     "name": "stdout",
     "output_type": "stream",
     "text": [
      "The 3th term of the Fibonacci sequence is 2.\n"
     ]
    }
   ],
   "source": [
    "#37. Develop a program that calculates the nth term of the Fibonacci sequence using memoization.\n",
    "def fibonacci(n, memo={}):\n",
    "    if n in memo:\n",
    "        return memo[n]\n",
    "    if n <= 2:\n",
    "        return 1\n",
    "    memo[n] = fibonacci(n - 1, memo) + fibonacci(n - 2, memo)\n",
    "    return memo[n]\n",
    "\n",
    "n = int(input(\"Enter the term number: \"))\n",
    "result = fibonacci(n)\n",
    "print(f\"The {n}th term of the Fibonacci sequence is {result}.\")\n"
   ]
  },
  {
   "cell_type": "code",
   "execution_count": 31,
   "id": "90810ea1-713d-407c-8740-6f53a89e473c",
   "metadata": {},
   "outputs": [
    {
     "name": "stdin",
     "output_type": "stream",
     "text": [
      "Enter the year:  2023\n",
      "Enter the month (1-12):  9\n"
     ]
    },
    {
     "name": "stdout",
     "output_type": "stream",
     "text": [
      "Calendar:\n",
      "   September 2023\n",
      "Mo Tu We Th Fr Sa Su\n",
      "             1  2  3\n",
      " 4  5  6  7  8  9 10\n",
      "11 12 13 14 15 16 17\n",
      "18 19 20 21 22 23 24\n",
      "25 26 27 28 29 30\n",
      "\n"
     ]
    }
   ],
   "source": [
    "#38. Create a program that generates a calendar for a given month and year using conditional statements.\n",
    "import calendar\n",
    "\n",
    "year = int(input(\"Enter the year: \"))\n",
    "month = int(input(\"Enter the month (1-12): \"))\n",
    "\n",
    "cal = calendar.month(year, month)\n",
    "print(\"Calendar:\")\n",
    "print(cal)\n"
   ]
  },
  {
   "cell_type": "code",
   "execution_count": 32,
   "id": "ee2b5754-d1c3-4e60-8f54-c316d4880492",
   "metadata": {},
   "outputs": [],
   "source": [
    "#39. Build a program that simulates a basic text-based blackjack game against the computer.\n",
    "#i havw doubt in this "
   ]
  },
  {
   "cell_type": "code",
   "execution_count": 33,
   "id": "3b65a056-3c3d-4953-bea1-ba6f55c3cc5e",
   "metadata": {},
   "outputs": [
    {
     "name": "stdin",
     "output_type": "stream",
     "text": [
      "Enter a number:  65\n"
     ]
    },
    {
     "name": "stdout",
     "output_type": "stream",
     "text": [
      "Prime Factors: [5, 13]\n"
     ]
    }
   ],
   "source": [
    "#40. Write a program that generates the prime factors of a given number using trial division.\n",
    "def prime_factors(n):\n",
    "    factors = []\n",
    "    divisor = 2\n",
    "    while n > 1:\n",
    "        while n % divisor == 0:\n",
    "            factors.append(divisor)\n",
    "            n //= divisor\n",
    "        divisor += 1\n",
    "    return factors\n",
    "\n",
    "number = int(input(\"Enter a number: \"))\n",
    "factors = prime_factors(number)\n",
    "print(\"Prime Factors:\", factors)\n"
   ]
  },
  {
   "cell_type": "code",
   "execution_count": null,
   "id": "96c4e8ae-49a6-4969-8d21-995cf2478a3a",
   "metadata": {},
   "outputs": [],
   "source": []
  }
 ],
 "metadata": {
  "kernelspec": {
   "display_name": "Python 3 (ipykernel)",
   "language": "python",
   "name": "python3"
  },
  "language_info": {
   "codemirror_mode": {
    "name": "ipython",
    "version": 3
   },
   "file_extension": ".py",
   "mimetype": "text/x-python",
   "name": "python",
   "nbconvert_exporter": "python",
   "pygments_lexer": "ipython3",
   "version": "3.10.8"
  }
 },
 "nbformat": 4,
 "nbformat_minor": 5
}
