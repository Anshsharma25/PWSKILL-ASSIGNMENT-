{
 "cells": [
  {
   "cell_type": "markdown",
   "id": "08d21dc6-abc2-420c-984e-5a0fca24f551",
   "metadata": {},
   "source": [
    "Problem 1.Given an array of n numbers, give an algorithm which gives the element appearing maximum\n",
    "number of times?"
   ]
  },
  {
   "cell_type": "code",
   "execution_count": 1,
   "id": "db5ce0fc-b23f-4f50-82fd-90764c03cc7f",
   "metadata": {
    "tags": []
   },
   "outputs": [
    {
     "name": "stdout",
     "output_type": "stream",
     "text": [
      "Element appearing maximum number of times: 2\n"
     ]
    }
   ],
   "source": [
    "from collections import Counter\n",
    "\n",
    "def max_number(arr):\n",
    "    counts = Counter(arr)\n",
    "    return max(counts , key=counts.get)\n",
    "\n",
    "arr = [1, 2, 3, 4, 2, 2, 4, 2, 5, 6, 2]\n",
    "print(\"Element appearing maximum number of times:\", max_number(arr))"
   ]
  },
  {
   "cell_type": "markdown",
   "id": "eeaa3cf6-39b5-4e72-a555-c82fbbd40e4b",
   "metadata": {},
   "source": [
    "Problem 2 : We are given a list of n-1 integers and these integers are in the range of 1 to n . There are no\n",
    "duplicates in the list. One of the integers is missing in the list. Give an algorithm to find that element Ex:\n",
    "[1,2,4,6,3,7,8] 5 is the missing num."
   ]
  },
  {
   "cell_type": "code",
   "execution_count": 2,
   "id": "4067726a-e9b1-4449-8d85-8254f566b4ab",
   "metadata": {
    "tags": []
   },
   "outputs": [
    {
     "name": "stdout",
     "output_type": "stream",
     "text": [
      "Missing number: 8\n"
     ]
    }
   ],
   "source": [
    "def find_missing_number(arr):\n",
    "    n = len(arr) + 1\n",
    "    total_sum = (n * (n + 1)) // 2 # we using this formula \n",
    "    arr_sum = sum(arr)\n",
    "    missing_num = total_sum - arr_sum\n",
    "    return missing_num\n",
    "\n",
    "# Example usage:\n",
    "arr = [1, 2, 4, 5, 3, 7, 6]\n",
    "print(\"Missing number:\", find_missing_number(arr))\n"
   ]
  },
  {
   "cell_type": "markdown",
   "id": "61576bf7-93c5-419f-bdc2-271c38f0324e",
   "metadata": {},
   "source": [
    "Problem 3 : Given an array of n positive numbers. All numbers occurs even number of times except 1 which\n",
    "occurs odd number of times. Find that number in O(n) time and O(1) space. Ex: [1,2,3,2,3,1,3]. 3 is repeats odd\n",
    "times."
   ]
  },
  {
   "cell_type": "code",
   "execution_count": 3,
   "id": "b8d24f15-78c8-4e1c-bb34-8299ef8f975e",
   "metadata": {
    "tags": []
   },
   "outputs": [
    {
     "name": "stdout",
     "output_type": "stream",
     "text": [
      "Number occurring odd number of times: 3\n"
     ]
    }
   ],
   "source": [
    "def find_odd_occurrence(arr):\n",
    "    count = {}\n",
    "    for num in arr:\n",
    "        if num in count:\n",
    "            count[num] += 1\n",
    "        else:\n",
    "            count[num] = 1\n",
    "            \n",
    "    for num, frequency in count.items():\n",
    "        if frequency % 2 != 0:\n",
    "            return num\n",
    "\n",
    "# Example usage:\n",
    "arr = [1, 2, 3, 2, 3, 1, 3]\n",
    "print(\"Number occurring odd number of times:\", find_odd_occurrence(arr))"
   ]
  },
  {
   "cell_type": "markdown",
   "id": "88278c07-5520-4496-986b-3f061d984058",
   "metadata": {},
   "source": [
    "Problem 4 : Given an array of n elements. Find two elements in the array such that their sum is equal to given\n",
    "element K."
   ]
  },
  {
   "cell_type": "code",
   "execution_count": 4,
   "id": "f3b7a0b2-336d-416b-ba13-c677a9816222",
   "metadata": {
    "tags": []
   },
   "outputs": [
    {
     "name": "stdout",
     "output_type": "stream",
     "text": [
      "Pair with sum 7 : (2, 5)\n"
     ]
    }
   ],
   "source": [
    "def find_pair_with_sum(arr, K):\n",
    "    arr.sort()\n",
    "    left, right = 0, len(arr) - 1\n",
    "    \n",
    "    while left < right:\n",
    "        current_sum = arr[left] + arr[right]\n",
    "        if current_sum == K:\n",
    "            return arr[left], arr[right]\n",
    "        elif current_sum < K:\n",
    "            left += 1\n",
    "        else:\n",
    "            right -= 1\n",
    "    \n",
    "    return None\n",
    "\n",
    "# Example usage:\n",
    "arr = [1, 2, 3, 4, 5]\n",
    "K = 7\n",
    "print(\"Pair with sum\", K, \":\", find_pair_with_sum(arr, K))\n"
   ]
  },
  {
   "cell_type": "markdown",
   "id": "f71d2f02-5ff2-4df4-bc06-4993c380e4db",
   "metadata": {},
   "source": [
    "Problem 5 : Given an array of both positive and negative numbers, find two numbers such that their sum is\n",
    "closest to 0. Ex: [ 1 ,60 ,-10, 70, -80,85]. Ans : -80,85."
   ]
  },
  {
   "cell_type": "code",
   "execution_count": 5,
   "id": "101f2128-e370-4ccd-9694-783903ae07eb",
   "metadata": {
    "tags": []
   },
   "outputs": [
    {
     "name": "stdout",
     "output_type": "stream",
     "text": [
      "Pair with sum closest to 0: (1, -1)\n"
     ]
    }
   ],
   "source": [
    "def closest_to_zero(arr):\n",
    "    # Dictionary to store differences and corresponding pairs\n",
    "    differences = {}\n",
    "\n",
    "    # Calculate differences and store them in the dictionary\n",
    "    for num in arr:\n",
    "        differences[abs(num)] = num\n",
    "\n",
    "    # Find the minimum difference\n",
    "    min_diff = min(differences.keys())\n",
    "\n",
    "    # Return the pair corresponding to the minimum difference\n",
    "    return differences[min_diff], -differences[min_diff]\n",
    "\n",
    "# Example usage:\n",
    "arr = [1, 60, -10, 70, -80, 85]\n",
    "print(\"Pair with sum closest to 0:\", closest_to_zero(arr))\n"
   ]
  },
  {
   "cell_type": "markdown",
   "id": "bfd5f69a-e70c-44d5-abcc-df10d990dfd9",
   "metadata": {},
   "source": [
    "Problem 6 : Given an array of n elements . Find three elements such that their sum is equal to the given\n",
    "number."
   ]
  },
  {
   "cell_type": "code",
   "execution_count": 6,
   "id": "1d5834e6-5fd4-4f8b-b4ff-db5261995bed",
   "metadata": {
    "tags": []
   },
   "outputs": [
    {
     "name": "stdout",
     "output_type": "stream",
     "text": [
      "Triplet with sum 22 : (4, 8, 10)\n"
     ]
    }
   ],
   "source": [
    "def find_triplet_with_sum(arr, target):\n",
    "    arr.sort()\n",
    "    n = len(arr)\n",
    "    for i in range(n - 2):\n",
    "        left, right = i + 1, n - 1\n",
    "        while left < right:\n",
    "            current_sum = arr[i] + arr[left] + arr[right]\n",
    "            if current_sum == target:\n",
    "                return arr[i], arr[left], arr[right]\n",
    "            elif current_sum < target:\n",
    "                left += 1\n",
    "            else:\n",
    "                right -= 1\n",
    "    return None\n",
    "\n",
    "# Example usage:\n",
    "arr = [1, 4, 45, 6, 10, 8]\n",
    "target = 22\n",
    "print(\"Triplet with sum\", target, \":\", find_triplet_with_sum(arr, target))\n"
   ]
  },
  {
   "cell_type": "markdown",
   "id": "f83ea6eb-69a5-4754-aa99-0ce60e113a0f",
   "metadata": {},
   "source": [
    "Problem 7: Find three elements i, j, k in the array such that i * i + j * j = k * k."
   ]
  },
  {
   "cell_type": "code",
   "execution_count": 7,
   "id": "263a188c-7a8e-4336-97aa-15b761077347",
   "metadata": {
    "tags": []
   },
   "outputs": [
    {
     "name": "stdout",
     "output_type": "stream",
     "text": [
      "Pythagorean triplet: (3, 4, 5)\n"
     ]
    }
   ],
   "source": [
    "def find_pythagorean_triplet(arr):\n",
    "    squared_set = set(x * x for x in arr)\n",
    "    n = len(arr)\n",
    "    for i in range(n):\n",
    "        for j in range(i + 1, n):\n",
    "            square_sum = arr[i] * arr[i] + arr[j] * arr[j]\n",
    "            if square_sum in squared_set:\n",
    "                return arr[i], arr[j], int(square_sum ** 0.5)\n",
    "    return None\n",
    "\n",
    "# Example usage:\n",
    "arr = [3, 1, 4, 6, 5]\n",
    "print(\"Pythagorean triplet:\", find_pythagorean_triplet(arr))\n"
   ]
  },
  {
   "cell_type": "markdown",
   "id": "36348f0d-4cf1-4c96-ae5b-88e2b81dcffe",
   "metadata": {},
   "source": [
    "Problem 8: Identify a majority element."
   ]
  },
  {
   "cell_type": "code",
   "execution_count": 8,
   "id": "41a7bbda-4092-4c3c-95db-5a4987377501",
   "metadata": {
    "tags": []
   },
   "outputs": [
    {
     "name": "stdout",
     "output_type": "stream",
     "text": [
      "Majority element: 4\n"
     ]
    }
   ],
   "source": [
    "def find_majority_element(arr):\n",
    "    count = 0\n",
    "    candidate = None\n",
    "    for num in arr:\n",
    "        if count == 0:\n",
    "            candidate = num\n",
    "        if num == candidate:\n",
    "            count += 1\n",
    "        else:\n",
    "            count -= 1\n",
    "    if arr.count(candidate) > len(arr) // 2:\n",
    "        return candidate\n",
    "    return None\n",
    "\n",
    "# Example usage:\n",
    "arr = [3, 3, 4, 2, 4, 4, 2, 4, 4]\n",
    "print(\"Majority element:\", find_majority_element(arr))\n"
   ]
  },
  {
   "cell_type": "markdown",
   "id": "a7ef3610-0799-47c6-af03-4dbfeea83f38",
   "metadata": {},
   "source": [
    "Problem 9: Find the row with the maximum number of 0’s."
   ]
  },
  {
   "cell_type": "code",
   "execution_count": 9,
   "id": "8377d56e-615b-44a9-b9ae-abf57b5585e3",
   "metadata": {
    "tags": []
   },
   "outputs": [
    {
     "name": "stdout",
     "output_type": "stream",
     "text": [
      "Row with maximum zeroes: 0\n"
     ]
    }
   ],
   "source": [
    "def max_zeroes_row(matrix):\n",
    "    max_zeroes = 0\n",
    "    max_zeroes_row = -1\n",
    "    for i, row in enumerate(matrix):\n",
    "        zeroes = row.count(0)\n",
    "        if zeroes > max_zeroes:\n",
    "            max_zeroes = zeroes\n",
    "            max_zeroes_row = i\n",
    "    return max_zeroes_row\n",
    "\n",
    "# Example usage:\n",
    "matrix = [\n",
    "    [1, 0, 0, 0],\n",
    "    [1, 1, 0, 0],\n",
    "    [1, 0, 0, 0],\n",
    "    [1, 1, 1, 0]\n",
    "]\n",
    "print(\"Row with maximum zeroes:\", max_zeroes_row(matrix))\n"
   ]
  },
  {
   "cell_type": "markdown",
   "id": "5bd6d2af-0752-4363-85bd-47408b96142e",
   "metadata": {},
   "source": [
    "Problem 10: Sort an array of 0’s, 1’s and 2’s."
   ]
  },
  {
   "cell_type": "code",
   "execution_count": 10,
   "id": "4ed8934a-ca8d-4885-845b-1db5f2e4c09c",
   "metadata": {
    "tags": []
   },
   "outputs": [
    {
     "name": "stdout",
     "output_type": "stream",
     "text": [
      "Sorted array: [0, 0, 0, 0, 0, 1, 1, 1, 1, 1, 2, 2]\n"
     ]
    }
   ],
   "source": [
    "def sort_colors(nums):\n",
    "    low, mid, high = 0, 0, len(nums) - 1\n",
    "    while mid <= high:\n",
    "        if nums[mid] == 0:\n",
    "            nums[low], nums[mid] = nums[mid], nums[low]\n",
    "            low += 1\n",
    "            mid += 1\n",
    "        elif nums[mid] == 1:\n",
    "            mid += 1\n",
    "        else:\n",
    "            nums[mid], nums[high] = nums[high], nums[mid]\n",
    "            high -= 1\n",
    "    return nums\n",
    "\n",
    "# Example usage:\n",
    "arr = [0, 1, 1, 0, 1, 2, 1, 2, 0, 0, 0, 1]\n",
    "print(\"Sorted array:\", sort_colors(arr))\n"
   ]
  },
  {
   "cell_type": "code",
   "execution_count": null,
   "id": "0e7547ba-0d00-4520-8125-72146a11eab0",
   "metadata": {},
   "outputs": [],
   "source": []
  }
 ],
 "metadata": {
  "kernelspec": {
   "display_name": "Python 3 (ipykernel)",
   "language": "python",
   "name": "python3"
  },
  "language_info": {
   "codemirror_mode": {
    "name": "ipython",
    "version": 3
   },
   "file_extension": ".py",
   "mimetype": "text/x-python",
   "name": "python",
   "nbconvert_exporter": "python",
   "pygments_lexer": "ipython3",
   "version": "3.11.3"
  }
 },
 "nbformat": 4,
 "nbformat_minor": 5
}
