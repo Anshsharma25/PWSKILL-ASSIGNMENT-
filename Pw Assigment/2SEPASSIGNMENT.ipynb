{
 "cells": [
  {
   "cell_type": "markdown",
   "id": "81214f1a-610e-4102-873d-e68cf6c34fa0",
   "metadata": {},
   "source": [
    "For loop Assignment \n"
   ]
  },
  {
   "cell_type": "code",
   "execution_count": 1,
   "id": "292a450d-db60-45e3-86a6-06fcfdd88974",
   "metadata": {},
   "outputs": [
    {
     "name": "stdout",
     "output_type": "stream",
     "text": [
      "0\n",
      "1\n",
      "2\n",
      "3\n",
      "4\n",
      "5\n",
      "6\n",
      "7\n",
      "8\n",
      "9\n"
     ]
    }
   ],
   "source": [
    "#basic level , Question 1\n",
    "for i in range(10):\n",
    "    print(i)"
   ]
  },
  {
   "cell_type": "code",
   "execution_count": 2,
   "id": "8b8bfdde-0f1d-4868-92a3-2defd020ea73",
   "metadata": {},
   "outputs": [
    {
     "name": "stdout",
     "output_type": "stream",
     "text": [
      "sum of  number: 57\n"
     ]
    }
   ],
   "source": [
    "#question 2 \n",
    "A = [0,12,2,9,34]\n",
    "\n",
    "sum_of_number = 0\n",
    "for num in A:\n",
    "    sum_of_number += num\n",
    "    \n",
    "print(\"sum of  number:\" , sum_of_number)"
   ]
  },
  {
   "cell_type": "code",
   "execution_count": 3,
   "id": "d765bb11-6497-44f3-83d8-02076bb9cdf3",
   "metadata": {},
   "outputs": [
    {
     "name": "stdout",
     "output_type": "stream",
     "text": [
      "reversed string:  dlrow olleh\n"
     ]
    }
   ],
   "source": [
    "# question 3\n",
    "input_string = \"hello world\"\n",
    "\n",
    "reversed_string = \"\"\n",
    "\n",
    "\n",
    "for char in reversed(input_string):\n",
    "    reversed_string += char\n",
    "print(\"reversed string: \" , reversed_string)\n",
    "    "
   ]
  },
  {
   "cell_type": "code",
   "execution_count": 4,
   "id": "c3ce1272-7085-4847-a7af-b0dea2d9de80",
   "metadata": {},
   "outputs": [
    {
     "name": "stdin",
     "output_type": "stream",
     "text": [
      "Enter a number:  5\n"
     ]
    },
    {
     "name": "stdout",
     "output_type": "stream",
     "text": [
      "Factorial of 5 is: 120\n"
     ]
    }
   ],
   "source": [
    "#question 4 \n",
    "num = int(input(\"Enter a number: \"))\n",
    "\n",
    "factorial = 1\n",
    "\n",
    "for i in range(1, num + 1):\n",
    "    factorial *= i\n",
    "print(\"Factorial of\", num, \"is:\", factorial)\n"
   ]
  },
  {
   "cell_type": "code",
   "execution_count": 5,
   "id": "d9dfe618-9433-4855-885c-59562348c433",
   "metadata": {},
   "outputs": [
    {
     "name": "stdin",
     "output_type": "stream",
     "text": [
      "Enter a number:  5\n"
     ]
    },
    {
     "name": "stdout",
     "output_type": "stream",
     "text": [
      "Multiplication table for 5 :\n",
      "5 x 1 = 5\n",
      "5 x 2 = 10\n",
      "5 x 3 = 15\n",
      "5 x 4 = 20\n",
      "5 x 5 = 25\n",
      "5 x 6 = 30\n",
      "5 x 7 = 35\n",
      "5 x 8 = 40\n",
      "5 x 9 = 45\n",
      "5 x 10 = 50\n"
     ]
    }
   ],
   "source": [
    "#question 5\n",
    "num = int(input(\"Enter a number: \"))\n",
    "\n",
    "print(\"Multiplication table for\", num, \":\")\n",
    "for i in range(1, 11):\n",
    "    result = num * i\n",
    "    print(num, \"x\", i, \"=\", result)\n"
   ]
  },
  {
   "cell_type": "code",
   "execution_count": 6,
   "id": "84074b39-7223-4a15-b48c-26fc8dba8cca",
   "metadata": {},
   "outputs": [
    {
     "name": "stdout",
     "output_type": "stream",
     "text": [
      "Number of even numbers: 4\n",
      "Number of odd numbers: 1\n"
     ]
    }
   ],
   "source": [
    "#question 6\n",
    "A = [0,12,2,9,34]\n",
    "even_count = 0\n",
    "odd_count = 0\n",
    "\n",
    "for num in A:\n",
    "    if num % 2 == 0:\n",
    "        even_count += 1\n",
    "    else:\n",
    "        odd_count += 1\n",
    "print(\"Number of even numbers:\", even_count)\n",
    "print(\"Number of odd numbers:\", odd_count)\n",
    "   "
   ]
  },
  {
   "cell_type": "code",
   "execution_count": 7,
   "id": "130075d8-0258-4916-b38d-a555131246dd",
   "metadata": {},
   "outputs": [
    {
     "name": "stdin",
     "output_type": "stream",
     "text": [
      "Enter a number:  4\n"
     ]
    },
    {
     "name": "stdout",
     "output_type": "stream",
     "text": [
      "16\n"
     ]
    }
   ],
   "source": [
    "#question 7\n",
    "num = int(input(\"Enter a number: \"))\n",
    "\n",
    "for i in range(1,6):\n",
    "    square = num ** num \n",
    "print( num*num  )"
   ]
  },
  {
   "cell_type": "code",
   "execution_count": 8,
   "id": "3b6ad126-5c7f-41ff-b72b-25b413578fac",
   "metadata": {},
   "outputs": [
    {
     "name": "stdin",
     "output_type": "stream",
     "text": [
      "Enter a string of :  harsh\n"
     ]
    },
    {
     "name": "stdout",
     "output_type": "stream",
     "text": [
      "Length of the string is: 5\n"
     ]
    }
   ],
   "source": [
    "#question 8\n",
    "input_string = input(\"Enter a string of : \")\n",
    "length = 0 \n",
    "for char in input_string:\n",
    "    length += 1\n",
    "print(\"Length of the string is:\", length)"
   ]
  },
  {
   "cell_type": "code",
   "execution_count": 9,
   "id": "26ae8591-954d-4ad9-a074-a4f46ec0f333",
   "metadata": {},
   "outputs": [
    {
     "name": "stdout",
     "output_type": "stream",
     "text": [
      "Average: 3.0\n"
     ]
    }
   ],
   "source": [
    "#question 9\n",
    "numbers = [1, 2, 3, 4, 5]\n",
    "total = 0\n",
    "count = 0\n",
    "\n",
    "for num in numbers:\n",
    "    total += num\n",
    "    count += 1\n",
    "average = total / count\n",
    "print(\"Average:\", average)\n"
   ]
  },
  {
   "cell_type": "code",
   "execution_count": 10,
   "id": "8453116e-4f7b-4cb0-b45a-30aac7fa3815",
   "metadata": {},
   "outputs": [
    {
     "name": "stdin",
     "output_type": "stream",
     "text": [
      "Enter the number of Fibonacci numbers to generate:  4\n"
     ]
    },
    {
     "name": "stdout",
     "output_type": "stream",
     "text": [
      "First 4 Fibonacci numbers:\n",
      "0 1 1 2 "
     ]
    }
   ],
   "source": [
    "#question 10\n",
    "n = int(input(\"Enter the number of Fibonacci numbers to generate: \"))\n",
    "a, b = 0, 1\n",
    "\n",
    "print(\"First\", n, \"Fibonacci numbers:\")\n",
    "for _ in range(n):\n",
    "    print(a, end=\" \")\n",
    "    a, b = b, a + b "
   ]
  },
  {
   "cell_type": "markdown",
   "id": "2eed3507-cc7a-4109-8335-21bb75a0b67b",
   "metadata": {},
   "source": [
    "intermediate level"
   ]
  },
  {
   "cell_type": "code",
   "execution_count": 11,
   "id": "711887d0-c87c-466e-b22e-5dd4b7a57ab8",
   "metadata": {},
   "outputs": [
    {
     "name": "stdout",
     "output_type": "stream",
     "text": [
      "The list contains duplicates.\n"
     ]
    }
   ],
   "source": [
    "#question 11\n",
    "def has_duplicates(lst):\n",
    "    seen = set()\n",
    "    for item in lst:\n",
    "        if item in seen:\n",
    "            return True\n",
    "        seen.add(item)\n",
    "    return False\n",
    "\n",
    "my_list = [1, 2, 3, 4, 5, 2]\n",
    "if has_duplicates(my_list):\n",
    "    print(\"The list contains duplicates.\")\n",
    "else:\n",
    "    print(\"The list does not contain duplicates.\")\n"
   ]
  },
  {
   "cell_type": "code",
   "execution_count": 12,
   "id": "aa872e80-a917-48b7-bc82-7a0e345d3260",
   "metadata": {},
   "outputs": [
    {
     "name": "stdout",
     "output_type": "stream",
     "text": [
      "Prime numbers between 10 and 50:\n",
      "11\n",
      "13\n",
      "17\n",
      "19\n",
      "23\n",
      "29\n",
      "31\n",
      "37\n",
      "41\n",
      "43\n",
      "47\n"
     ]
    }
   ],
   "source": [
    "#question 12\n",
    "def is_prime(num):\n",
    "    if num <= 1:\n",
    "        return False\n",
    "    for i in range(2, int(num**0.5) + 1):\n",
    "        if num % i == 0:\n",
    "            return False\n",
    "    return True\n",
    "\n",
    "start = 10\n",
    "end = 50\n",
    "\n",
    "print(f\"Prime numbers between {start} and {end}:\")\n",
    "for number in range(start, end + 1):\n",
    "    if is_prime(number):\n",
    "        print(number)\n"
   ]
  },
  {
   "cell_type": "code",
   "execution_count": 13,
   "id": "8bcb6b51-96ef-48de-8566-0bdf4791700a",
   "metadata": {},
   "outputs": [
    {
     "name": "stdout",
     "output_type": "stream",
     "text": [
      "Number of vowels in the string: 3\n"
     ]
    }
   ],
   "source": [
    "#question 13\n",
    "def count_vowels(text):\n",
    "    vowels = \"aeiouAEIOU\"\n",
    "    count = 0\n",
    "    for char in text:\n",
    "        if char in vowels:\n",
    "            count += 1\n",
    "    return count\n",
    "\n",
    "input_str = \"Hello, World!\"\n",
    "print(f\"Number of vowels in the string: {count_vowels(input_str)}\")\n"
   ]
  },
  {
   "cell_type": "code",
   "execution_count": 14,
   "id": "54f549f6-bea0-4adb-9c05-57859e7975df",
   "metadata": {},
   "outputs": [
    {
     "name": "stdout",
     "output_type": "stream",
     "text": [
      "The maximum element in the 2D list is 9\n"
     ]
    }
   ],
   "source": [
    "#question 14\n",
    "matrix = [\n",
    "    [1, 2, 3],\n",
    "    [4, 5, 6],\n",
    "    [7, 8, 9]\n",
    "]\n",
    "\n",
    "max_element = matrix[0][0]\n",
    "for row in matrix:\n",
    "    for element in row:\n",
    "        if element > max_element:\n",
    "            max_element = element\n",
    "\n",
    "print(f\"The maximum element in the 2D list is {max_element}\")\n"
   ]
  },
  {
   "cell_type": "code",
   "execution_count": 15,
   "id": "399550f6-3c47-4a03-ba32-7638f89e10ec",
   "metadata": {},
   "outputs": [
    {
     "name": "stdout",
     "output_type": "stream",
     "text": [
      "List after removing 2: [1, 3, 4, 5]\n"
     ]
    }
   ],
   "source": [
    "#question 15\n",
    "def remove_element(lst, target):\n",
    "    result = []\n",
    "    for item in lst:\n",
    "        if item != target:\n",
    "            result.append(item)\n",
    "    return result\n",
    "\n",
    "my_list = [1, 2, 3, 2, 4, 2, 5]\n",
    "element_to_remove = 2\n",
    "new_list = remove_element(my_list, element_to_remove)\n",
    "print(f\"List after removing {element_to_remove}: {new_list}\")\n"
   ]
  },
  {
   "cell_type": "code",
   "execution_count": 16,
   "id": "d367da9b-b55b-4e6b-863f-c396b5f838bd",
   "metadata": {},
   "outputs": [
    {
     "name": "stdout",
     "output_type": "stream",
     "text": [
      "1 x 1 = 1\n",
      "1 x 2 = 2\n",
      "1 x 3 = 3\n",
      "1 x 4 = 4\n",
      "1 x 5 = 5\n",
      "1 x 6 = 6\n",
      "1 x 7 = 7\n",
      "1 x 8 = 8\n",
      "1 x 9 = 9\n",
      "1 x 10 = 10\n",
      "2 x 1 = 2\n",
      "2 x 2 = 4\n",
      "2 x 3 = 6\n",
      "2 x 4 = 8\n",
      "2 x 5 = 10\n",
      "2 x 6 = 12\n",
      "2 x 7 = 14\n",
      "2 x 8 = 16\n",
      "2 x 9 = 18\n",
      "2 x 10 = 20\n",
      "3 x 1 = 3\n",
      "3 x 2 = 6\n",
      "3 x 3 = 9\n",
      "3 x 4 = 12\n",
      "3 x 5 = 15\n",
      "3 x 6 = 18\n",
      "3 x 7 = 21\n",
      "3 x 8 = 24\n",
      "3 x 9 = 27\n",
      "3 x 10 = 30\n",
      "4 x 1 = 4\n",
      "4 x 2 = 8\n",
      "4 x 3 = 12\n",
      "4 x 4 = 16\n",
      "4 x 5 = 20\n",
      "4 x 6 = 24\n",
      "4 x 7 = 28\n",
      "4 x 8 = 32\n",
      "4 x 9 = 36\n",
      "4 x 10 = 40\n",
      "5 x 1 = 5\n",
      "5 x 2 = 10\n",
      "5 x 3 = 15\n",
      "5 x 4 = 20\n",
      "5 x 5 = 25\n",
      "5 x 6 = 30\n",
      "5 x 7 = 35\n",
      "5 x 8 = 40\n",
      "5 x 9 = 45\n",
      "5 x 10 = 50\n"
     ]
    }
   ],
   "source": [
    "#question 16\n",
    "for i in range(1, 6):\n",
    "    for j in range(1, 11):\n",
    "        print(f\"{i} x {j} = {i * j}\")\n"
   ]
  },
  {
   "cell_type": "code",
   "execution_count": 17,
   "id": "26d0de87-71d6-49f9-b39c-acc7bb526ccf",
   "metadata": {},
   "outputs": [
    {
     "name": "stdout",
     "output_type": "stream",
     "text": [
      "Fahrenheit Temperatures: [32, 68, 100, 212]\n",
      "Celsius Temperatures: [0.0, 20.0, 37.77777777777778, 100.0]\n"
     ]
    }
   ],
   "source": [
    "#question 17\n",
    "def fahrenheit_to_celsius(fahrenheit):\n",
    "    return (fahrenheit - 32) * 5/9\n",
    "\n",
    "fahrenheit_temperatures = [32, 68, 100, 212]\n",
    "celsius_temperatures = []\n",
    "\n",
    "for temp in fahrenheit_temperatures:\n",
    "    celsius = fahrenheit_to_celsius(temp)\n",
    "    celsius_temperatures.append(celsius)\n",
    "\n",
    "print(\"Fahrenheit Temperatures:\", fahrenheit_temperatures)\n",
    "print(\"Celsius Temperatures:\", celsius_temperatures)\n"
   ]
  },
  {
   "cell_type": "code",
   "execution_count": 18,
   "id": "226603d2-f667-4c53-949e-aeaaa87cd9aa",
   "metadata": {},
   "outputs": [
    {
     "name": "stdout",
     "output_type": "stream",
     "text": [
      "Common elements: [3, 4, 5]\n"
     ]
    }
   ],
   "source": [
    "#question 18\n",
    "list1 = [1, 2, 3, 4, 5]\n",
    "list2 = [3, 4, 5, 6, 7]\n",
    "\n",
    "common_elements = []\n",
    "\n",
    "for item in list1:\n",
    "    if item in list2:\n",
    "        common_elements.append(item)\n",
    "\n",
    "print(\"Common elements:\", common_elements)\n"
   ]
  },
  {
   "cell_type": "code",
   "execution_count": 19,
   "id": "cb6f1bf4-1f3d-4e09-9eae-c0e0cefda5c0",
   "metadata": {},
   "outputs": [
    {
     "name": "stdout",
     "output_type": "stream",
     "text": [
      "*\n",
      "**\n",
      "***\n",
      "****\n",
      "*****\n"
     ]
    }
   ],
   "source": [
    "#question 19\n",
    "n = 5\n",
    "for i in range(1, n + 1):\n",
    "    print(\"*\" * i)\n"
   ]
  },
  {
   "cell_type": "code",
   "execution_count": 20,
   "id": "a62868ed-7298-495f-9b21-f814e409f576",
   "metadata": {},
   "outputs": [
    {
     "name": "stdout",
     "output_type": "stream",
     "text": [
      "The GCD of 36 and 48 is 12\n"
     ]
    }
   ],
   "source": [
    "#question 20\n",
    "def gcd(a, b):\n",
    "    while b:\n",
    "        a, b = b, a % b\n",
    "    return a\n",
    "\n",
    "num1 = 36\n",
    "num2 = 48\n",
    "\n",
    "result = gcd(num1, num2)\n",
    "print(f\"The GCD of {num1} and {num2} is {result}\")\n"
   ]
  },
  {
   "cell_type": "code",
   "execution_count": 21,
   "id": "71cde1a7-6e7e-47e0-8b11-dbb8c4e649a0",
   "metadata": {},
   "outputs": [
    {
     "name": "stdout",
     "output_type": "stream",
     "text": [
      "Sum of digits for each number: [6, 9, 21]\n"
     ]
    }
   ],
   "source": [
    "#question 21\n",
    "numbers = [123, 45, 678]\n",
    "\n",
    "digit_sum = [sum(map(int, str(num))) for num in numbers]\n",
    "\n",
    "print(\"Sum of digits for each number:\", digit_sum)\n"
   ]
  },
  {
   "cell_type": "code",
   "execution_count": 22,
   "id": "fb036093-c268-4f6d-8bd3-8a52417b7cd8",
   "metadata": {},
   "outputs": [
    {
     "name": "stdout",
     "output_type": "stream",
     "text": [
      "Prime factors of 36: [2, 3]\n"
     ]
    }
   ],
   "source": [
    "#question 22\n",
    "def prime_factors(n):\n",
    "    factors = [factor for factor in range(2, n + 1) if n % factor == 0]\n",
    "    prime_factors = [factor for factor in factors if all(factor % div != 0 for div in range(2, factor))]\n",
    "    return prime_factors\n",
    "\n",
    "number = 36\n",
    "factors = prime_factors(number)\n",
    "\n",
    "print(f\"Prime factors of {number}: {factors}\")\n"
   ]
  },
  {
   "cell_type": "code",
   "execution_count": 23,
   "id": "0c4276cd-04a3-4535-9671-ee9fc68d098e",
   "metadata": {},
   "outputs": [
    {
     "name": "stdout",
     "output_type": "stream",
     "text": [
      "Unique elements: [1, 2, 3, 4, 5]\n"
     ]
    }
   ],
   "source": [
    "#question 23\n",
    "original_list = [1, 2, 2, 3, 4, 4, 5]\n",
    "\n",
    "unique_elements = list(set(original_list))\n",
    "\n",
    "print(\"Unique elements:\", unique_elements)\n"
   ]
  },
  {
   "cell_type": "code",
   "execution_count": 24,
   "id": "b10ef0ab-724c-4ebf-9acf-836182c87a79",
   "metadata": {},
   "outputs": [
    {
     "name": "stdout",
     "output_type": "stream",
     "text": [
      "Palindromic numbers: [1, 2, 3, 4, 5, 6, 7, 8, 9, 11, 22, 33, 44, 55, 66, 77, 88, 99]\n"
     ]
    }
   ],
   "source": [
    "#question 24\n",
    "limit = 100\n",
    "\n",
    "palindromic_numbers = [num for num in range(1, limit + 1) if str(num) == str(num)[::-1]]\n",
    "\n",
    "print(\"Palindromic numbers:\", palindromic_numbers)\n"
   ]
  },
  {
   "cell_type": "code",
   "execution_count": 25,
   "id": "57202437-02f5-4352-8682-048085eb0368",
   "metadata": {},
   "outputs": [
    {
     "name": "stdout",
     "output_type": "stream",
     "text": [
      "Flattened list: [1, 2, 3, 4, 5, 6, 7, 8]\n"
     ]
    }
   ],
   "source": [
    "#question 25\n",
    "nested_list = [[1, 2, 3], [4, 5], [6, 7, 8]]\n",
    "\n",
    "flattened_list = [item for sublist in nested_list for item in sublist]\n",
    "\n",
    "print(\"Flattened list:\", flattened_list)\n"
   ]
  },
  {
   "cell_type": "code",
   "execution_count": 26,
   "id": "d6c0e0c2-54d2-4059-ae57-72cd58d1583b",
   "metadata": {},
   "outputs": [
    {
     "name": "stdout",
     "output_type": "stream",
     "text": [
      "Sum of even numbers: 20\n",
      "Sum of odd numbers: 25\n"
     ]
    }
   ],
   "source": [
    "#question 26\n",
    "numbers = [1, 2, 3, 4, 5, 6, 7, 8, 9]\n",
    "\n",
    "even_sum = sum([num for num in numbers if num % 2 == 0])\n",
    "odd_sum = sum([num for num in numbers if num % 2 != 0])\n",
    "\n",
    "print(f\"Sum of even numbers: {even_sum}\")\n",
    "print(f\"Sum of odd numbers: {odd_sum}\")\n"
   ]
  },
  {
   "cell_type": "code",
   "execution_count": 27,
   "id": "8809c021-6f44-4d78-8b6d-4affdda4b155",
   "metadata": {},
   "outputs": [
    {
     "name": "stdout",
     "output_type": "stream",
     "text": [
      "Squares of odd numbers: [1, 9, 25, 49, 81]\n"
     ]
    }
   ],
   "source": [
    "#question 27\n",
    "squares_of_odd_numbers = [num**2 for num in range(1, 11) if num % 2 != 0]\n",
    "\n",
    "print(\"Squares of odd numbers:\", squares_of_odd_numbers)\n"
   ]
  },
  {
   "cell_type": "code",
   "execution_count": 28,
   "id": "d2653370-261f-41e9-a7ef-ac2f050d8673",
   "metadata": {},
   "outputs": [
    {
     "name": "stdout",
     "output_type": "stream",
     "text": [
      "Combined dictionary: {'a': 1, 'b': 2, 'c': 3}\n"
     ]
    }
   ],
   "source": [
    "#question 28\n",
    "keys = ['a', 'b', 'c']\n",
    "values = [1, 2, 3]\n",
    "\n",
    "combined_dict = {key: value for key, value in zip(keys, values)}\n",
    "\n",
    "print(\"Combined dictionary:\", combined_dict)\n"
   ]
  },
  {
   "cell_type": "code",
   "execution_count": 29,
   "id": "33da1ed7-70a4-4a76-8931-d3af4030f34e",
   "metadata": {},
   "outputs": [
    {
     "name": "stdout",
     "output_type": "stream",
     "text": [
      "Vowels: ['e', 'o', 'o']\n"
     ]
    }
   ],
   "source": [
    "#question 29\n",
    "text = \"Hello, World!\"\n",
    "\n",
    "vowels = [char for char in text if char.lower() in 'aeiou']\n",
    "\n",
    "print(\"Vowels:\", vowels)\n"
   ]
  },
  {
   "cell_type": "code",
   "execution_count": 30,
   "id": "8da544ae-5d82-43f9-b986-0760487ab695",
   "metadata": {},
   "outputs": [
    {
     "name": "stdout",
     "output_type": "stream",
     "text": [
      "Numeric strings: []\n"
     ]
    }
   ],
   "source": [
    "#question 30\n",
    "string_list = [\"abc123\", \"def456\", \"ghi789\"]\n",
    "\n",
    "numeric_strings = [s for s in string_list if s.isdigit()]\n",
    "\n",
    "print(\"Numeric strings:\", numeric_strings)\n"
   ]
  },
  {
   "cell_type": "code",
   "execution_count": 31,
   "id": "4bd43128-76f6-47ef-93b7-f3b36d1a352e",
   "metadata": {},
   "outputs": [
    {
     "name": "stdout",
     "output_type": "stream",
     "text": [
      "Prime numbers up to 100 : [2, 3, 5, 7, 11, 13, 17, 19, 23, 29, 31, 37, 41, 43, 47, 53, 59, 61, 67, 71, 73, 79, 83, 89, 97]\n"
     ]
    }
   ],
   "source": [
    "#question 31\n",
    "def sieve_of_eratosthenes(limit):\n",
    "    sieve = [True] * (limit + 1)\n",
    "    sieve[0] = sieve[1] = False\n",
    "\n",
    "    for num in range(2, int(limit**0.5) + 1):\n",
    "        if sieve[num]:\n",
    "            for multiple in range(num*num, limit + 1, num):\n",
    "                sieve[multiple] = False\n",
    "\n",
    "    return [num for num in range(2, limit + 1) if sieve[num]]\n",
    "\n",
    "limit = 100\n",
    "prime_numbers = sieve_of_eratosthenes(limit)\n",
    "\n",
    "print(\"Prime numbers up to\", limit, \":\", prime_numbers)\n"
   ]
  },
  {
   "cell_type": "code",
   "execution_count": 32,
   "id": "c0df143b-827b-4e03-adf9-9b79b8c94b65",
   "metadata": {},
   "outputs": [
    {
     "name": "stdout",
     "output_type": "stream",
     "text": [
      "Pythagorean triplets up to 20 : [(3, 4, 5), (5, 12, 13), (6, 8, 10), (8, 15, 17), (9, 12, 15), (12, 16, 20)]\n"
     ]
    }
   ],
   "source": [
    "#question 32\n",
    "def generate_pythagorean_triplets(limit):\n",
    "    triplets = []\n",
    "    \n",
    "    for a in range(1, limit + 1):\n",
    "        for b in range(a, limit + 1):\n",
    "            c_squared = a**2 + b**2\n",
    "            c = int(c_squared**0.5)\n",
    "            if c <= limit and c_squared == c**2:\n",
    "                triplets.append((a, b, c))\n",
    "    \n",
    "    return triplets\n",
    "\n",
    "limit = 20\n",
    "pythagorean_triplets = generate_pythagorean_triplets(limit)\n",
    "\n",
    "print(\"Pythagorean triplets up to\", limit, \":\", pythagorean_triplets)\n"
   ]
  },
  {
   "cell_type": "code",
   "execution_count": 33,
   "id": "ee53cf2f-1e1f-45c0-8fc9-6ac752451f21",
   "metadata": {},
   "outputs": [
    {
     "name": "stdout",
     "output_type": "stream",
     "text": [
      "All possible combinations: [(1, 'a'), (1, 'b'), (1, 'c'), (2, 'a'), (2, 'b'), (2, 'c'), (3, 'a'), (3, 'b'), (3, 'c')]\n"
     ]
    }
   ],
   "source": [
    "#question 34\n",
    "list1 = [1, 2, 3]\n",
    "list2 = ['a', 'b', 'c']\n",
    "\n",
    "combinations = [(x, y) for x in list1 for y in list2]\n",
    "\n",
    "print(\"All possible combinations:\", combinations)\n"
   ]
  },
  {
   "cell_type": "code",
   "execution_count": 34,
   "id": "acd8d5ce-f2dd-4b68-a88e-a765fc321c2f",
   "metadata": {},
   "outputs": [
    {
     "name": "stdout",
     "output_type": "stream",
     "text": [
      "Mean: 3.125\n",
      "Median: 3.5\n",
      "Mode: 4\n"
     ]
    }
   ],
   "source": [
    "#question 35\n",
    "from statistics import mean, median, mode\n",
    "\n",
    "numbers = [1, 2, 2, 3, 4, 4, 4, 5]\n",
    "\n",
    "mean_value = mean(numbers)\n",
    "median_value = median(numbers)\n",
    "mode_value = mode(numbers)\n",
    "\n",
    "print(\"Mean:\", mean_value)\n",
    "print(\"Median:\", median_value)\n",
    "print(\"Mode:\", mode_value)\n"
   ]
  },
  {
   "cell_type": "code",
   "execution_count": 35,
   "id": "ecacd88d-b8af-4fc0-8ea6-ca3f464bcec2",
   "metadata": {},
   "outputs": [
    {
     "name": "stdout",
     "output_type": "stream",
     "text": [
      "[1]\n",
      "[1, 1]\n",
      "[1, 2, 1]\n",
      "[1, 3, 3, 1]\n",
      "[1, 4, 6, 4, 1]\n"
     ]
    }
   ],
   "source": [
    "#question 36\n",
    "def generate_pascals_triangle(n):\n",
    "    triangle = [[1]]\n",
    "\n",
    "    for _ in range(1, n):\n",
    "        row = [1] + [triangle[-1][i] + triangle[-1][i + 1] for i in range(len(triangle[-1]) - 1)] + [1]\n",
    "        triangle.append(row)\n",
    "\n",
    "    return triangle\n",
    "\n",
    "num_rows = 5\n",
    "pascals_triangle = generate_pascals_triangle(num_rows)\n",
    "\n",
    "for row in pascals_triangle:\n",
    "    print(row)\n"
   ]
  },
  {
   "cell_type": "code",
   "execution_count": 36,
   "id": "dd3202f8-813b-4736-a054-005f96be11de",
   "metadata": {},
   "outputs": [
    {
     "name": "stdout",
     "output_type": "stream",
     "text": [
      "Sums of digits of factorials: [1, 2, 6, 6, 3]\n"
     ]
    }
   ],
   "source": [
    "#question 37\n",
    "def factorial(n):\n",
    "    if n == 0:\n",
    "        return 1\n",
    "    return n * factorial(n - 1)\n",
    "\n",
    "sums_of_digits = [sum(map(int, str(factorial(num)))) for num in range(1, 6)]\n",
    "\n",
    "print(\"Sums of digits of factorials:\", sums_of_digits)\n"
   ]
  },
  {
   "cell_type": "code",
   "execution_count": 37,
   "id": "1c5cdac5-29ac-4194-ad12-576d1eb9f62f",
   "metadata": {},
   "outputs": [
    {
     "name": "stdout",
     "output_type": "stream",
     "text": [
      "Longest word: sentence\n"
     ]
    }
   ],
   "source": [
    "#question 37\n",
    "sentence = \"This is a sample sentence to find the longest word.\"\n",
    "\n",
    "longest_word = max(sentence.split(), key=len)\n",
    "\n",
    "print(\"Longest word:\", longest_word)\n"
   ]
  },
  {
   "cell_type": "code",
   "execution_count": 38,
   "id": "14d80bf1-99d0-4d6a-a524-e4d22465dca4",
   "metadata": {},
   "outputs": [
    {
     "name": "stdout",
     "output_type": "stream",
     "text": [
      "Strings with more than three vowels: []\n"
     ]
    }
   ],
   "source": [
    "#question 38\n",
    "strings = [\"apple\", \"banana\", \"cherry\", \"kiwi\", \"strawberry\"]\n",
    "\n",
    "filtered_strings = [string for string in strings if sum(1 for char in string if char in 'aeiouAEIOU') > 3]\n",
    "\n",
    "print(\"Strings with more than three vowels:\", filtered_strings)\n"
   ]
  },
  {
   "cell_type": "code",
   "execution_count": 39,
   "id": "123fa133-1566-43b7-a4ae-9f18a6029a9b",
   "metadata": {},
   "outputs": [
    {
     "name": "stdout",
     "output_type": "stream",
     "text": [
      "Sums of digits of numbers from 1 to 1000: [1, 2, 3, 4, 5, 6, 7, 8, 9, 1, 2, 3, 4, 5, 6, 7, 8, 9, 10, 2, 3, 4, 5, 6, 7, 8, 9, 10, 11, 3, 4, 5, 6, 7, 8, 9, 10, 11, 12, 4, 5, 6, 7, 8, 9, 10, 11, 12, 13, 5, 6, 7, 8, 9, 10, 11, 12, 13, 14, 6, 7, 8, 9, 10, 11, 12, 13, 14, 15, 7, 8, 9, 10, 11, 12, 13, 14, 15, 16, 8, 9, 10, 11, 12, 13, 14, 15, 16, 17, 9, 10, 11, 12, 13, 14, 15, 16, 17, 18, 1, 2, 3, 4, 5, 6, 7, 8, 9, 10, 2, 3, 4, 5, 6, 7, 8, 9, 10, 11, 3, 4, 5, 6, 7, 8, 9, 10, 11, 12, 4, 5, 6, 7, 8, 9, 10, 11, 12, 13, 5, 6, 7, 8, 9, 10, 11, 12, 13, 14, 6, 7, 8, 9, 10, 11, 12, 13, 14, 15, 7, 8, 9, 10, 11, 12, 13, 14, 15, 16, 8, 9, 10, 11, 12, 13, 14, 15, 16, 17, 9, 10, 11, 12, 13, 14, 15, 16, 17, 18, 10, 11, 12, 13, 14, 15, 16, 17, 18, 19, 2, 3, 4, 5, 6, 7, 8, 9, 10, 11, 3, 4, 5, 6, 7, 8, 9, 10, 11, 12, 4, 5, 6, 7, 8, 9, 10, 11, 12, 13, 5, 6, 7, 8, 9, 10, 11, 12, 13, 14, 6, 7, 8, 9, 10, 11, 12, 13, 14, 15, 7, 8, 9, 10, 11, 12, 13, 14, 15, 16, 8, 9, 10, 11, 12, 13, 14, 15, 16, 17, 9, 10, 11, 12, 13, 14, 15, 16, 17, 18, 10, 11, 12, 13, 14, 15, 16, 17, 18, 19, 11, 12, 13, 14, 15, 16, 17, 18, 19, 20, 3, 4, 5, 6, 7, 8, 9, 10, 11, 12, 4, 5, 6, 7, 8, 9, 10, 11, 12, 13, 5, 6, 7, 8, 9, 10, 11, 12, 13, 14, 6, 7, 8, 9, 10, 11, 12, 13, 14, 15, 7, 8, 9, 10, 11, 12, 13, 14, 15, 16, 8, 9, 10, 11, 12, 13, 14, 15, 16, 17, 9, 10, 11, 12, 13, 14, 15, 16, 17, 18, 10, 11, 12, 13, 14, 15, 16, 17, 18, 19, 11, 12, 13, 14, 15, 16, 17, 18, 19, 20, 12, 13, 14, 15, 16, 17, 18, 19, 20, 21, 4, 5, 6, 7, 8, 9, 10, 11, 12, 13, 5, 6, 7, 8, 9, 10, 11, 12, 13, 14, 6, 7, 8, 9, 10, 11, 12, 13, 14, 15, 7, 8, 9, 10, 11, 12, 13, 14, 15, 16, 8, 9, 10, 11, 12, 13, 14, 15, 16, 17, 9, 10, 11, 12, 13, 14, 15, 16, 17, 18, 10, 11, 12, 13, 14, 15, 16, 17, 18, 19, 11, 12, 13, 14, 15, 16, 17, 18, 19, 20, 12, 13, 14, 15, 16, 17, 18, 19, 20, 21, 13, 14, 15, 16, 17, 18, 19, 20, 21, 22, 5, 6, 7, 8, 9, 10, 11, 12, 13, 14, 6, 7, 8, 9, 10, 11, 12, 13, 14, 15, 7, 8, 9, 10, 11, 12, 13, 14, 15, 16, 8, 9, 10, 11, 12, 13, 14, 15, 16, 17, 9, 10, 11, 12, 13, 14, 15, 16, 17, 18, 10, 11, 12, 13, 14, 15, 16, 17, 18, 19, 11, 12, 13, 14, 15, 16, 17, 18, 19, 20, 12, 13, 14, 15, 16, 17, 18, 19, 20, 21, 13, 14, 15, 16, 17, 18, 19, 20, 21, 22, 14, 15, 16, 17, 18, 19, 20, 21, 22, 23, 6, 7, 8, 9, 10, 11, 12, 13, 14, 15, 7, 8, 9, 10, 11, 12, 13, 14, 15, 16, 8, 9, 10, 11, 12, 13, 14, 15, 16, 17, 9, 10, 11, 12, 13, 14, 15, 16, 17, 18, 10, 11, 12, 13, 14, 15, 16, 17, 18, 19, 11, 12, 13, 14, 15, 16, 17, 18, 19, 20, 12, 13, 14, 15, 16, 17, 18, 19, 20, 21, 13, 14, 15, 16, 17, 18, 19, 20, 21, 22, 14, 15, 16, 17, 18, 19, 20, 21, 22, 23, 15, 16, 17, 18, 19, 20, 21, 22, 23, 24, 7, 8, 9, 10, 11, 12, 13, 14, 15, 16, 8, 9, 10, 11, 12, 13, 14, 15, 16, 17, 9, 10, 11, 12, 13, 14, 15, 16, 17, 18, 10, 11, 12, 13, 14, 15, 16, 17, 18, 19, 11, 12, 13, 14, 15, 16, 17, 18, 19, 20, 12, 13, 14, 15, 16, 17, 18, 19, 20, 21, 13, 14, 15, 16, 17, 18, 19, 20, 21, 22, 14, 15, 16, 17, 18, 19, 20, 21, 22, 23, 15, 16, 17, 18, 19, 20, 21, 22, 23, 24, 16, 17, 18, 19, 20, 21, 22, 23, 24, 25, 8, 9, 10, 11, 12, 13, 14, 15, 16, 17, 9, 10, 11, 12, 13, 14, 15, 16, 17, 18, 10, 11, 12, 13, 14, 15, 16, 17, 18, 19, 11, 12, 13, 14, 15, 16, 17, 18, 19, 20, 12, 13, 14, 15, 16, 17, 18, 19, 20, 21, 13, 14, 15, 16, 17, 18, 19, 20, 21, 22, 14, 15, 16, 17, 18, 19, 20, 21, 22, 23, 15, 16, 17, 18, 19, 20, 21, 22, 23, 24, 16, 17, 18, 19, 20, 21, 22, 23, 24, 25, 17, 18, 19, 20, 21, 22, 23, 24, 25, 26, 9, 10, 11, 12, 13, 14, 15, 16, 17, 18, 10, 11, 12, 13, 14, 15, 16, 17, 18, 19, 11, 12, 13, 14, 15, 16, 17, 18, 19, 20, 12, 13, 14, 15, 16, 17, 18, 19, 20, 21, 13, 14, 15, 16, 17, 18, 19, 20, 21, 22, 14, 15, 16, 17, 18, 19, 20, 21, 22, 23, 15, 16, 17, 18, 19, 20, 21, 22, 23, 24, 16, 17, 18, 19, 20, 21, 22, 23, 24, 25, 17, 18, 19, 20, 21, 22, 23, 24, 25, 26, 18, 19, 20, 21, 22, 23, 24, 25, 26, 27, 1]\n"
     ]
    }
   ],
   "source": [
    "#question 39\n",
    "sums_of_digits = [sum(map(int, str(num))) for num in range(1, 1001)]\n",
    "\n",
    "print(\"Sums of digits of numbers from 1 to 1000:\", sums_of_digits)\n"
   ]
  },
  {
   "cell_type": "code",
   "execution_count": 40,
   "id": "c8aed455-85b4-446b-bd28-65ce369c00d9",
   "metadata": {},
   "outputs": [
    {
     "name": "stdout",
     "output_type": "stream",
     "text": [
      "Prime palindromic numbers: [2, 3, 5, 7, 11, 101, 131, 151, 181, 191, 313, 353, 373, 383, 727, 757, 787, 797, 919, 929]\n"
     ]
    }
   ],
   "source": [
    "#question 40\n",
    "def is_prime(num):\n",
    "    if num <= 1:\n",
    "        return False\n",
    "    for i in range(2, int(num**0.5) + 1):\n",
    "        if num % i == 0:\n",
    "            return False\n",
    "    return True\n",
    "\n",
    "palindromic_primes = [num for num in range(1, 1001) if is_prime(num) and str(num) == str(num)[::-1]]\n",
    "\n",
    "print(\"Prime palindromic numbers:\", palindromic_primes)\n"
   ]
  },
  {
   "cell_type": "code",
   "execution_count": null,
   "id": "bbc1e075-b7cb-4d28-9e37-d9bdc4d39d61",
   "metadata": {},
   "outputs": [],
   "source": []
  }
 ],
 "metadata": {
  "kernelspec": {
   "display_name": "Python 3 (ipykernel)",
   "language": "python",
   "name": "python3"
  },
  "language_info": {
   "codemirror_mode": {
    "name": "ipython",
    "version": 3
   },
   "file_extension": ".py",
   "mimetype": "text/x-python",
   "name": "python",
   "nbconvert_exporter": "python",
   "pygments_lexer": "ipython3",
   "version": "3.10.8"
  }
 },
 "nbformat": 4,
 "nbformat_minor": 5
}
